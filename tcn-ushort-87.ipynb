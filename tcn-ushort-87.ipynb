{
 "cells": [
  {
   "cell_type": "code",
   "execution_count": 1,
   "metadata": {},
   "outputs": [
    {
     "name": "stdout",
     "output_type": "stream",
     "text": [
      "Looking in indexes: http://mirrors.tencentyun.com/pypi/simple\n",
      "Collecting keras-tcn\n",
      "  Downloading http://mirrors.tencentyun.com/pypi/packages/a8/5b/31eed031c196dc192eddf346f053ec6a97aefa4b931164fd8665c92a9d7d/keras_tcn-3.1.1-py3-none-any.whl (11 kB)\n",
      "Collecting keras==2.3.1\n",
      "  Downloading http://mirrors.tencentyun.com/pypi/packages/ad/fd/6bfe87920d7f4fd475acd28500a42482b6b84479832bdc0fe9e589a60ceb/Keras-2.3.1-py2.py3-none-any.whl (377 kB)\n",
      "\u001b[K     |████████████████████████████████| 377 kB 871 kB/s eta 0:00:01\n",
      "\u001b[?25hRequirement already satisfied: numpy>=1.18.1 in /opt/conda/envs/tensorflow2_py3/lib/python3.6/site-packages (from keras-tcn) (1.18.5)\n",
      "Requirement already satisfied: six>=1.9.0 in /opt/conda/envs/tensorflow2_py3/lib/python3.6/site-packages (from keras==2.3.1->keras-tcn) (1.15.0)\n",
      "Requirement already satisfied: scipy>=0.14 in /opt/conda/envs/tensorflow2_py3/lib/python3.6/site-packages (from keras==2.3.1->keras-tcn) (1.5.0)\n",
      "Requirement already satisfied: keras-preprocessing>=1.0.5 in /opt/conda/envs/tensorflow2_py3/lib/python3.6/site-packages (from keras==2.3.1->keras-tcn) (1.1.0)\n",
      "Requirement already satisfied: pyyaml in /opt/conda/envs/tensorflow2_py3/lib/python3.6/site-packages (from keras==2.3.1->keras-tcn) (5.3.1)\n",
      "Requirement already satisfied: keras-applications>=1.0.6 in /opt/conda/envs/tensorflow2_py3/lib/python3.6/site-packages (from keras==2.3.1->keras-tcn) (1.0.8)\n",
      "Requirement already satisfied: h5py in /opt/conda/envs/tensorflow2_py3/lib/python3.6/site-packages (from keras==2.3.1->keras-tcn) (2.10.0)\n",
      "Installing collected packages: keras, keras-tcn\n",
      "Successfully installed keras-2.3.1 keras-tcn-3.1.1\n"
     ]
    }
   ],
   "source": [
    "!pip install keras-tcn"
   ]
  },
  {
   "cell_type": "code",
   "execution_count": 2,
   "metadata": {},
   "outputs": [],
   "source": [
    "import numpy\n",
    "from matplotlib import pyplot\n",
    "from pandas import read_csv\n",
    "import math\n",
    "from sklearn.preprocessing import MinMaxScaler\n",
    "%matplotlib inline"
   ]
  },
  {
   "cell_type": "code",
   "execution_count": 3,
   "metadata": {},
   "outputs": [
    {
     "data": {
      "text/html": [
       "<div>\n",
       "<style scoped>\n",
       "    .dataframe tbody tr th:only-of-type {\n",
       "        vertical-align: middle;\n",
       "    }\n",
       "\n",
       "    .dataframe tbody tr th {\n",
       "        vertical-align: top;\n",
       "    }\n",
       "\n",
       "    .dataframe thead th {\n",
       "        text-align: right;\n",
       "    }\n",
       "</style>\n",
       "<table border=\"1\" class=\"dataframe\">\n",
       "  <thead>\n",
       "    <tr style=\"text-align: right;\">\n",
       "      <th></th>\n",
       "      <th>短期预测功率</th>\n",
       "      <th>短期预测湿度</th>\n",
       "      <th>短期预测风向</th>\n",
       "      <th>短期预测温度</th>\n",
       "      <th>短期预测气压</th>\n",
       "      <th>实际功率</th>\n",
       "      <th>实际风速</th>\n",
       "      <th>短期预测风速</th>\n",
       "    </tr>\n",
       "  </thead>\n",
       "  <tbody>\n",
       "    <tr>\n",
       "      <th>0</th>\n",
       "      <td>34.41</td>\n",
       "      <td>75</td>\n",
       "      <td>41</td>\n",
       "      <td>14.7</td>\n",
       "      <td>1008</td>\n",
       "      <td>28.59</td>\n",
       "      <td>8.50</td>\n",
       "      <td>8.864167</td>\n",
       "    </tr>\n",
       "    <tr>\n",
       "      <th>1</th>\n",
       "      <td>33.71</td>\n",
       "      <td>75</td>\n",
       "      <td>40</td>\n",
       "      <td>14.7</td>\n",
       "      <td>1008</td>\n",
       "      <td>29.80</td>\n",
       "      <td>8.75</td>\n",
       "      <td>8.764167</td>\n",
       "    </tr>\n",
       "    <tr>\n",
       "      <th>2</th>\n",
       "      <td>33.01</td>\n",
       "      <td>75</td>\n",
       "      <td>39</td>\n",
       "      <td>14.6</td>\n",
       "      <td>1008</td>\n",
       "      <td>23.80</td>\n",
       "      <td>7.78</td>\n",
       "      <td>8.664167</td>\n",
       "    </tr>\n",
       "    <tr>\n",
       "      <th>3</th>\n",
       "      <td>32.32</td>\n",
       "      <td>75</td>\n",
       "      <td>38</td>\n",
       "      <td>14.5</td>\n",
       "      <td>1008</td>\n",
       "      <td>23.63</td>\n",
       "      <td>7.89</td>\n",
       "      <td>8.564167</td>\n",
       "    </tr>\n",
       "    <tr>\n",
       "      <th>4</th>\n",
       "      <td>31.66</td>\n",
       "      <td>75</td>\n",
       "      <td>38</td>\n",
       "      <td>14.5</td>\n",
       "      <td>1008</td>\n",
       "      <td>26.98</td>\n",
       "      <td>7.69</td>\n",
       "      <td>8.464167</td>\n",
       "    </tr>\n",
       "  </tbody>\n",
       "</table>\n",
       "</div>"
      ],
      "text/plain": [
       "   短期预测功率  短期预测湿度  短期预测风向  短期预测温度  短期预测气压   实际功率  实际风速    短期预测风速\n",
       "0   34.41      75      41    14.7    1008  28.59  8.50  8.864167\n",
       "1   33.71      75      40    14.7    1008  29.80  8.75  8.764167\n",
       "2   33.01      75      39    14.6    1008  23.80  7.78  8.664167\n",
       "3   32.32      75      38    14.5    1008  23.63  7.89  8.564167\n",
       "4   31.66      75      38    14.5    1008  26.98  7.69  8.464167"
      ]
     },
     "execution_count": 3,
     "metadata": {},
     "output_type": "execute_result"
    }
   ],
   "source": [
    "# load the dataset\n",
    "dataframe = read_csv('intecleaned-correct.csv',usecols=[1,2,4,5,6,7,8,9])\n",
    "dataset = dataframe.values\n",
    "#将整型变为float\n",
    "dataset = dataset.astype('float32')\n",
    "dataframe.head()"
   ]
  },
  {
   "cell_type": "code",
   "execution_count": 4,
   "metadata": {},
   "outputs": [],
   "source": [
    "def create_dataset(dataset, look_back,look_lag,data_step):\n",
    "    main_dataX, main_dataY ,auxi_dataX,auxi_dataY= [], [],[],[]\n",
    "    for i in range(0,len(dataset)-look_back-look_lag+1,data_step):\n",
    "        a = dataset[i:(i+look_back), 1:8] #前一天的短期预测湿度、短期预测风向、短期预测温度、\n",
    "                                        #短期预测气压、实际功率、实际风速都作为输入特征（共7个）\n",
    "        c = dataset[(i+look_back):(i+look_back+look_lag),1:5]#当天的短期预测功率、短期预测湿度、短期预测风向、短期预测温度、短期预测气压作为特征（共4个）\n",
    "        d = dataset[(i+look_back):(i+look_back+look_lag),7:8]#当天短期预测风速作为特征（共1个）\n",
    "        e = numpy.hstack([a,c])\n",
    "        e = numpy.hstack([d,e])#把上面的特征都合在一起，共12个特征\n",
    "        main_dataX.append(e) #主要输入\n",
    "        b = dataset[(i+look_back):(i+look_back+look_lag),5]\n",
    "        main_dataY.append(b) #主要输出 需要预测的功率数据\n",
    "    return numpy.array(main_dataX), numpy.array(main_dataY)#,numpy.array(auxi_dataX),numpy.array(auxi_dataY)"
   ]
  },
  {
   "cell_type": "code",
   "execution_count": 5,
   "metadata": {},
   "outputs": [],
   "source": [
    "# fix random seed for reproducibility\n",
    "numpy.random.seed(7)\n",
    "# normalize the dataset\n",
    "scaler_y = MinMaxScaler(feature_range=(0, 1))#功率数据归一化，之后还原预测结果要用\n",
    "Y = scaler_y.fit_transform(dataset[:,5:6])\n",
    "\n",
    "scaler_y1 = MinMaxScaler(feature_range=(0, 1))#风速数据归一化\n",
    "Y1 = scaler_y1.fit_transform(dataset[:,6:7])\n",
    "\n",
    "scaler = MinMaxScaler(feature_range=(0, 1))\n",
    "dataset = scaler.fit_transform(dataset)"
   ]
  },
  {
   "cell_type": "code",
   "execution_count": 6,
   "metadata": {},
   "outputs": [],
   "source": [
    "look_back = 16\n",
    "look_lag = 16\n",
    "train_size = 364*96\n",
    "test_size = len(dataset) - train_size\n",
    "train, test = dataset[0:train_size,:], dataset[train_size-look_back:len(dataset),:]\n",
    "train_mainX, train_mainY = create_dataset(train, look_back,look_lag,4)#,train_auxiX,train_auxiY\n",
    "test_mainX, test_mainY = create_dataset(test, look_back,look_lag,16)#,test_auxiX,test_auxiY\n",
    "\n",
    "# reshape input to be [samples, time steps, features]\n",
    "train_mainX = numpy.reshape(train_mainX, (train_mainX.shape[0], look_back, 12))\n",
    "\n",
    "test_mainX = numpy.reshape(test_mainX, (test_mainX.shape[0], look_back, 12))"
   ]
  },
  {
   "cell_type": "code",
   "execution_count": 8,
   "metadata": {},
   "outputs": [
    {
     "name": "stdout",
     "output_type": "stream",
     "text": [
      "Train on 5848 samples, validate on 2881 samples\n",
      "Epoch 1/100\n",
      "5848/5848 [==============================] - 4s 691us/sample - loss: 0.2773 - val_loss: 0.0264\n",
      "Epoch 2/100\n",
      "5848/5848 [==============================] - 2s 307us/sample - loss: 0.0203 - val_loss: 0.0206\n",
      "Epoch 3/100\n",
      "5848/5848 [==============================] - 2s 298us/sample - loss: 0.0177 - val_loss: 0.0217\n",
      "Epoch 4/100\n",
      "5848/5848 [==============================] - 2s 286us/sample - loss: 0.0167 - val_loss: 0.0219\n",
      "Epoch 5/100\n",
      "5848/5848 [==============================] - 2s 300us/sample - loss: 0.0164 - val_loss: 0.0193\n",
      "Epoch 6/100\n",
      "5848/5848 [==============================] - 2s 296us/sample - loss: 0.0146 - val_loss: 0.0156\n",
      "Epoch 7/100\n",
      "5848/5848 [==============================] - 2s 295us/sample - loss: 0.0148 - val_loss: 0.0186\n",
      "Epoch 8/100\n",
      "5848/5848 [==============================] - 2s 301us/sample - loss: 0.0134 - val_loss: 0.0154\n",
      "Epoch 9/100\n",
      "5848/5848 [==============================] - 2s 297us/sample - loss: 0.0133 - val_loss: 0.0151\n",
      "Epoch 10/100\n",
      "5848/5848 [==============================] - 2s 304us/sample - loss: 0.0127 - val_loss: 0.0181\n",
      "Epoch 11/100\n",
      "5848/5848 [==============================] - 2s 307us/sample - loss: 0.0123 - val_loss: 0.0135\n",
      "Epoch 12/100\n",
      "5848/5848 [==============================] - 2s 305us/sample - loss: 0.0121 - val_loss: 0.0173\n",
      "Epoch 13/100\n",
      "5848/5848 [==============================] - 2s 307us/sample - loss: 0.0117 - val_loss: 0.0155\n",
      "Epoch 14/100\n",
      "5848/5848 [==============================] - 2s 300us/sample - loss: 0.0117 - val_loss: 0.0139\n",
      "Epoch 15/100\n",
      "5848/5848 [==============================] - 2s 306us/sample - loss: 0.0114 - val_loss: 0.0144\n",
      "Epoch 16/100\n",
      "5848/5848 [==============================] - 2s 296us/sample - loss: 0.0114 - val_loss: 0.0152\n",
      "Epoch 17/100\n",
      "5848/5848 [==============================] - 2s 307us/sample - loss: 0.0113 - val_loss: 0.0144\n",
      "Epoch 18/100\n",
      "5848/5848 [==============================] - 2s 303us/sample - loss: 0.0109 - val_loss: 0.0129\n",
      "Epoch 19/100\n",
      "5848/5848 [==============================] - 2s 306us/sample - loss: 0.0104 - val_loss: 0.0152\n",
      "Epoch 20/100\n",
      "5848/5848 [==============================] - 2s 305us/sample - loss: 0.0109 - val_loss: 0.0163\n",
      "Epoch 21/100\n",
      "5848/5848 [==============================] - 2s 304us/sample - loss: 0.0106 - val_loss: 0.0132\n",
      "Epoch 22/100\n",
      "5848/5848 [==============================] - 2s 303us/sample - loss: 0.0102 - val_loss: 0.0142\n",
      "Epoch 23/100\n",
      "5848/5848 [==============================] - 2s 299us/sample - loss: 0.0107 - val_loss: 0.0123\n",
      "Epoch 24/100\n",
      "5848/5848 [==============================] - 2s 302us/sample - loss: 0.0105 - val_loss: 0.0158\n",
      "Epoch 25/100\n",
      "5848/5848 [==============================] - 2s 291us/sample - loss: 0.0105 - val_loss: 0.0129\n",
      "Epoch 26/100\n",
      "5848/5848 [==============================] - 2s 290us/sample - loss: 0.0102 - val_loss: 0.0138\n",
      "Epoch 27/100\n",
      "5848/5848 [==============================] - 2s 294us/sample - loss: 0.0106 - val_loss: 0.0145\n",
      "Epoch 28/100\n",
      "5848/5848 [==============================] - 2s 312us/sample - loss: 0.0098 - val_loss: 0.0142\n",
      "Epoch 29/100\n",
      "5848/5848 [==============================] - 2s 303us/sample - loss: 0.0097 - val_loss: 0.0133\n",
      "Epoch 30/100\n",
      "5848/5848 [==============================] - 2s 291us/sample - loss: 0.0099 - val_loss: 0.0169\n",
      "Epoch 31/100\n",
      "5848/5848 [==============================] - 2s 295us/sample - loss: 0.0101 - val_loss: 0.0134\n",
      "Epoch 32/100\n",
      "5848/5848 [==============================] - 2s 300us/sample - loss: 0.0096 - val_loss: 0.0139\n",
      "Epoch 33/100\n",
      "5848/5848 [==============================] - 2s 297us/sample - loss: 0.0095 - val_loss: 0.0130\n",
      "Epoch 34/100\n",
      "5848/5848 [==============================] - 2s 292us/sample - loss: 0.0092 - val_loss: 0.0124\n",
      "Epoch 35/100\n",
      "5848/5848 [==============================] - 2s 302us/sample - loss: 0.0094 - val_loss: 0.0135\n",
      "Epoch 36/100\n",
      "5848/5848 [==============================] - 2s 297us/sample - loss: 0.0091 - val_loss: 0.0125\n",
      "Epoch 37/100\n",
      "5848/5848 [==============================] - 2s 301us/sample - loss: 0.0093 - val_loss: 0.0121\n",
      "Epoch 38/100\n",
      "5848/5848 [==============================] - 2s 299us/sample - loss: 0.0088 - val_loss: 0.0130\n",
      "Epoch 39/100\n",
      "5848/5848 [==============================] - 2s 299us/sample - loss: 0.0086 - val_loss: 0.0134\n",
      "Epoch 40/100\n",
      "5848/5848 [==============================] - 2s 309us/sample - loss: 0.0087 - val_loss: 0.0132\n",
      "Epoch 41/100\n",
      "5848/5848 [==============================] - 2s 300us/sample - loss: 0.0087 - val_loss: 0.0132\n",
      "Epoch 42/100\n",
      "5848/5848 [==============================] - 2s 292us/sample - loss: 0.0086 - val_loss: 0.0130\n",
      "Epoch 43/100\n",
      "5848/5848 [==============================] - 2s 301us/sample - loss: 0.0083 - val_loss: 0.0124\n",
      "Epoch 44/100\n",
      "5848/5848 [==============================] - 2s 297us/sample - loss: 0.0082 - val_loss: 0.0133\n",
      "Epoch 45/100\n",
      "5848/5848 [==============================] - 2s 293us/sample - loss: 0.0085 - val_loss: 0.0201\n",
      "Epoch 46/100\n",
      "5848/5848 [==============================] - 2s 299us/sample - loss: 0.0085 - val_loss: 0.0133\n",
      "Epoch 47/100\n",
      "5848/5848 [==============================] - 2s 301us/sample - loss: 0.0081 - val_loss: 0.0133\n",
      "Epoch 48/100\n",
      "5848/5848 [==============================] - 2s 297us/sample - loss: 0.0077 - val_loss: 0.0147\n",
      "Epoch 49/100\n",
      "5848/5848 [==============================] - 2s 308us/sample - loss: 0.0074 - val_loss: 0.0135\n",
      "Epoch 50/100\n",
      "5848/5848 [==============================] - 2s 294us/sample - loss: 0.0079 - val_loss: 0.0132\n",
      "Epoch 51/100\n",
      "5848/5848 [==============================] - 2s 300us/sample - loss: 0.0072 - val_loss: 0.0127\n",
      "Epoch 52/100\n",
      "5848/5848 [==============================] - 2s 305us/sample - loss: 0.0073 - val_loss: 0.0132\n",
      "Epoch 53/100\n",
      "5848/5848 [==============================] - 2s 296us/sample - loss: 0.0071 - val_loss: 0.0136\n",
      "Epoch 54/100\n",
      "5848/5848 [==============================] - 2s 299us/sample - loss: 0.0070 - val_loss: 0.0126\n",
      "Epoch 55/100\n",
      "5848/5848 [==============================] - 2s 299us/sample - loss: 0.0068 - val_loss: 0.0134\n",
      "Epoch 56/100\n",
      "5848/5848 [==============================] - 2s 300us/sample - loss: 0.0071 - val_loss: 0.0135\n",
      "Epoch 57/100\n",
      "5848/5848 [==============================] - 2s 299us/sample - loss: 0.0067 - val_loss: 0.0133\n",
      "Epoch 58/100\n",
      "5848/5848 [==============================] - 2s 301us/sample - loss: 0.0066 - val_loss: 0.0135\n",
      "Epoch 59/100\n",
      "5848/5848 [==============================] - 2s 305us/sample - loss: 0.0065 - val_loss: 0.0140\n",
      "Epoch 60/100\n",
      "5848/5848 [==============================] - 2s 307us/sample - loss: 0.0061 - val_loss: 0.0140\n",
      "Epoch 61/100\n",
      "5848/5848 [==============================] - 2s 303us/sample - loss: 0.0059 - val_loss: 0.0135\n",
      "Epoch 62/100\n",
      "5848/5848 [==============================] - 2s 310us/sample - loss: 0.0059 - val_loss: 0.0138\n",
      "Epoch 63/100\n",
      "5848/5848 [==============================] - 2s 301us/sample - loss: 0.0060 - val_loss: 0.0151\n",
      "Epoch 64/100\n",
      "5848/5848 [==============================] - 2s 303us/sample - loss: 0.0059 - val_loss: 0.0145\n",
      "Epoch 65/100\n",
      "5848/5848 [==============================] - 2s 289us/sample - loss: 0.0054 - val_loss: 0.0140\n",
      "Epoch 66/100\n",
      "5848/5848 [==============================] - 2s 291us/sample - loss: 0.0057 - val_loss: 0.0147\n",
      "Epoch 67/100\n",
      "5848/5848 [==============================] - 2s 308us/sample - loss: 0.0057 - val_loss: 0.0152\n",
      "Epoch 68/100\n",
      "5848/5848 [==============================] - 2s 312us/sample - loss: 0.0054 - val_loss: 0.0154\n",
      "Epoch 69/100\n",
      "5848/5848 [==============================] - 2s 306us/sample - loss: 0.0050 - val_loss: 0.0149\n",
      "Epoch 70/100\n",
      "5848/5848 [==============================] - 2s 309us/sample - loss: 0.0049 - val_loss: 0.0163\n",
      "Epoch 71/100\n",
      "5848/5848 [==============================] - 2s 311us/sample - loss: 0.0049 - val_loss: 0.0151\n",
      "Epoch 72/100\n",
      "5848/5848 [==============================] - 2s 293us/sample - loss: 0.0048 - val_loss: 0.0144\n",
      "Epoch 73/100\n",
      "5848/5848 [==============================] - 2s 293us/sample - loss: 0.0046 - val_loss: 0.0155\n",
      "Epoch 74/100\n",
      "5848/5848 [==============================] - 2s 304us/sample - loss: 0.0047 - val_loss: 0.0161\n",
      "Epoch 75/100\n",
      "5848/5848 [==============================] - 2s 302us/sample - loss: 0.0046 - val_loss: 0.0157\n",
      "Epoch 76/100\n",
      "5848/5848 [==============================] - 2s 289us/sample - loss: 0.0043 - val_loss: 0.0153\n",
      "Epoch 77/100\n",
      "5848/5848 [==============================] - 2s 303us/sample - loss: 0.0043 - val_loss: 0.0166\n",
      "Epoch 78/100\n",
      "5848/5848 [==============================] - 2s 296us/sample - loss: 0.0042 - val_loss: 0.0154\n",
      "Epoch 79/100\n",
      "5848/5848 [==============================] - 2s 298us/sample - loss: 0.0040 - val_loss: 0.0156\n",
      "Epoch 80/100\n",
      "5848/5848 [==============================] - 2s 295us/sample - loss: 0.0042 - val_loss: 0.0154\n",
      "Epoch 81/100\n",
      "5848/5848 [==============================] - 2s 291us/sample - loss: 0.0039 - val_loss: 0.0156\n",
      "Epoch 82/100\n",
      "5848/5848 [==============================] - 2s 300us/sample - loss: 0.0038 - val_loss: 0.0151\n",
      "Epoch 83/100\n",
      "5848/5848 [==============================] - 2s 292us/sample - loss: 0.0038 - val_loss: 0.0157\n",
      "Epoch 84/100\n",
      "5848/5848 [==============================] - 2s 297us/sample - loss: 0.0035 - val_loss: 0.0154\n",
      "Epoch 85/100\n",
      "5848/5848 [==============================] - 2s 298us/sample - loss: 0.0034 - val_loss: 0.0157\n",
      "Epoch 86/100\n",
      "5848/5848 [==============================] - 2s 300us/sample - loss: 0.0034 - val_loss: 0.0168\n",
      "Epoch 87/100\n",
      "5848/5848 [==============================] - 2s 299us/sample - loss: 0.0036 - val_loss: 0.0163\n",
      "Epoch 88/100\n",
      "5848/5848 [==============================] - 2s 298us/sample - loss: 0.0033 - val_loss: 0.0152\n",
      "Epoch 89/100\n",
      "5848/5848 [==============================] - 2s 300us/sample - loss: 0.0032 - val_loss: 0.0152\n",
      "Epoch 90/100\n",
      "5848/5848 [==============================] - 2s 306us/sample - loss: 0.0032 - val_loss: 0.0156\n",
      "Epoch 91/100\n",
      "5848/5848 [==============================] - 2s 315us/sample - loss: 0.0031 - val_loss: 0.0156\n",
      "Epoch 92/100\n",
      "5848/5848 [==============================] - 2s 300us/sample - loss: 0.0030 - val_loss: 0.0167\n",
      "Epoch 93/100\n",
      "5848/5848 [==============================] - 2s 290us/sample - loss: 0.0033 - val_loss: 0.0180\n",
      "Epoch 94/100\n",
      "5848/5848 [==============================] - 2s 311us/sample - loss: 0.0030 - val_loss: 0.0163\n",
      "Epoch 95/100\n",
      "5848/5848 [==============================] - 2s 309us/sample - loss: 0.0029 - val_loss: 0.0157\n",
      "Epoch 96/100\n",
      "5848/5848 [==============================] - 2s 313us/sample - loss: 0.0028 - val_loss: 0.0159\n",
      "Epoch 97/100\n",
      "5848/5848 [==============================] - 2s 306us/sample - loss: 0.0027 - val_loss: 0.0161\n",
      "Epoch 98/100\n",
      "5848/5848 [==============================] - 2s 291us/sample - loss: 0.0027 - val_loss: 0.0159\n",
      "Epoch 99/100\n",
      "5848/5848 [==============================] - 2s 306us/sample - loss: 0.0026 - val_loss: 0.0158\n",
      "Epoch 100/100\n",
      "5848/5848 [==============================] - 2s 310us/sample - loss: 0.0025 - val_loss: 0.0162\n"
     ]
    }
   ],
   "source": [
    "from tensorflow.keras.layers import Dense,Dropout,LSTM,concatenate\n",
    "from tensorflow.keras import Input, Model\n",
    "from tcn import TCN,tcn_full_summary\n",
    "from tensorflow.keras.regularizers import l2\n",
    "#输入层\n",
    "Input = Input(batch_shape=(None,train_mainX.shape[1],train_mainX.shape[2]))\n",
    "TCN1 = TCN(nb_filters=128, kernel_size=3, activation='relu', padding='same',return_sequences=False)(Input)\n",
    "\n",
    "output = Dense(units = look_lag)(TCN1)#主要输出\n",
    "#main_output = Dropout(0.2)(main_output)\n",
    "\n",
    "model = Model(inputs=Input, outputs=output)\n",
    "model.compile(optimizer = 'adam', loss = 'mean_squared_error')\n",
    "history = model.fit(train_mainX,train_mainY, validation_split=0.33,epochs=100,shuffle=True)"
   ]
  },
  {
   "cell_type": "code",
   "execution_count": 9,
   "metadata": {},
   "outputs": [
    {
     "data": {
      "text/plain": [
       "[<matplotlib.lines.Line2D at 0x7f382d6caf98>]"
      ]
     },
     "execution_count": 9,
     "metadata": {},
     "output_type": "execute_result"
    },
    {
     "data": {
      "image/png": "[encoded data removed]",
      "text/plain": [
       "<Figure size 720x360 with 1 Axes>"
      ]
     },
     "metadata": {
      "needs_background": "light"
     },
     "output_type": "display_data"
    }
   ],
   "source": [
    "pyplot.figure(figsize=(10,5))\n",
    "pyplot.plot(history.history['loss'], label='loss')\n",
    "pyplot.plot(history.history['val_loss'], label='val_loss')"
   ]
  },
  {
   "cell_type": "code",
   "execution_count": 10,
   "metadata": {},
   "outputs": [
    {
     "name": "stdout",
     "output_type": "stream",
     "text": [
      "Model: \"model_1\"\n",
      "_________________________________________________________________\n",
      "Layer (type)                 Output Shape              Param #   \n",
      "=================================================================\n",
      "input_2 (InputLayer)         [(None, 16, 12)]          0         \n",
      "_________________________________________________________________\n",
      "tcn_1 (TCN)                  (None, 128)               548480    \n",
      "_________________________________________________________________\n",
      "dense_1 (Dense)              (None, 16)                2064      \n",
      "=================================================================\n",
      "Total params: 550,544\n",
      "Trainable params: 550,544\n",
      "Non-trainable params: 0\n",
      "_________________________________________________________________\n"
     ]
    }
   ],
   "source": [
    "model.summary()"
   ]
  },
  {
   "cell_type": "code",
   "execution_count": 11,
   "metadata": {},
   "outputs": [],
   "source": [
    "# 执行预测\n",
    "testPredict = model.predict(test_mainX)"
   ]
  },
  {
   "cell_type": "code",
   "execution_count": 12,
   "metadata": {},
   "outputs": [
    {
     "data": {
      "text/plain": [
       "(540, 16)"
      ]
     },
     "execution_count": 12,
     "metadata": {},
     "output_type": "execute_result"
    }
   ],
   "source": [
    "testPredict.shape"
   ]
  },
  {
   "cell_type": "code",
   "execution_count": 13,
   "metadata": {},
   "outputs": [],
   "source": [
    "testPredict = testPredict.reshape(-1,1)\n",
    "testPredict = scaler_y.inverse_transform(testPredict)"
   ]
  },
  {
   "cell_type": "code",
   "execution_count": 14,
   "metadata": {},
   "outputs": [
    {
     "data": {
      "text/plain": [
       "array([[32.13633 ],\n",
       "       [33.151875],\n",
       "       [33.618534],\n",
       "       ...,\n",
       "       [19.009844],\n",
       "       [21.011484],\n",
       "       [21.133669]], dtype=float32)"
      ]
     },
     "execution_count": 14,
     "metadata": {},
     "output_type": "execute_result"
    }
   ],
   "source": [
    "testPredict"
   ]
  },
  {
   "cell_type": "code",
   "execution_count": 15,
   "metadata": {},
   "outputs": [
    {
     "data": {
      "text/plain": [
       "(8640, 1)"
      ]
     },
     "execution_count": 15,
     "metadata": {},
     "output_type": "execute_result"
    }
   ],
   "source": [
    "test_mainY = test_mainY.reshape(-1,1)\n",
    "test_mainY = scaler_y.inverse_transform(test_mainY)\n",
    "test_mainY.shape"
   ]
  },
  {
   "cell_type": "code",
   "execution_count": 16,
   "metadata": {},
   "outputs": [],
   "source": [
    "import numpy as np\n",
    "from sklearn.metrics import mean_squared_error,mean_absolute_error,r2_score\n",
    "def result(testY,testPredict):\n",
    "    mse = mean_squared_error(testY,testPredict)\n",
    "    mae = mean_absolute_error(testY,testPredict)\n",
    "    r_square = r2_score(testY,testPredict)\n",
    "    print(\"MSE:\",mse)\n",
    "    print(\"MAE:\",mae)\n",
    "    print(\"R_Square:\",r_square)\n",
    "    rmse = math.sqrt(mse)\n",
    "    print(\"RMSE:\",rmse)\n",
    "    capacity = 49.5\n",
    "    print(\"NRMSE:\",1 - rmse/capacity)\n",
    "    p_hme = 0\n",
    "    whole_power = 49.5\n",
    "    for l in range(testY.shape[0]):\n",
    "        if testY[l] <= whole_power * 0.03 and testPredict[l] <= whole_power * 0.03:\n",
    "            continue\n",
    "        p_hme = p_hme + abs(testY[l] / (testY[l] + testPredict[l]) - 0.5) * abs(testPredict[l] -testY[l]) / np.sum(np.abs(testPredict - testY))\n",
    "    p_hme =  1 - 2 * p_hme\n",
    "    print('E', p_hme)"
   ]
  },
  {
   "cell_type": "code",
   "execution_count": 17,
   "metadata": {},
   "outputs": [
    {
     "name": "stdout",
     "output_type": "stream",
     "text": [
      "2019年1-3月结果：\n",
      "MSE: 40.785225\n",
      "MAE: 4.4254365\n",
      "R_Square: 0.7760217007232391\n",
      "RMSE: 6.386331099665189\n",
      "NRMSE: 0.8709832101077739\n",
      "E [0.691443]\n",
      "2019年1月结果：\n",
      "MSE: 38.13912\n",
      "MAE: 4.4547253\n",
      "R_Square: 0.7672471962846911\n",
      "RMSE: 6.175687669772499\n",
      "NRMSE: 0.8752386329338889\n",
      "E 0.7328041745250038\n",
      "2019年2月结果：\n",
      "MSE: 45.28443\n",
      "MAE: 4.6224103\n",
      "R_Square: 0.7575231586399942\n",
      "RMSE: 6.729370806956585\n",
      "NRMSE: 0.864053115010978\n",
      "E 0.6878557959849058\n",
      "2019年3月结果：\n",
      "MSE: 39.367527\n",
      "MAE: 4.218235\n",
      "R_Square: 0.7885910737703132\n",
      "RMSE: 6.274354708498448\n",
      "NRMSE: 0.8732453594242737\n",
      "E 0.6513132968353261\n"
     ]
    }
   ],
   "source": [
    "predictions_1 = testPredict[0:31*96,0]\n",
    "predictions_2 = testPredict[31*96:59*96,0]\n",
    "predictions_3 = testPredict[59*96:90*96,0]\n",
    "\n",
    "test_labels_1 = test_mainY[0:31*96,0]\n",
    "test_labels_2 = test_mainY[31*96:59*96,0]\n",
    "test_labels_3 = test_mainY[59*96:90*96,0]\n",
    "\n",
    "print(\"2019年1-3月结果：\")\n",
    "result(test_mainY,testPredict)\n",
    "print(\"2019年1月结果：\")\n",
    "result(test_labels_1,predictions_1)\n",
    "print(\"2019年2月结果：\")\n",
    "result(test_labels_2,predictions_2)\n",
    "print(\"2019年3月结果：\")\n",
    "result(test_labels_3,predictions_3)"
   ]
  },
  {
   "cell_type": "code",
   "execution_count": 18,
   "metadata": {},
   "outputs": [
    {
     "name": "stdout",
     "output_type": "stream",
     "text": [
      "原始系统准确率:\n",
      "2019年1-3月结果：\n",
      "MSE: 38.90323077467954\n",
      "MAE: 4.73843288221362\n",
      "R_Square: 0.7863569507222773\n",
      "RMSE: 6.237245447685985\n",
      "NRMSE: 0.8739950414608892\n",
      "E [0.66917906]\n",
      "2019年1月结果：\n",
      "MSE: 38.48454371279563\n",
      "MAE: 4.870769504471107\n",
      "R_Square: 0.7651391491589099\n",
      "RMSE: 6.203591194847999\n",
      "NRMSE: 0.8746749253566061\n",
      "E 0.7053141024294813\n",
      "2019年2月结果：\n",
      "MSE: 43.47097008356602\n",
      "MAE: 5.008162211467779\n",
      "R_Square: 0.7672333948800686\n",
      "RMSE: 6.593251859558076\n",
      "NRMSE: 0.8668029927362004\n",
      "E 0.6714997321255596\n",
      "2019年3月结果：\n",
      "MSE: 35.19621781563373\n",
      "MAE: 4.3624697690168945\n",
      "R_Square: 0.8109915717941774\n",
      "RMSE: 5.932640037591504\n",
      "NRMSE: 0.8801486861092626\n",
      "E 0.6264273692486862\n"
     ]
    }
   ],
   "source": [
    "#原系统准确率\n",
    "testorin=dataframe.values[train_size:,0]\n",
    "testorin=testorin.reshape(8640,1)\n",
    "systempredictions_1 = testorin[0:31*96,0]\n",
    "systempredictions_2 = testorin[31*96:59*96,0]\n",
    "systempredictions_3 = testorin[59*96:90*96,0]\n",
    "#原始系统准确率\n",
    "print(\"原始系统准确率:\")\n",
    "print(\"2019年1-3月结果：\")\n",
    "result(test_mainY,testorin)\n",
    "print(\"2019年1月结果：\")\n",
    "result(test_labels_1,systempredictions_1)\n",
    "print(\"2019年2月结果：\")\n",
    "result(test_labels_2,systempredictions_2)\n",
    "print(\"2019年3月结果：\")\n",
    "result(test_labels_3,systempredictions_3)"
   ]
  },
  {
   "cell_type": "code",
   "execution_count": 30,
   "metadata": {},
   "outputs": [],
   "source": [
    "new_data = numpy.hstack([test_mainY,testorin,testPredict])"
   ]
  },
  {
   "cell_type": "code",
   "execution_count": 31,
   "metadata": {},
   "outputs": [],
   "source": [
    "import pandas as pd\n",
    "new_data = pd.DataFrame(new_data,columns= ['实际功率','原系统预测功率','超短期预测功率'])"
   ]
  },
  {
   "cell_type": "code",
   "execution_count": 33,
   "metadata": {},
   "outputs": [],
   "source": [
    "new_data.to_csv('tcn-ushort-87.csv', index=False, sep=',')"
   ]
  },
  {
   "cell_type": "code",
   "execution_count": null,
   "metadata": {},
   "outputs": [],
   "source": []
  }
 ],
 "metadata": {
  "kernelspec": {
   "display_name": "conda_tensorflow2_py3",
   "language": "python",
   "name": "conda_tensorflow2_py3"
  },
  "language_info": {
   "codemirror_mode": {
    "name": "ipython",
    "version": 3
   },
   "file_extension": ".py",
   "mimetype": "text/x-python",
   "name": "python",
   "nbconvert_exporter": "python",
   "pygments_lexer": "ipython3",
   "version": "3.6.5"
  }
 },
 "nbformat": 4,
 "nbformat_minor": 4
}
