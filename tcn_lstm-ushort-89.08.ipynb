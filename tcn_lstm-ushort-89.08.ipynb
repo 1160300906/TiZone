{
 "cells": [
  {
   "cell_type": "code",
   "execution_count": 7,
   "metadata": {},
   "outputs": [
    {
     "name": "stdout",
     "output_type": "stream",
     "text": [
      "Looking in indexes: http://mirrors.tencentyun.com/pypi/simple\n",
      "Collecting keras-tcn\n",
      "  Downloading http://mirrors.tencentyun.com/pypi/packages/a8/5b/31eed031c196dc192eddf346f053ec6a97aefa4b931164fd8665c92a9d7d/keras_tcn-3.1.1-py3-none-any.whl (11 kB)\n",
      "Requirement already satisfied: numpy>=1.18.1 in /opt/conda/envs/tensorflow2_py3/lib/python3.6/site-packages (from keras-tcn) (1.18.5)\n",
      "Collecting keras==2.3.1\n",
      "  Downloading http://mirrors.tencentyun.com/pypi/packages/ad/fd/6bfe87920d7f4fd475acd28500a42482b6b84479832bdc0fe9e589a60ceb/Keras-2.3.1-py2.py3-none-any.whl (377 kB)\n",
      "\u001b[K     |████████████████████████████████| 377 kB 829 kB/s eta 0:00:01\n",
      "\u001b[?25hRequirement already satisfied: scipy>=0.14 in /opt/conda/envs/tensorflow2_py3/lib/python3.6/site-packages (from keras==2.3.1->keras-tcn) (1.5.0)\n",
      "Requirement already satisfied: keras-preprocessing>=1.0.5 in /opt/conda/envs/tensorflow2_py3/lib/python3.6/site-packages (from keras==2.3.1->keras-tcn) (1.1.0)\n",
      "Requirement already satisfied: h5py in /opt/conda/envs/tensorflow2_py3/lib/python3.6/site-packages (from keras==2.3.1->keras-tcn) (2.10.0)\n",
      "Requirement already satisfied: six>=1.9.0 in /opt/conda/envs/tensorflow2_py3/lib/python3.6/site-packages (from keras==2.3.1->keras-tcn) (1.15.0)\n",
      "Requirement already satisfied: keras-applications>=1.0.6 in /opt/conda/envs/tensorflow2_py3/lib/python3.6/site-packages (from keras==2.3.1->keras-tcn) (1.0.8)\n",
      "Requirement already satisfied: pyyaml in /opt/conda/envs/tensorflow2_py3/lib/python3.6/site-packages (from keras==2.3.1->keras-tcn) (5.3.1)\n",
      "Installing collected packages: keras, keras-tcn\n",
      "Successfully installed keras-2.3.1 keras-tcn-3.1.1\n"
     ]
    }
   ],
   "source": [
    "!pip install keras-tcn"
   ]
  },
  {
   "cell_type": "code",
   "execution_count": 1,
   "metadata": {},
   "outputs": [],
   "source": [
    "import numpy\n",
    "from matplotlib import pyplot\n",
    "from pandas import read_csv\n",
    "import math\n",
    "from sklearn.preprocessing import MinMaxScaler\n",
    "%matplotlib inline"
   ]
  },
  {
   "cell_type": "code",
   "execution_count": 2,
   "metadata": {},
   "outputs": [
    {
     "data": {
      "text/html": [
       "<div>\n",
       "<style scoped>\n",
       "    .dataframe tbody tr th:only-of-type {\n",
       "        vertical-align: middle;\n",
       "    }\n",
       "\n",
       "    .dataframe tbody tr th {\n",
       "        vertical-align: top;\n",
       "    }\n",
       "\n",
       "    .dataframe thead th {\n",
       "        text-align: right;\n",
       "    }\n",
       "</style>\n",
       "<table border=\"1\" class=\"dataframe\">\n",
       "  <thead>\n",
       "    <tr style=\"text-align: right;\">\n",
       "      <th></th>\n",
       "      <th>短期预测功率</th>\n",
       "      <th>短期预测湿度</th>\n",
       "      <th>短期预测风向</th>\n",
       "      <th>短期预测温度</th>\n",
       "      <th>短期预测气压</th>\n",
       "      <th>实际功率</th>\n",
       "      <th>实际风速</th>\n",
       "      <th>短期预测风速</th>\n",
       "    </tr>\n",
       "  </thead>\n",
       "  <tbody>\n",
       "    <tr>\n",
       "      <th>0</th>\n",
       "      <td>34.41</td>\n",
       "      <td>75</td>\n",
       "      <td>41</td>\n",
       "      <td>14.7</td>\n",
       "      <td>1008</td>\n",
       "      <td>28.59</td>\n",
       "      <td>8.50</td>\n",
       "      <td>8.864167</td>\n",
       "    </tr>\n",
       "    <tr>\n",
       "      <th>1</th>\n",
       "      <td>33.71</td>\n",
       "      <td>75</td>\n",
       "      <td>40</td>\n",
       "      <td>14.7</td>\n",
       "      <td>1008</td>\n",
       "      <td>29.80</td>\n",
       "      <td>8.75</td>\n",
       "      <td>8.764167</td>\n",
       "    </tr>\n",
       "    <tr>\n",
       "      <th>2</th>\n",
       "      <td>33.01</td>\n",
       "      <td>75</td>\n",
       "      <td>39</td>\n",
       "      <td>14.6</td>\n",
       "      <td>1008</td>\n",
       "      <td>23.80</td>\n",
       "      <td>7.78</td>\n",
       "      <td>8.664167</td>\n",
       "    </tr>\n",
       "    <tr>\n",
       "      <th>3</th>\n",
       "      <td>32.32</td>\n",
       "      <td>75</td>\n",
       "      <td>38</td>\n",
       "      <td>14.5</td>\n",
       "      <td>1008</td>\n",
       "      <td>23.63</td>\n",
       "      <td>7.89</td>\n",
       "      <td>8.564167</td>\n",
       "    </tr>\n",
       "    <tr>\n",
       "      <th>4</th>\n",
       "      <td>31.66</td>\n",
       "      <td>75</td>\n",
       "      <td>38</td>\n",
       "      <td>14.5</td>\n",
       "      <td>1008</td>\n",
       "      <td>26.98</td>\n",
       "      <td>7.69</td>\n",
       "      <td>8.464167</td>\n",
       "    </tr>\n",
       "  </tbody>\n",
       "</table>\n",
       "</div>"
      ],
      "text/plain": [
       "   短期预测功率  短期预测湿度  短期预测风向  短期预测温度  短期预测气压   实际功率  实际风速    短期预测风速\n",
       "0   34.41      75      41    14.7    1008  28.59  8.50  8.864167\n",
       "1   33.71      75      40    14.7    1008  29.80  8.75  8.764167\n",
       "2   33.01      75      39    14.6    1008  23.80  7.78  8.664167\n",
       "3   32.32      75      38    14.5    1008  23.63  7.89  8.564167\n",
       "4   31.66      75      38    14.5    1008  26.98  7.69  8.464167"
      ]
     },
     "execution_count": 2,
     "metadata": {},
     "output_type": "execute_result"
    }
   ],
   "source": [
    "# load the dataset\n",
    "dataframe = read_csv('intecleaned-correct.csv',usecols=[1,2,4,5,6,7,8,9])\n",
    "dataset = dataframe.values\n",
    "#将整型变为float\n",
    "dataset = dataset.astype('float32')\n",
    "dataframe.head()"
   ]
  },
  {
   "cell_type": "code",
   "execution_count": 3,
   "metadata": {},
   "outputs": [],
   "source": [
    "def create_dataset(dataset, look_back,look_lag,data_step):\n",
    "    main_dataX, main_dataY ,auxi_dataX,auxi_dataY= [], [],[],[]\n",
    "    for i in range(0,len(dataset)-look_back-look_lag+1,data_step):\n",
    "        a = dataset[i:(i+look_back), 1:8] #前一天的短期预测湿度、短期预测风向、短期预测温度、\n",
    "                                        #短期预测气压、实际功率、实际风速都作为输入特征（共7个）\n",
    "        c = dataset[(i+look_back):(i+look_back+look_lag),1:5]#当天的短期预测功率、短期预测湿度、短期预测风向、短期预测温度、短期预测气压作为特征（共4个）\n",
    "        d = dataset[(i+look_back):(i+look_back+look_lag),7:8]#当天短期预测风速作为特征（共1个）\n",
    "        e = numpy.hstack([a,c])\n",
    "        e = numpy.hstack([d,e])#把上面的特征都合在一起，共12个特征\n",
    "        main_dataX.append(e) #主要输入\n",
    "        b = dataset[(i+look_back):(i+look_back+look_lag),5]\n",
    "        main_dataY.append(b) #主要输出 需要预测的功率数据\n",
    "    return numpy.array(main_dataX), numpy.array(main_dataY)#,numpy.array(auxi_dataX),numpy.array(auxi_dataY)"
   ]
  },
  {
   "cell_type": "code",
   "execution_count": 4,
   "metadata": {},
   "outputs": [],
   "source": [
    "# fix random seed for reproducibility\n",
    "numpy.random.seed(7)\n",
    "# normalize the dataset\n",
    "scaler_y = MinMaxScaler(feature_range=(0, 1))#功率数据归一化，之后还原预测结果要用\n",
    "Y = scaler_y.fit_transform(dataset[:,5:6])\n",
    "\n",
    "scaler_y1 = MinMaxScaler(feature_range=(0, 1))#风速数据归一化\n",
    "Y1 = scaler_y1.fit_transform(dataset[:,6:7])\n",
    "\n",
    "scaler = MinMaxScaler(feature_range=(0, 1))\n",
    "dataset = scaler.fit_transform(dataset)"
   ]
  },
  {
   "cell_type": "code",
   "execution_count": 5,
   "metadata": {},
   "outputs": [],
   "source": [
    "look_back = 16\n",
    "look_lag = 16\n",
    "train_size = 364*96\n",
    "test_size = len(dataset) - train_size\n",
    "train, test = dataset[0:train_size,:], dataset[train_size-look_back:len(dataset),:]\n",
    "train_mainX, train_mainY = create_dataset(train, look_back,look_lag,4)#,train_auxiX,train_auxiY\n",
    "test_mainX, test_mainY = create_dataset(test, look_back,look_lag,16)#,test_auxiX,test_auxiY\n",
    "\n",
    "# reshape input to be [samples, time steps, features]\n",
    "train_mainX = numpy.reshape(train_mainX, (train_mainX.shape[0], look_back, 12))\n",
    "\n",
    "test_mainX = numpy.reshape(test_mainX, (test_mainX.shape[0], look_back, 12))"
   ]
  },
  {
   "cell_type": "code",
   "execution_count": 9,
   "metadata": {},
   "outputs": [
    {
     "name": "stdout",
     "output_type": "stream",
     "text": [
      "Train on 5848 samples, validate on 2881 samples\n",
      "Epoch 1/100\n",
      "5848/5848 [==============================] - 15s 3ms/sample - loss: 1.5098 - val_loss: 0.0200\n",
      "Epoch 2/100\n",
      "5848/5848 [==============================] - 6s 994us/sample - loss: 0.0277 - val_loss: 0.0152\n",
      "Epoch 3/100\n",
      "5848/5848 [==============================] - 6s 967us/sample - loss: 0.0232 - val_loss: 0.0186\n",
      "Epoch 4/100\n",
      "5848/5848 [==============================] - 6s 956us/sample - loss: 0.0203 - val_loss: 0.0139\n",
      "Epoch 5/100\n",
      "5848/5848 [==============================] - 6s 1ms/sample - loss: 0.0188 - val_loss: 0.0145\n",
      "Epoch 6/100\n",
      "5848/5848 [==============================] - 6s 976us/sample - loss: 0.0178 - val_loss: 0.0122\n",
      "Epoch 7/100\n",
      "5848/5848 [==============================] - 6s 987us/sample - loss: 0.0167 - val_loss: 0.0125\n",
      "Epoch 8/100\n",
      "5848/5848 [==============================] - 6s 943us/sample - loss: 0.0160 - val_loss: 0.0131\n",
      "Epoch 9/100\n",
      "5848/5848 [==============================] - 6s 956us/sample - loss: 0.0157 - val_loss: 0.0129\n",
      "Epoch 10/100\n",
      "5848/5848 [==============================] - 6s 993us/sample - loss: 0.0154 - val_loss: 0.0115\n",
      "Epoch 11/100\n",
      "5848/5848 [==============================] - 6s 966us/sample - loss: 0.0151 - val_loss: 0.0138\n",
      "Epoch 12/100\n",
      "5848/5848 [==============================] - 6s 974us/sample - loss: 0.0146 - val_loss: 0.0122\n",
      "Epoch 13/100\n",
      "5848/5848 [==============================] - 6s 963us/sample - loss: 0.0140 - val_loss: 0.0127\n",
      "Epoch 14/100\n",
      "5848/5848 [==============================] - 6s 976us/sample - loss: 0.0139 - val_loss: 0.0121\n",
      "Epoch 15/100\n",
      "5848/5848 [==============================] - 6s 966us/sample - loss: 0.0133 - val_loss: 0.0133\n",
      "Epoch 16/100\n",
      "5848/5848 [==============================] - 6s 969us/sample - loss: 0.0136 - val_loss: 0.0114\n",
      "Epoch 17/100\n",
      "5848/5848 [==============================] - 6s 1ms/sample - loss: 0.0135 - val_loss: 0.0119\n",
      "Epoch 18/100\n",
      "5848/5848 [==============================] - 5s 921us/sample - loss: 0.0130 - val_loss: 0.0111\n",
      "Epoch 19/100\n",
      "5848/5848 [==============================] - 6s 961us/sample - loss: 0.0128 - val_loss: 0.0110\n",
      "Epoch 20/100\n",
      "5848/5848 [==============================] - 6s 955us/sample - loss: 0.0128 - val_loss: 0.0123\n",
      "Epoch 21/100\n",
      "5848/5848 [==============================] - 6s 946us/sample - loss: 0.0126 - val_loss: 0.0115\n",
      "Epoch 22/100\n",
      "5848/5848 [==============================] - 5s 927us/sample - loss: 0.0126 - val_loss: 0.0116\n",
      "Epoch 23/100\n",
      "5848/5848 [==============================] - 5s 932us/sample - loss: 0.0125 - val_loss: 0.0121\n",
      "Epoch 24/100\n",
      "5848/5848 [==============================] - 5s 923us/sample - loss: 0.0124 - val_loss: 0.0111\n",
      "Epoch 25/100\n",
      "5848/5848 [==============================] - 6s 971us/sample - loss: 0.0122 - val_loss: 0.0107\n",
      "Epoch 26/100\n",
      "5848/5848 [==============================] - 5s 922us/sample - loss: 0.0123 - val_loss: 0.0120\n",
      "Epoch 27/100\n",
      "5848/5848 [==============================] - 6s 984us/sample - loss: 0.0119 - val_loss: 0.0108\n",
      "Epoch 28/100\n",
      "5848/5848 [==============================] - 5s 937us/sample - loss: 0.0119 - val_loss: 0.0120\n",
      "Epoch 29/100\n",
      "5848/5848 [==============================] - 6s 952us/sample - loss: 0.0120 - val_loss: 0.0110\n",
      "Epoch 30/100\n",
      "5848/5848 [==============================] - 5s 935us/sample - loss: 0.0118 - val_loss: 0.0107\n",
      "Epoch 31/100\n",
      "5848/5848 [==============================] - 5s 916us/sample - loss: 0.0119 - val_loss: 0.0108\n",
      "Epoch 32/100\n",
      "5848/5848 [==============================] - 6s 944us/sample - loss: 0.0120 - val_loss: 0.0111\n",
      "Epoch 33/100\n",
      "5848/5848 [==============================] - 6s 958us/sample - loss: 0.0120 - val_loss: 0.0110\n",
      "Epoch 34/100\n",
      "5848/5848 [==============================] - 6s 1ms/sample - loss: 0.0120 - val_loss: 0.0111\n",
      "Epoch 35/100\n",
      "5848/5848 [==============================] - 6s 1ms/sample - loss: 0.0117 - val_loss: 0.0109\n",
      "Epoch 36/100\n",
      "5848/5848 [==============================] - 6s 1ms/sample - loss: 0.0118 - val_loss: 0.0115\n",
      "Epoch 37/100\n",
      "5848/5848 [==============================] - 6s 1ms/sample - loss: 0.0117 - val_loss: 0.0112\n",
      "Epoch 38/100\n",
      "5848/5848 [==============================] - 6s 1ms/sample - loss: 0.0116 - val_loss: 0.0124\n",
      "Epoch 39/100\n",
      "5848/5848 [==============================] - 6s 1ms/sample - loss: 0.0116 - val_loss: 0.0110\n",
      "Epoch 40/100\n",
      "5848/5848 [==============================] - 6s 993us/sample - loss: 0.0116 - val_loss: 0.0130\n",
      "Epoch 41/100\n",
      "5848/5848 [==============================] - 6s 970us/sample - loss: 0.0116 - val_loss: 0.0109\n",
      "Epoch 42/100\n",
      "5848/5848 [==============================] - 6s 1ms/sample - loss: 0.0115 - val_loss: 0.0111\n",
      "Epoch 43/100\n",
      "5848/5848 [==============================] - 6s 969us/sample - loss: 0.0115 - val_loss: 0.0107\n",
      "Epoch 44/100\n",
      "5848/5848 [==============================] - 6s 1ms/sample - loss: 0.0114 - val_loss: 0.0106\n",
      "Epoch 45/100\n",
      "5848/5848 [==============================] - 6s 976us/sample - loss: 0.0113 - val_loss: 0.0106\n",
      "Epoch 46/100\n",
      "5848/5848 [==============================] - 6s 962us/sample - loss: 0.0115 - val_loss: 0.0106\n",
      "Epoch 47/100\n",
      "5848/5848 [==============================] - 6s 943us/sample - loss: 0.0114 - val_loss: 0.0108\n",
      "Epoch 48/100\n",
      "5848/5848 [==============================] - 5s 929us/sample - loss: 0.0114 - val_loss: 0.0104\n",
      "Epoch 49/100\n",
      "5848/5848 [==============================] - 6s 968us/sample - loss: 0.0113 - val_loss: 0.0104\n",
      "Epoch 50/100\n",
      "5848/5848 [==============================] - 6s 969us/sample - loss: 0.0113 - val_loss: 0.0107\n",
      "Epoch 51/100\n",
      "5848/5848 [==============================] - 5s 929us/sample - loss: 0.0112 - val_loss: 0.0105\n",
      "Epoch 52/100\n",
      "5848/5848 [==============================] - 5s 901us/sample - loss: 0.0111 - val_loss: 0.0119\n",
      "Epoch 53/100\n",
      "5848/5848 [==============================] - 6s 943us/sample - loss: 0.0113 - val_loss: 0.0105\n",
      "Epoch 54/100\n",
      "5848/5848 [==============================] - 6s 1ms/sample - loss: 0.0112 - val_loss: 0.0108\n",
      "Epoch 55/100\n",
      "5848/5848 [==============================] - 5s 940us/sample - loss: 0.0111 - val_loss: 0.0114\n",
      "Epoch 56/100\n",
      "5848/5848 [==============================] - 5s 911us/sample - loss: 0.0111 - val_loss: 0.0114\n",
      "Epoch 57/100\n",
      "5848/5848 [==============================] - 5s 931us/sample - loss: 0.0112 - val_loss: 0.0105\n",
      "Epoch 58/100\n",
      "5848/5848 [==============================] - 6s 978us/sample - loss: 0.0110 - val_loss: 0.0114\n",
      "Epoch 59/100\n",
      "5848/5848 [==============================] - 6s 945us/sample - loss: 0.0113 - val_loss: 0.0119\n",
      "Epoch 60/100\n",
      "5848/5848 [==============================] - 6s 947us/sample - loss: 0.0111 - val_loss: 0.0111\n",
      "Epoch 61/100\n",
      "5848/5848 [==============================] - 6s 965us/sample - loss: 0.0111 - val_loss: 0.0116\n",
      "Epoch 62/100\n",
      "5848/5848 [==============================] - 6s 967us/sample - loss: 0.0111 - val_loss: 0.0109\n",
      "Epoch 63/100\n",
      "5848/5848 [==============================] - 6s 959us/sample - loss: 0.0110 - val_loss: 0.0110\n",
      "Epoch 64/100\n",
      "5848/5848 [==============================] - 6s 961us/sample - loss: 0.0111 - val_loss: 0.0109\n",
      "Epoch 65/100\n",
      "5848/5848 [==============================] - 6s 980us/sample - loss: 0.0111 - val_loss: 0.0110\n",
      "Epoch 66/100\n",
      "5848/5848 [==============================] - 6s 948us/sample - loss: 0.0109 - val_loss: 0.0106\n",
      "Epoch 67/100\n",
      "5848/5848 [==============================] - 6s 948us/sample - loss: 0.0109 - val_loss: 0.0110\n",
      "Epoch 68/100\n",
      "5848/5848 [==============================] - 6s 953us/sample - loss: 0.0108 - val_loss: 0.0105\n",
      "Epoch 69/100\n",
      "5848/5848 [==============================] - 6s 950us/sample - loss: 0.0105 - val_loss: 0.0111\n",
      "Epoch 70/100\n",
      "5848/5848 [==============================] - 6s 1ms/sample - loss: 0.0109 - val_loss: 0.0115\n",
      "Epoch 71/100\n",
      "5848/5848 [==============================] - 6s 989us/sample - loss: 0.0108 - val_loss: 0.0107\n",
      "Epoch 72/100\n",
      "5848/5848 [==============================] - 5s 911us/sample - loss: 0.0108 - val_loss: 0.0110\n",
      "Epoch 73/100\n",
      "5848/5848 [==============================] - 6s 965us/sample - loss: 0.0107 - val_loss: 0.0113\n",
      "Epoch 74/100\n",
      "5848/5848 [==============================] - 6s 991us/sample - loss: 0.0106 - val_loss: 0.0118\n",
      "Epoch 75/100\n",
      "5848/5848 [==============================] - 6s 965us/sample - loss: 0.0109 - val_loss: 0.0117\n",
      "Epoch 76/100\n",
      "5848/5848 [==============================] - 6s 947us/sample - loss: 0.0107 - val_loss: 0.0123\n",
      "Epoch 77/100\n",
      "5848/5848 [==============================] - 6s 944us/sample - loss: 0.0108 - val_loss: 0.0114\n",
      "Epoch 78/100\n",
      "5848/5848 [==============================] - 5s 922us/sample - loss: 0.0109 - val_loss: 0.0108\n",
      "Epoch 79/100\n",
      "5848/5848 [==============================] - 6s 965us/sample - loss: 0.0106 - val_loss: 0.0105\n",
      "Epoch 80/100\n",
      "5848/5848 [==============================] - 6s 1ms/sample - loss: 0.0105 - val_loss: 0.0113\n",
      "Epoch 81/100\n",
      "5848/5848 [==============================] - 6s 956us/sample - loss: 0.0105 - val_loss: 0.0109\n",
      "Epoch 82/100\n",
      "5848/5848 [==============================] - 5s 934us/sample - loss: 0.0106 - val_loss: 0.0112\n",
      "Epoch 83/100\n",
      "5848/5848 [==============================] - 6s 991us/sample - loss: 0.0106 - val_loss: 0.0115\n",
      "Epoch 84/100\n",
      "5848/5848 [==============================] - 6s 979us/sample - loss: 0.0104 - val_loss: 0.0107\n",
      "Epoch 85/100\n",
      "5848/5848 [==============================] - 5s 935us/sample - loss: 0.0105 - val_loss: 0.0124\n",
      "Epoch 86/100\n",
      "5848/5848 [==============================] - 6s 971us/sample - loss: 0.0104 - val_loss: 0.0108\n",
      "Epoch 87/100\n",
      "5848/5848 [==============================] - 6s 946us/sample - loss: 0.0105 - val_loss: 0.0114\n",
      "Epoch 88/100\n",
      "5848/5848 [==============================] - 5s 937us/sample - loss: 0.0104 - val_loss: 0.0107\n",
      "Epoch 89/100\n",
      "5848/5848 [==============================] - 6s 977us/sample - loss: 0.0103 - val_loss: 0.0105\n",
      "Epoch 90/100\n",
      "5848/5848 [==============================] - 5s 927us/sample - loss: 0.0104 - val_loss: 0.0104\n",
      "Epoch 91/100\n",
      "5848/5848 [==============================] - 6s 962us/sample - loss: 0.0103 - val_loss: 0.0111\n",
      "Epoch 92/100\n",
      "5848/5848 [==============================] - 6s 959us/sample - loss: 0.0103 - val_loss: 0.0112\n",
      "Epoch 93/100\n",
      "5848/5848 [==============================] - 5s 938us/sample - loss: 0.0103 - val_loss: 0.0112\n",
      "Epoch 94/100\n",
      "5848/5848 [==============================] - 5s 940us/sample - loss: 0.0103 - val_loss: 0.0117\n",
      "Epoch 95/100\n",
      "5848/5848 [==============================] - 6s 959us/sample - loss: 0.0103 - val_loss: 0.0105\n",
      "Epoch 96/100\n",
      "5848/5848 [==============================] - 6s 945us/sample - loss: 0.0102 - val_loss: 0.0127\n",
      "Epoch 97/100\n",
      "5848/5848 [==============================] - 6s 977us/sample - loss: 0.0103 - val_loss: 0.0105\n",
      "Epoch 98/100\n",
      "5848/5848 [==============================] - 6s 974us/sample - loss: 0.0101 - val_loss: 0.0120\n",
      "Epoch 99/100\n",
      "5848/5848 [==============================] - 6s 942us/sample - loss: 0.0101 - val_loss: 0.0112\n",
      "Epoch 100/100\n",
      "5848/5848 [==============================] - 6s 1ms/sample - loss: 0.0104 - val_loss: 0.0126\n"
     ]
    }
   ],
   "source": [
    "from tensorflow.keras.layers import Dense,Dropout,LSTM,concatenate\n",
    "from tensorflow.keras import Input, Model\n",
    "from tcn import TCN,tcn_full_summary\n",
    "#输入层\n",
    "Input = Input(batch_shape=(None,train_mainX.shape[1],train_mainX.shape[2]))\n",
    "TCN1 = TCN(nb_filters=64, kernel_size=5, activation='relu', padding='same',return_sequences=True)(Input)\n",
    "TCN2 = TCN(nb_filters=8, kernel_size=2,activation='relu', padding='same',return_sequences=True)(TCN1)\n",
    "TCN3 = TCN(nb_filters=8, kernel_size=2,activation='relu', padding='same',return_sequences=False)(TCN2)\n",
    "Drop2 = Dropout(0.5)(TCN3)\n",
    "\n",
    "LSTM1 = LSTM(96,return_sequences=True)(Input)\n",
    "LSTM2 = LSTM(48,return_sequences=False)(LSTM1)\n",
    "Drop1 = Dropout(0.5)(LSTM2)\n",
    "#模型1和模型2连接起来\n",
    "\n",
    "con = concatenate([Drop2,Drop1])\n",
    "#Flat = Flatten()(con)\n",
    "output = Dense(units = look_lag)(con)#主要输出\n",
    "#main_output = Dropout(0.2)(main_output)\n",
    "\n",
    "model = Model(inputs=Input, outputs=output)\n",
    "model.compile(optimizer = 'adam', loss = 'mean_squared_error')\n",
    "history = model.fit(train_mainX,train_mainY, validation_split=0.33,epochs=100,shuffle=True)"
   ]
  },
  {
   "cell_type": "code",
   "execution_count": 10,
   "metadata": {},
   "outputs": [
    {
     "data": {
      "text/plain": [
       "[<matplotlib.lines.Line2D at 0x7f766a4ccf98>]"
      ]
     },
     "execution_count": 10,
     "metadata": {},
     "output_type": "execute_result"
    },
    {
     "data": {
      "image/png": "[encoded data removed]",
      "text/plain": [
       "<Figure size 720x360 with 1 Axes>"
      ]
     },
     "metadata": {
      "needs_background": "light"
     },
     "output_type": "display_data"
    }
   ],
   "source": [
    "pyplot.figure(figsize=(10,5))\n",
    "pyplot.plot(history.history['loss'], label='loss')\n",
    "pyplot.plot(history.history['val_loss'], label='val_loss')"
   ]
  },
  {
   "cell_type": "code",
   "execution_count": 11,
   "metadata": {},
   "outputs": [
    {
     "name": "stdout",
     "output_type": "stream",
     "text": [
      "Model: \"model_1\"\n",
      "__________________________________________________________________________________________________\n",
      "Layer (type)                    Output Shape         Param #     Connected to                     \n",
      "==================================================================================================\n",
      "input_2 (InputLayer)            [(None, 16, 12)]     0                                            \n",
      "__________________________________________________________________________________________________\n",
      "tcn_3 (TCN)                     (None, 16, 64)       230720      input_2[0][0]                    \n",
      "__________________________________________________________________________________________________\n",
      "tcn_4 (TCN)                     (None, 16, 8)        3048        tcn_3[0][0]                      \n",
      "__________________________________________________________________________________________________\n",
      "lstm_2 (LSTM)                   (None, 16, 96)       41856       input_2[0][0]                    \n",
      "__________________________________________________________________________________________________\n",
      "tcn_5 (TCN)                     (None, 8)            1632        tcn_4[0][0]                      \n",
      "__________________________________________________________________________________________________\n",
      "lstm_3 (LSTM)                   (None, 48)           27840       lstm_2[0][0]                     \n",
      "__________________________________________________________________________________________________\n",
      "dropout_2 (Dropout)             (None, 8)            0           tcn_5[0][0]                      \n",
      "__________________________________________________________________________________________________\n",
      "dropout_3 (Dropout)             (None, 48)           0           lstm_3[0][0]                     \n",
      "__________________________________________________________________________________________________\n",
      "concatenate_1 (Concatenate)     (None, 56)           0           dropout_2[0][0]                  \n",
      "                                                                 dropout_3[0][0]                  \n",
      "__________________________________________________________________________________________________\n",
      "dense_1 (Dense)                 (None, 16)           912         concatenate_1[0][0]              \n",
      "==================================================================================================\n",
      "Total params: 306,008\n",
      "Trainable params: 306,008\n",
      "Non-trainable params: 0\n",
      "__________________________________________________________________________________________________\n"
     ]
    }
   ],
   "source": [
    "model.summary()"
   ]
  },
  {
   "cell_type": "code",
   "execution_count": 12,
   "metadata": {},
   "outputs": [],
   "source": [
    "# 执行预测\n",
    "testPredict = model.predict(test_mainX)"
   ]
  },
  {
   "cell_type": "code",
   "execution_count": 13,
   "metadata": {},
   "outputs": [
    {
     "data": {
      "text/plain": [
       "(540, 16)"
      ]
     },
     "execution_count": 13,
     "metadata": {},
     "output_type": "execute_result"
    }
   ],
   "source": [
    "testPredict.shape"
   ]
  },
  {
   "cell_type": "code",
   "execution_count": 14,
   "metadata": {},
   "outputs": [],
   "source": [
    "testPredict = testPredict.reshape(-1,1)\n",
    "testPredict = scaler_y.inverse_transform(testPredict)"
   ]
  },
  {
   "cell_type": "code",
   "execution_count": 15,
   "metadata": {},
   "outputs": [
    {
     "data": {
      "text/plain": [
       "array([[29.066477],\n",
       "       [28.438305],\n",
       "       [28.343403],\n",
       "       ...,\n",
       "       [33.10949 ],\n",
       "       [32.92834 ],\n",
       "       [32.629597]], dtype=float32)"
      ]
     },
     "execution_count": 15,
     "metadata": {},
     "output_type": "execute_result"
    }
   ],
   "source": [
    "testPredict"
   ]
  },
  {
   "cell_type": "code",
   "execution_count": 16,
   "metadata": {},
   "outputs": [
    {
     "data": {
      "text/plain": [
       "(8640, 1)"
      ]
     },
     "execution_count": 16,
     "metadata": {},
     "output_type": "execute_result"
    }
   ],
   "source": [
    "test_mainY = test_mainY.reshape(-1,1)\n",
    "test_mainY = scaler_y.inverse_transform(test_mainY)\n",
    "test_mainY.shape"
   ]
  },
  {
   "cell_type": "code",
   "execution_count": 17,
   "metadata": {},
   "outputs": [],
   "source": [
    "import numpy as np\n",
    "from sklearn.metrics import mean_squared_error,mean_absolute_error,r2_score\n",
    "def result(testY,testPredict):\n",
    "    mse = mean_squared_error(testY,testPredict)\n",
    "    mae = mean_absolute_error(testY,testPredict)\n",
    "    r_square = r2_score(testY,testPredict)\n",
    "    print(\"MSE:\",mse)\n",
    "    print(\"MAE:\",mae)\n",
    "    print(\"R_Square:\",r_square)\n",
    "    rmse = math.sqrt(mse)\n",
    "    print(\"RMSE:\",rmse)\n",
    "    capacity = 49.5\n",
    "    print(\"NRMSE:\",1 - rmse/capacity)\n",
    "    p_hme = 0\n",
    "    whole_power = 49.5\n",
    "    for l in range(testY.shape[0]):\n",
    "        if testY[l] <= whole_power * 0.03 and testPredict[l] <= whole_power * 0.03:\n",
    "            continue\n",
    "        p_hme = p_hme + abs(testY[l] / (testY[l] + testPredict[l]) - 0.5) * abs(testPredict[l] -testY[l]) / np.sum(np.abs(testPredict - testY))\n",
    "    p_hme =  1 - 2 * p_hme\n",
    "    print('E', p_hme)"
   ]
  },
  {
   "cell_type": "code",
   "execution_count": 18,
   "metadata": {},
   "outputs": [
    {
     "name": "stdout",
     "output_type": "stream",
     "text": [
      "2019年1-3月结果：\n",
      "MSE: 29.200205\n",
      "MAE: 3.8422422\n",
      "R_Square: 0.8396426111912088\n",
      "RMSE: 5.403721388935884\n",
      "NRMSE: 0.8908339113346286\n",
      "E [0.7438765]\n",
      "2019年1月结果：\n",
      "MSE: 33.933285\n",
      "MAE: 4.304435\n",
      "R_Square: 0.7929142812288092\n",
      "RMSE: 5.825228301064387\n",
      "NRMSE: 0.8823186201805174\n",
      "E 0.7705436486825517\n",
      "2019年2月结果：\n",
      "MSE: 27.127563\n",
      "MAE: 3.7233646\n",
      "R_Square: 0.8547446429409962\n",
      "RMSE: 5.208412759811044\n",
      "NRMSE: 0.8947795402058375\n",
      "E 0.7408771443807891\n",
      "2019年3月结果：\n",
      "MSE: 26.339188\n",
      "MAE: 3.4874222\n",
      "R_Square: 0.8585550277249698\n",
      "RMSE: 5.132171823124233\n",
      "NRMSE: 0.8963197611490054\n",
      "E 0.7138531429567188\n"
     ]
    }
   ],
   "source": [
    "predictions_1 = testPredict[0:31*96,0]\n",
    "predictions_2 = testPredict[31*96:59*96,0]\n",
    "predictions_3 = testPredict[59*96:90*96,0]\n",
    "\n",
    "test_labels_1 = test_mainY[0:31*96,0]\n",
    "test_labels_2 = test_mainY[31*96:59*96,0]\n",
    "test_labels_3 = test_mainY[59*96:90*96,0]\n",
    "\n",
    "print(\"2019年1-3月结果：\")\n",
    "result(test_mainY,testPredict)\n",
    "print(\"2019年1月结果：\")\n",
    "result(test_labels_1,predictions_1)\n",
    "print(\"2019年2月结果：\")\n",
    "result(test_labels_2,predictions_2)\n",
    "print(\"2019年3月结果：\")\n",
    "result(test_labels_3,predictions_3)"
   ]
  },
  {
   "cell_type": "code",
   "execution_count": 29,
   "metadata": {},
   "outputs": [
    {
     "name": "stdout",
     "output_type": "stream",
     "text": [
      "原始系统准确率:\n",
      "2019年1-3月结果：\n",
      "MSE: 38.90323077467954\n",
      "MAE: 4.73843288221362\n",
      "R_Square: 0.7863569507222773\n",
      "RMSE: 6.237245447685985\n",
      "NRMSE: 0.8739950414608892\n",
      "E [0.66917906]\n",
      "2019年1月结果：\n",
      "MSE: 38.48454371279563\n",
      "MAE: 4.870769504471107\n",
      "R_Square: 0.7651391491589099\n",
      "RMSE: 6.203591194847999\n",
      "NRMSE: 0.8746749253566061\n",
      "E 0.7053141024294813\n",
      "2019年2月结果：\n",
      "MSE: 43.47097008356602\n",
      "MAE: 5.008162211467779\n",
      "R_Square: 0.7672333948800686\n",
      "RMSE: 6.593251859558076\n",
      "NRMSE: 0.8668029927362004\n",
      "E 0.6714997321255596\n",
      "2019年3月结果：\n",
      "MSE: 35.19621781563373\n",
      "MAE: 4.3624697690168945\n",
      "R_Square: 0.8109915717941774\n",
      "RMSE: 5.932640037591504\n",
      "NRMSE: 0.8801486861092626\n",
      "E 0.6264273692486862\n"
     ]
    }
   ],
   "source": [
    "#原系统准确率\n",
    "testorin=dataframe.values[train_size:,0]\n",
    "testorin=testorin.reshape(8640,1)\n",
    "systempredictions_1 = testorin[0:31*96,0]\n",
    "systempredictions_2 = testorin[31*96:59*96,0]\n",
    "systempredictions_3 = testorin[59*96:90*96,0]\n",
    "#原始系统准确率\n",
    "print(\"原始系统准确率:\")\n",
    "print(\"2019年1-3月结果：\")\n",
    "result(test_mainY,testorin)\n",
    "print(\"2019年1月结果：\")\n",
    "result(test_labels_1,systempredictions_1)\n",
    "print(\"2019年2月结果：\")\n",
    "result(test_labels_2,systempredictions_2)\n",
    "print(\"2019年3月结果：\")\n",
    "result(test_labels_3,systempredictions_3)"
   ]
  },
  {
   "cell_type": "code",
   "execution_count": 30,
   "metadata": {},
   "outputs": [],
   "source": [
    "new_data = numpy.hstack([test_mainY,testorin,testPredict])"
   ]
  },
  {
   "cell_type": "code",
   "execution_count": 31,
   "metadata": {},
   "outputs": [],
   "source": [
    "import pandas as pd\n",
    "new_data = pd.DataFrame(new_data,columns= ['实际功率','原系统预测功率','超短期预测功率'])"
   ]
  },
  {
   "cell_type": "code",
   "execution_count": 33,
   "metadata": {},
   "outputs": [],
   "source": [
    "new_data.to_csv('tcn_lstm-ushort-89.78.csv', index=False, sep=',')"
   ]
  },
  {
   "cell_type": "code",
   "execution_count": null,
   "metadata": {},
   "outputs": [],
   "source": []
  }
 ],
 "metadata": {
  "kernelspec": {
   "display_name": "conda_tensorflow2_py3",
   "language": "python",
   "name": "conda_tensorflow2_py3"
  },
  "language_info": {
   "codemirror_mode": {
    "name": "ipython",
    "version": 3
   },
   "file_extension": ".py",
   "mimetype": "text/x-python",
   "name": "python",
   "nbconvert_exporter": "python",
   "pygments_lexer": "ipython3",
   "version": "3.6.5"
  }
 },
 "nbformat": 4,
 "nbformat_minor": 4
}
