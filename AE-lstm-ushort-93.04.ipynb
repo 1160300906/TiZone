{
 "cells": [
  {
   "cell_type": "code",
   "execution_count": 1,
   "metadata": {},
   "outputs": [
    {
     "data": {
      "text/plain": [
       "(43584, 8)"
      ]
     },
     "execution_count": 1,
     "metadata": {},
     "output_type": "execute_result"
    }
   ],
   "source": [
    "import numpy\n",
    "from matplotlib import pyplot\n",
    "from pandas import read_csv\n",
    "import math\n",
    "from sklearn.preprocessing import MinMaxScaler\n",
    "%matplotlib inline\n",
    "\n",
    "# load the dataset\n",
    "dataframe = read_csv('intecleaned-correct.csv',usecols=[1,2,4,5,6,7,8,9])\n",
    "dataset = dataframe.values\n",
    "#将整型变为float\n",
    "dataset = dataset.astype('float32')\n",
    "\n",
    "# fix random seed for reproducibility\n",
    "numpy.random.seed(7)\n",
    "# normalize the dataset\n",
    "scaler_y = MinMaxScaler(feature_range=(0, 1))#功率数据归一化，之后还原预测结果要用\n",
    "Y = scaler_y.fit_transform(dataset[:,5:6])\n",
    "\n",
    "scaler_y1 = MinMaxScaler(feature_range=(0, 1))#风速数据归一化\n",
    "Y1 = scaler_y1.fit_transform(dataset[:,6:7])\n",
    "\n",
    "scaler = MinMaxScaler(feature_range=(0, 1))\n",
    "dataset = scaler.fit_transform(dataset)\n",
    "\n",
    "dataset.shape"
   ]
  },
  {
   "cell_type": "code",
   "execution_count": 6,
   "metadata": {},
   "outputs": [
    {
     "data": {
      "text/plain": [
       "(43584, 8)"
      ]
     },
     "execution_count": 6,
     "metadata": {},
     "output_type": "execute_result"
    }
   ],
   "source": [
    "datasetCopy = dataset.copy()\n",
    "datasetCopy.shape"
   ]
  },
  {
   "cell_type": "code",
   "execution_count": 2,
   "metadata": {},
   "outputs": [
    {
     "name": "stdout",
     "output_type": "stream",
     "text": [
      "Looking in indexes: http://mirrors.tencentyun.com/pypi/simple\n",
      "Requirement already satisfied: keras==2.2.4 in /opt/conda/envs/tensorflow_py3/lib/python3.6/site-packages (2.2.4)\n",
      "Requirement already satisfied: keras-preprocessing>=1.0.5 in /opt/conda/envs/tensorflow_py3/lib/python3.6/site-packages (from keras==2.2.4) (1.1.0)\n",
      "Requirement already satisfied: six>=1.9.0 in /opt/conda/envs/tensorflow_py3/lib/python3.6/site-packages (from keras==2.2.4) (1.15.0)\n",
      "Requirement already satisfied: numpy>=1.9.1 in /opt/conda/envs/tensorflow_py3/lib/python3.6/site-packages (from keras==2.2.4) (1.18.5)\n",
      "Requirement already satisfied: keras-applications>=1.0.6 in /opt/conda/envs/tensorflow_py3/lib/python3.6/site-packages (from keras==2.2.4) (1.0.8)\n",
      "Requirement already satisfied: scipy>=0.14 in /opt/conda/envs/tensorflow_py3/lib/python3.6/site-packages (from keras==2.2.4) (1.5.0)\n",
      "Requirement already satisfied: h5py in /opt/conda/envs/tensorflow_py3/lib/python3.6/site-packages (from keras==2.2.4) (2.10.0)\n",
      "Requirement already satisfied: pyyaml in /opt/conda/envs/tensorflow_py3/lib/python3.6/site-packages (from keras==2.2.4) (5.3.1)\n"
     ]
    }
   ],
   "source": [
    "!pip install keras==2.2.4"
   ]
  },
  {
   "cell_type": "code",
   "execution_count": 3,
   "metadata": {},
   "outputs": [
    {
     "name": "stderr",
     "output_type": "stream",
     "text": [
      "Using TensorFlow backend.\n"
     ]
    }
   ],
   "source": [
    "import keras\n",
    "from keras.layers import Dense, Input\n",
    "from keras.models import Model"
   ]
  },
  {
   "cell_type": "code",
   "execution_count": 7,
   "metadata": {},
   "outputs": [
    {
     "name": "stdout",
     "output_type": "stream",
     "text": [
      "WARNING:tensorflow:From /opt/conda/envs/tensorflow_py3/lib/python3.6/site-packages/keras/backend/tensorflow_backend.py:986: The name tf.assign_add is deprecated. Please use tf.compat.v1.assign_add instead.\n",
      "\n",
      "WARNING:tensorflow:From /opt/conda/envs/tensorflow_py3/lib/python3.6/site-packages/keras/backend/tensorflow_backend.py:973: The name tf.assign is deprecated. Please use tf.compat.v1.assign instead.\n",
      "\n"
     ]
    },
    {
     "name": "stderr",
     "output_type": "stream",
     "text": [
      "/opt/conda/envs/tensorflow_py3/lib/python3.6/site-packages/ipykernel/__main__.py:6: UserWarning: Update your `Model` call to the Keras 2 API: `Model(inputs=Tensor(\"in..., outputs=Tensor(\"de...)`\n"
     ]
    },
    {
     "name": "stdout",
     "output_type": "stream",
     "text": [
      "WARNING:tensorflow:From /opt/conda/envs/tensorflow_py3/lib/python3.6/site-packages/keras/backend/tensorflow_backend.py:2741: The name tf.Session is deprecated. Please use tf.compat.v1.Session instead.\n",
      "\n",
      "Epoch 1/20\n",
      "WARNING:tensorflow:From /opt/conda/envs/tensorflow_py3/lib/python3.6/site-packages/keras/backend/tensorflow_backend.py:174: The name tf.get_default_session is deprecated. Please use tf.compat.v1.get_default_session instead.\n",
      "\n",
      "WARNING:tensorflow:From /opt/conda/envs/tensorflow_py3/lib/python3.6/site-packages/keras/backend/tensorflow_backend.py:181: The name tf.ConfigProto is deprecated. Please use tf.compat.v1.ConfigProto instead.\n",
      "\n",
      "WARNING:tensorflow:From /opt/conda/envs/tensorflow_py3/lib/python3.6/site-packages/keras/backend/tensorflow_backend.py:190: The name tf.global_variables is deprecated. Please use tf.compat.v1.global_variables instead.\n",
      "\n",
      "WARNING:tensorflow:From /opt/conda/envs/tensorflow_py3/lib/python3.6/site-packages/keras/backend/tensorflow_backend.py:199: The name tf.is_variable_initialized is deprecated. Please use tf.compat.v1.is_variable_initialized instead.\n",
      "\n",
      "WARNING:tensorflow:From /opt/conda/envs/tensorflow_py3/lib/python3.6/site-packages/keras/backend/tensorflow_backend.py:206: The name tf.variables_initializer is deprecated. Please use tf.compat.v1.variables_initializer instead.\n",
      "\n",
      "43584/43584 [==============================] - 3s 64us/step - loss: 0.0155\n",
      "Epoch 2/20\n",
      "43584/43584 [==============================] - 1s 19us/step - loss: 3.6664e-04\n",
      "Epoch 3/20\n",
      "43584/43584 [==============================] - 1s 19us/step - loss: 2.0370e-04\n",
      "Epoch 4/20\n",
      "43584/43584 [==============================] - 1s 19us/step - loss: 1.4944e-04\n",
      "Epoch 5/20\n",
      "43584/43584 [==============================] - 1s 19us/step - loss: 1.2463e-04\n",
      "Epoch 6/20\n",
      "43584/43584 [==============================] - 1s 19us/step - loss: 1.0866e-04\n",
      "Epoch 7/20\n",
      "43584/43584 [==============================] - 1s 19us/step - loss: 9.7435e-05\n",
      "Epoch 8/20\n",
      "43584/43584 [==============================] - 1s 19us/step - loss: 8.6387e-05\n",
      "Epoch 9/20\n",
      "43584/43584 [==============================] - 1s 19us/step - loss: 7.9048e-05\n",
      "Epoch 10/20\n",
      "43584/43584 [==============================] - 1s 19us/step - loss: 7.1690e-05\n",
      "Epoch 11/20\n",
      "43584/43584 [==============================] - 1s 19us/step - loss: 6.2705e-05\n",
      "Epoch 12/20\n",
      "43584/43584 [==============================] - 1s 20us/step - loss: 5.7727e-05\n",
      "Epoch 13/20\n",
      "43584/43584 [==============================] - 1s 20us/step - loss: 5.0372e-05\n",
      "Epoch 14/20\n",
      "43584/43584 [==============================] - 1s 19us/step - loss: 4.7444e-05\n",
      "Epoch 15/20\n",
      "43584/43584 [==============================] - 1s 19us/step - loss: 4.2949e-05\n",
      "Epoch 16/20\n",
      "43584/43584 [==============================] - 1s 19us/step - loss: 3.9004e-05\n",
      "Epoch 17/20\n",
      "43584/43584 [==============================] - 1s 19us/step - loss: 3.6143e-05\n",
      "Epoch 18/20\n",
      "43584/43584 [==============================] - 1s 19us/step - loss: 3.5050e-05\n",
      "Epoch 19/20\n",
      "43584/43584 [==============================] - 1s 19us/step - loss: 3.2100e-05\n",
      "Epoch 20/20\n",
      "43584/43584 [==============================] - 1s 19us/step - loss: 3.0144e-05\n"
     ]
    },
    {
     "data": {
      "text/plain": [
       "<keras.callbacks.History at 0x7f8457f6e6d8>"
      ]
     },
     "execution_count": 7,
     "metadata": {},
     "output_type": "execute_result"
    }
   ],
   "source": [
    "input = Input(shape=(8,))\n",
    "encoded = Dense(128, activation='relu')(input)\n",
    "encoded1 = Dense(64, activation='relu')(encoded)\n",
    "decoded = Dense(64, activation='relu')(encoded1)\n",
    "decoded1 = Dense(8, activation='tanh')(decoded)\n",
    "autoencoder = Model(input=input, output=decoded1)\n",
    "autoencoder.compile(optimizer='adam', loss='mean_squared_error')\n",
    "autoencoder.fit(datasetCopy, datasetCopy, epochs=20, batch_size=128, verbose=1)"
   ]
  },
  {
   "cell_type": "code",
   "execution_count": 8,
   "metadata": {},
   "outputs": [
    {
     "name": "stderr",
     "output_type": "stream",
     "text": [
      "/opt/conda/envs/tensorflow_py3/lib/python3.6/site-packages/ipykernel/__main__.py:1: UserWarning: Update your `Model` call to the Keras 2 API: `Model(inputs=Tensor(\"in..., outputs=Tensor(\"de...)`\n",
      "  if __name__ == '__main__':\n"
     ]
    }
   ],
   "source": [
    "encoderModel = Model(input=input, output=encoded1)\n",
    "encoded_input = Input(shape=(64,))  \n",
    "decoder_layer = autoencoder.layers[-1]  \n",
    "decoderModel = Model(inputs=encoded_input, outputs=decoder_layer(encoded_input))\n",
    "encoded_data = encoderModel.predict(datasetCopy)  \n",
    "datasetCopy = decoderModel.predict(encoded_data)\n",
    "#trainnewX = autoencoder.predict(train_X)"
   ]
  },
  {
   "cell_type": "code",
   "execution_count": 9,
   "metadata": {},
   "outputs": [
    {
     "data": {
      "text/plain": [
       "(43584, 8)"
      ]
     },
     "execution_count": 9,
     "metadata": {},
     "output_type": "execute_result"
    }
   ],
   "source": [
    "datasetCopy.shape"
   ]
  },
  {
   "cell_type": "code",
   "execution_count": 10,
   "metadata": {},
   "outputs": [],
   "source": [
    "def create_dataset(dataset,dataset1, look_back,look_lag,data_step):\n",
    "    main_dataX, main_dataY ,auxi_dataX,auxi_dataY= [], [],[],[]\n",
    "    for i in range(0,len(dataset)-look_back-look_lag+1,data_step):\n",
    "        a = dataset[i:(i+look_back), 1:8] #前一天的短期预测湿度、短期预测风向、短期预测温度、\n",
    "                                        #短期预测气压、实际功率、实际风速都作为输入特征（共7个）\n",
    "        c = dataset[(i+look_back):(i+look_back+look_lag),1:5]#当天的短期预测湿度、短期预测风向、短期预测温度、短期预测气压作为特征（共4个）\n",
    "        d = dataset[(i+look_back):(i+look_back+look_lag),7:8]#当天短期预测风速作为特征（共1个）\n",
    "        e = numpy.hstack([a,c])\n",
    "        e = numpy.hstack([d,e])#把上面的特征都合在一起，共12个特征\n",
    "        main_dataX.append(e) #主要输入\n",
    "        b = dataset1[(i+look_back):(i+look_back+look_lag),5]\n",
    "        main_dataY.append(b) #主要输出 需要预测的功率数据\n",
    "    return numpy.array(main_dataX), numpy.array(main_dataY)#,numpy.array(auxi_dataX),numpy.array(auxi_dataY)\n",
    "\n",
    "\n",
    "look_back = 16\n",
    "look_lag = 16\n",
    "train_size = 364*96\n",
    "test_size = len(dataset) - train_size\n",
    "train, test = datasetCopy[0:train_size,:], datasetCopy[train_size-look_back:len(dataset),:]\n",
    "train1, test1 = dataset[0:train_size,:], dataset[train_size-look_back:len(dataset),:]\n",
    "train_mainX, train_mainY = create_dataset(train, train1,look_back,look_lag,4)#,train_auxiX,train_auxiY\n",
    "test_mainX, test_mainY = create_dataset(test, test1,look_back,look_lag,16)#,test_auxiX,test_auxiY\n",
    "\n",
    "# reshape input to be [samples, time steps, features]\n",
    "train_mainX = numpy.reshape(train_mainX, (train_mainX.shape[0], look_back, 12))\n",
    "\n",
    "test_mainX = numpy.reshape(test_mainX, (test_mainX.shape[0], look_back, 12))"
   ]
  },
  {
   "cell_type": "code",
   "execution_count": 11,
   "metadata": {},
   "outputs": [
    {
     "name": "stdout",
     "output_type": "stream",
     "text": [
      "WARNING:tensorflow:From /opt/conda/envs/tensorflow_py3/lib/python3.6/site-packages/keras/backend/tensorflow_backend.py:133: The name tf.placeholder_with_default is deprecated. Please use tf.compat.v1.placeholder_with_default instead.\n",
      "\n",
      "WARNING:tensorflow:From /opt/conda/envs/tensorflow_py3/lib/python3.6/site-packages/keras/backend/tensorflow_backend.py:3445: calling dropout (from tensorflow.python.ops.nn_ops) with keep_prob is deprecated and will be removed in a future version.\n",
      "Instructions for updating:\n",
      "Please use `rate` instead of `keep_prob`. Rate should be set to `rate = 1 - keep_prob`.\n",
      "WARNING:tensorflow:From /opt/conda/envs/tensorflow_py3/lib/python3.6/site-packages/tensorflow_core/python/ops/math_grad.py:1424: where (from tensorflow.python.ops.array_ops) is deprecated and will be removed in a future version.\n",
      "Instructions for updating:\n",
      "Use tf.where in 2.0, which has the same broadcast rule as np.where\n",
      "Train on 5848 samples, validate on 2881 samples\n",
      "Epoch 1/100\n",
      "5848/5848 [==============================] - 10s 2ms/step - loss: 0.0433 - val_loss: 0.0179\n",
      "Epoch 2/100\n",
      "5848/5848 [==============================] - 7s 1ms/step - loss: 0.0168 - val_loss: 0.0187\n",
      "Epoch 3/100\n",
      "5848/5848 [==============================] - 7s 1ms/step - loss: 0.0148 - val_loss: 0.0129\n",
      "Epoch 4/100\n",
      "5848/5848 [==============================] - 7s 1ms/step - loss: 0.0130 - val_loss: 0.0105\n",
      "Epoch 5/100\n",
      "5848/5848 [==============================] - 7s 1ms/step - loss: 0.0124 - val_loss: 0.0137\n",
      "Epoch 6/100\n",
      "5848/5848 [==============================] - 7s 1ms/step - loss: 0.0119 - val_loss: 0.0096\n",
      "Epoch 7/100\n",
      "5848/5848 [==============================] - 7s 1ms/step - loss: 0.0111 - val_loss: 0.0104\n",
      "Epoch 8/100\n",
      "5848/5848 [==============================] - 7s 1ms/step - loss: 0.0103 - val_loss: 0.0099\n",
      "Epoch 9/100\n",
      "5848/5848 [==============================] - 7s 1ms/step - loss: 0.0098 - val_loss: 0.0079\n",
      "Epoch 10/100\n",
      "5848/5848 [==============================] - 7s 1ms/step - loss: 0.0097 - val_loss: 0.0095\n",
      "Epoch 11/100\n",
      "5848/5848 [==============================] - 7s 1ms/step - loss: 0.0097 - val_loss: 0.0087\n",
      "Epoch 12/100\n",
      "5848/5848 [==============================] - 7s 1ms/step - loss: 0.0090 - val_loss: 0.0104\n",
      "Epoch 13/100\n",
      "5848/5848 [==============================] - 7s 1ms/step - loss: 0.0087 - val_loss: 0.0070\n",
      "Epoch 14/100\n",
      "5848/5848 [==============================] - 7s 1ms/step - loss: 0.0085 - val_loss: 0.0091\n",
      "Epoch 15/100\n",
      "5848/5848 [==============================] - 7s 1ms/step - loss: 0.0083 - val_loss: 0.0078\n",
      "Epoch 16/100\n",
      "5848/5848 [==============================] - 7s 1ms/step - loss: 0.0085 - val_loss: 0.0086\n",
      "Epoch 17/100\n",
      "5848/5848 [==============================] - 7s 1ms/step - loss: 0.0082 - val_loss: 0.0068\n",
      "Epoch 18/100\n",
      "5848/5848 [==============================] - 7s 1ms/step - loss: 0.0080 - val_loss: 0.0108\n",
      "Epoch 19/100\n",
      "5848/5848 [==============================] - 7s 1ms/step - loss: 0.0080 - val_loss: 0.0077\n",
      "Epoch 20/100\n",
      "5848/5848 [==============================] - 7s 1ms/step - loss: 0.0079 - val_loss: 0.0090\n",
      "Epoch 21/100\n",
      "5848/5848 [==============================] - 7s 1ms/step - loss: 0.0074 - val_loss: 0.0112\n",
      "Epoch 22/100\n",
      "5848/5848 [==============================] - 7s 1ms/step - loss: 0.0074 - val_loss: 0.0082\n",
      "Epoch 23/100\n",
      "5848/5848 [==============================] - 7s 1ms/step - loss: 0.0075 - val_loss: 0.0072\n",
      "Epoch 24/100\n",
      "5848/5848 [==============================] - 7s 1ms/step - loss: 0.0073 - val_loss: 0.0088\n",
      "Epoch 25/100\n",
      "5848/5848 [==============================] - 7s 1ms/step - loss: 0.0071 - val_loss: 0.0079\n",
      "Epoch 26/100\n",
      "5848/5848 [==============================] - 7s 1ms/step - loss: 0.0070 - val_loss: 0.0070\n",
      "Epoch 27/100\n",
      "5848/5848 [==============================] - 7s 1ms/step - loss: 0.0072 - val_loss: 0.0104\n",
      "Epoch 28/100\n",
      "5848/5848 [==============================] - 7s 1ms/step - loss: 0.0068 - val_loss: 0.0092\n",
      "Epoch 29/100\n",
      "5848/5848 [==============================] - 7s 1ms/step - loss: 0.0071 - val_loss: 0.0086\n",
      "Epoch 30/100\n",
      "5848/5848 [==============================] - 7s 1ms/step - loss: 0.0066 - val_loss: 0.0091\n",
      "Epoch 31/100\n",
      "5848/5848 [==============================] - 7s 1ms/step - loss: 0.0065 - val_loss: 0.0085\n",
      "Epoch 32/100\n",
      "5848/5848 [==============================] - 7s 1ms/step - loss: 0.0066 - val_loss: 0.0078\n",
      "Epoch 33/100\n",
      "5848/5848 [==============================] - 7s 1ms/step - loss: 0.0066 - val_loss: 0.0072\n",
      "Epoch 34/100\n",
      "5848/5848 [==============================] - 7s 1ms/step - loss: 0.0066 - val_loss: 0.0060\n",
      "Epoch 35/100\n",
      "5848/5848 [==============================] - 7s 1ms/step - loss: 0.0065 - val_loss: 0.0104\n",
      "Epoch 36/100\n",
      "5848/5848 [==============================] - 7s 1ms/step - loss: 0.0064 - val_loss: 0.0074\n",
      "Epoch 37/100\n",
      "5848/5848 [==============================] - 7s 1ms/step - loss: 0.0065 - val_loss: 0.0085\n",
      "Epoch 38/100\n",
      "5848/5848 [==============================] - 7s 1ms/step - loss: 0.0065 - val_loss: 0.0077\n",
      "Epoch 39/100\n",
      "5848/5848 [==============================] - 7s 1ms/step - loss: 0.0062 - val_loss: 0.0079\n",
      "Epoch 40/100\n",
      "5848/5848 [==============================] - 7s 1ms/step - loss: 0.0062 - val_loss: 0.0097\n",
      "Epoch 41/100\n",
      "5848/5848 [==============================] - 8s 1ms/step - loss: 0.0062 - val_loss: 0.0066\n",
      "Epoch 42/100\n",
      "5848/5848 [==============================] - 7s 1ms/step - loss: 0.0061 - val_loss: 0.0069\n",
      "Epoch 43/100\n",
      "5848/5848 [==============================] - 7s 1ms/step - loss: 0.0063 - val_loss: 0.0071\n",
      "Epoch 44/100\n",
      "5848/5848 [==============================] - 7s 1ms/step - loss: 0.0063 - val_loss: 0.0097\n",
      "Epoch 45/100\n",
      "5848/5848 [==============================] - 7s 1ms/step - loss: 0.0060 - val_loss: 0.0063\n",
      "Epoch 46/100\n",
      "5848/5848 [==============================] - 7s 1ms/step - loss: 0.0060 - val_loss: 0.0080\n",
      "Epoch 47/100\n",
      "5848/5848 [==============================] - 7s 1ms/step - loss: 0.0059 - val_loss: 0.0081\n",
      "Epoch 48/100\n",
      "5848/5848 [==============================] - 7s 1ms/step - loss: 0.0059 - val_loss: 0.0089\n",
      "Epoch 49/100\n",
      "5848/5848 [==============================] - 7s 1ms/step - loss: 0.0060 - val_loss: 0.0064\n",
      "Epoch 50/100\n",
      "5848/5848 [==============================] - 7s 1ms/step - loss: 0.0060 - val_loss: 0.0076\n",
      "Epoch 51/100\n",
      "5848/5848 [==============================] - 7s 1ms/step - loss: 0.0059 - val_loss: 0.0056\n",
      "Epoch 52/100\n",
      "5848/5848 [==============================] - 7s 1ms/step - loss: 0.0058 - val_loss: 0.0068\n",
      "Epoch 53/100\n",
      "5848/5848 [==============================] - 7s 1ms/step - loss: 0.0058 - val_loss: 0.0070\n",
      "Epoch 54/100\n",
      "5848/5848 [==============================] - 7s 1ms/step - loss: 0.0059 - val_loss: 0.0083\n",
      "Epoch 55/100\n",
      "5848/5848 [==============================] - 7s 1ms/step - loss: 0.0060 - val_loss: 0.0085\n",
      "Epoch 56/100\n",
      "5848/5848 [==============================] - 7s 1ms/step - loss: 0.0059 - val_loss: 0.0076\n",
      "Epoch 57/100\n",
      "5848/5848 [==============================] - 7s 1ms/step - loss: 0.0058 - val_loss: 0.0063\n",
      "Epoch 58/100\n",
      "5848/5848 [==============================] - 7s 1ms/step - loss: 0.0059 - val_loss: 0.0064\n",
      "Epoch 59/100\n",
      "5848/5848 [==============================] - 7s 1ms/step - loss: 0.0057 - val_loss: 0.0085\n",
      "Epoch 60/100\n",
      "5848/5848 [==============================] - 7s 1ms/step - loss: 0.0058 - val_loss: 0.0092\n",
      "Epoch 61/100\n",
      "5848/5848 [==============================] - 7s 1ms/step - loss: 0.0057 - val_loss: 0.0072\n",
      "Epoch 62/100\n",
      "5848/5848 [==============================] - 7s 1ms/step - loss: 0.0061 - val_loss: 0.0092\n",
      "Epoch 63/100\n",
      "5848/5848 [==============================] - 7s 1ms/step - loss: 0.0057 - val_loss: 0.0073\n",
      "Epoch 64/100\n",
      "5848/5848 [==============================] - 7s 1ms/step - loss: 0.0056 - val_loss: 0.0072\n",
      "Epoch 65/100\n",
      "5848/5848 [==============================] - 7s 1ms/step - loss: 0.0057 - val_loss: 0.0078\n",
      "Epoch 66/100\n",
      "5848/5848 [==============================] - 7s 1ms/step - loss: 0.0057 - val_loss: 0.0072\n",
      "Epoch 67/100\n",
      "5848/5848 [==============================] - 7s 1ms/step - loss: 0.0059 - val_loss: 0.0074\n",
      "Epoch 68/100\n",
      "5848/5848 [==============================] - 7s 1ms/step - loss: 0.0057 - val_loss: 0.0101\n",
      "Epoch 69/100\n",
      "5848/5848 [==============================] - 7s 1ms/step - loss: 0.0056 - val_loss: 0.0068\n",
      "Epoch 70/100\n",
      "5848/5848 [==============================] - 7s 1ms/step - loss: 0.0056 - val_loss: 0.0058\n",
      "Epoch 71/100\n",
      "5848/5848 [==============================] - 7s 1ms/step - loss: 0.0054 - val_loss: 0.0073\n",
      "Epoch 72/100\n",
      "5848/5848 [==============================] - 7s 1ms/step - loss: 0.0055 - val_loss: 0.0060\n",
      "Epoch 73/100\n",
      "5848/5848 [==============================] - 7s 1ms/step - loss: 0.0055 - val_loss: 0.0069\n",
      "Epoch 74/100\n",
      "5848/5848 [==============================] - 7s 1ms/step - loss: 0.0054 - val_loss: 0.0077\n",
      "Epoch 75/100\n",
      "5848/5848 [==============================] - 7s 1ms/step - loss: 0.0056 - val_loss: 0.0061\n",
      "Epoch 76/100\n",
      "5848/5848 [==============================] - 7s 1ms/step - loss: 0.0054 - val_loss: 0.0069\n",
      "Epoch 77/100\n",
      "5848/5848 [==============================] - 7s 1ms/step - loss: 0.0053 - val_loss: 0.0069\n",
      "Epoch 78/100\n",
      "5848/5848 [==============================] - 7s 1ms/step - loss: 0.0052 - val_loss: 0.0076\n",
      "Epoch 79/100\n",
      "5848/5848 [==============================] - 7s 1ms/step - loss: 0.0053 - val_loss: 0.0081\n",
      "Epoch 80/100\n",
      "5848/5848 [==============================] - 7s 1ms/step - loss: 0.0052 - val_loss: 0.0057\n",
      "Epoch 81/100\n",
      "5848/5848 [==============================] - 7s 1ms/step - loss: 0.0053 - val_loss: 0.0075\n",
      "Epoch 82/100\n",
      "5848/5848 [==============================] - 8s 1ms/step - loss: 0.0054 - val_loss: 0.0061\n",
      "Epoch 83/100\n",
      "5848/5848 [==============================] - 7s 1ms/step - loss: 0.0052 - val_loss: 0.0066\n",
      "Epoch 84/100\n",
      "5848/5848 [==============================] - 7s 1ms/step - loss: 0.0054 - val_loss: 0.0068\n",
      "Epoch 85/100\n",
      "5848/5848 [==============================] - 7s 1ms/step - loss: 0.0052 - val_loss: 0.0066\n",
      "Epoch 86/100\n",
      "5848/5848 [==============================] - 7s 1ms/step - loss: 0.0053 - val_loss: 0.0075\n",
      "Epoch 87/100\n",
      "5848/5848 [==============================] - 7s 1ms/step - loss: 0.0052 - val_loss: 0.0068\n",
      "Epoch 88/100\n",
      "5848/5848 [==============================] - 7s 1ms/step - loss: 0.0052 - val_loss: 0.0059\n",
      "Epoch 89/100\n",
      "5848/5848 [==============================] - 7s 1ms/step - loss: 0.0050 - val_loss: 0.0074\n",
      "Epoch 90/100\n",
      "5848/5848 [==============================] - 7s 1ms/step - loss: 0.0051 - val_loss: 0.0068\n",
      "Epoch 91/100\n",
      "5848/5848 [==============================] - 7s 1ms/step - loss: 0.0050 - val_loss: 0.0069\n",
      "Epoch 92/100\n",
      "5848/5848 [==============================] - 7s 1ms/step - loss: 0.0050 - val_loss: 0.0062\n",
      "Epoch 93/100\n",
      "5848/5848 [==============================] - 7s 1ms/step - loss: 0.0053 - val_loss: 0.0079\n",
      "Epoch 94/100\n",
      "5848/5848 [==============================] - 7s 1ms/step - loss: 0.0051 - val_loss: 0.0066\n",
      "Epoch 95/100\n",
      "5848/5848 [==============================] - 7s 1ms/step - loss: 0.0050 - val_loss: 0.0066\n",
      "Epoch 96/100\n",
      "5848/5848 [==============================] - 7s 1ms/step - loss: 0.0049 - val_loss: 0.0061\n",
      "Epoch 97/100\n",
      "5848/5848 [==============================] - 7s 1ms/step - loss: 0.0050 - val_loss: 0.0070\n",
      "Epoch 98/100\n",
      "5848/5848 [==============================] - 7s 1ms/step - loss: 0.0049 - val_loss: 0.0083\n",
      "Epoch 99/100\n",
      "5848/5848 [==============================] - 7s 1ms/step - loss: 0.0049 - val_loss: 0.0070\n",
      "Epoch 100/100\n",
      "5848/5848 [==============================] - 7s 1ms/step - loss: 0.0050 - val_loss: 0.0059\n"
     ]
    }
   ],
   "source": [
    "from keras.layers import Dense, LSTM,Dropout\n",
    "from keras.models import Sequential\n",
    "model = Sequential() \n",
    "model.add(LSTM(units=48, return_sequences=True, \n",
    "               input_shape=(train_mainX.shape[1],train_mainX.shape[2])))\n",
    "model.add(Dropout(0.1))\n",
    "model.add(LSTM(units=48, return_sequences=True))\n",
    "model.add(Dropout(0.2))\n",
    "model.add(LSTM(units=48,return_sequences=False))\n",
    "model.add(Dropout(0.3))\n",
    "model.add(Dense(units = look_lag))\n",
    "model.compile(optimizer = 'adam', loss = 'mean_squared_error')  \n",
    "history = model.fit(train_mainX, train_mainY, epochs = 100,batch_size = 64,validation_split=0.33, shuffle=True)"
   ]
  },
  {
   "cell_type": "code",
   "execution_count": 12,
   "metadata": {},
   "outputs": [
    {
     "data": {
      "text/plain": [
       "[<matplotlib.lines.Line2D at 0x7f841c4ffcf8>]"
      ]
     },
     "execution_count": 12,
     "metadata": {},
     "output_type": "execute_result"
    },
    {
     "data": {
      "image/png": "[encoded data removed]",
      "text/plain": [
       "<Figure size 720x360 with 1 Axes>"
      ]
     },
     "metadata": {
      "needs_background": "light"
     },
     "output_type": "display_data"
    }
   ],
   "source": [
    "pyplot.figure(figsize=(10,5))\n",
    "pyplot.plot(history.history['loss'], label='loss')\n",
    "pyplot.plot(history.history['val_loss'], label='val_loss')"
   ]
  },
  {
   "cell_type": "code",
   "execution_count": 13,
   "metadata": {},
   "outputs": [],
   "source": [
    "testPredict = model.predict(test_mainX)"
   ]
  },
  {
   "cell_type": "code",
   "execution_count": 14,
   "metadata": {},
   "outputs": [
    {
     "data": {
      "text/plain": [
       "array([[27.528278],\n",
       "       [27.887272],\n",
       "       [28.576935],\n",
       "       ...,\n",
       "       [33.83101 ],\n",
       "       [33.41471 ],\n",
       "       [33.32479 ]], dtype=float32)"
      ]
     },
     "execution_count": 14,
     "metadata": {},
     "output_type": "execute_result"
    }
   ],
   "source": [
    "testPredict = testPredict.reshape(-1,1)\n",
    "testPredict = scaler_y.inverse_transform(testPredict)\n",
    "testPredict"
   ]
  },
  {
   "cell_type": "code",
   "execution_count": 15,
   "metadata": {},
   "outputs": [
    {
     "data": {
      "text/plain": [
       "(8640, 1)"
      ]
     },
     "execution_count": 15,
     "metadata": {},
     "output_type": "execute_result"
    }
   ],
   "source": [
    "testPredict.shape"
   ]
  },
  {
   "cell_type": "code",
   "execution_count": 16,
   "metadata": {},
   "outputs": [
    {
     "data": {
      "text/plain": [
       "(8640, 1)"
      ]
     },
     "execution_count": 16,
     "metadata": {},
     "output_type": "execute_result"
    }
   ],
   "source": [
    "test_mainY = test_mainY.reshape(-1,1)\n",
    "test_mainY = scaler_y.inverse_transform(test_mainY)\n",
    "test_mainY.shape"
   ]
  },
  {
   "cell_type": "code",
   "execution_count": 17,
   "metadata": {},
   "outputs": [],
   "source": [
    "from sklearn.metrics import mean_squared_error,mean_absolute_error,r2_score\n",
    "def result(testY,testPredict):\n",
    "    mse = mean_squared_error(testY,testPredict)\n",
    "    mae = mean_absolute_error(testY,testPredict)\n",
    "    r_square = r2_score(testY,testPredict)\n",
    "    print(\"MSE:\",mse)\n",
    "    print(\"MAE:\",mae)\n",
    "    print(\"R_Square:\",r_square)\n",
    "    rmse = math.sqrt(mse)\n",
    "    print(\"RMSE:\",rmse)\n",
    "    capacity = 49.5\n",
    "    print(\"NRMSE:\",1 - rmse/capacity)\n",
    "    p_hme = 0\n",
    "    whole_power = 49.5\n",
    "    for l in range(testY.shape[0]):\n",
    "        if testY[l] <= whole_power * 0.03 and testPredict[l] <= whole_power * 0.03:\n",
    "            continue\n",
    "        p_hme = p_hme + abs(testY[l] / (testY[l] + testPredict[l]) - 0.5) * abs(testPredict[l] -testY[l]) / np.sum(np.abs(testPredict - testY))\n",
    "    p_hme =  1 - 2 * p_hme\n",
    "    print('E', p_hme)"
   ]
  },
  {
   "cell_type": "code",
   "execution_count": 18,
   "metadata": {},
   "outputs": [
    {
     "name": "stdout",
     "output_type": "stream",
     "text": [
      "2019年1-3月结果：\n",
      "MSE: 11.851686\n",
      "MAE: 2.5919402\n",
      "R_Square: 0.93491465030422\n",
      "RMSE: 3.4426277062713035\n",
      "NRMSE: 0.9304519655298726\n",
      "E [0.7901397]\n",
      "2019年1月结果：\n",
      "MSE: 11.221401\n",
      "MAE: 2.6888688\n",
      "R_Square: 0.9315188012184815\n",
      "RMSE: 3.349835998164628\n",
      "NRMSE: 0.9323265454916236\n",
      "E 0.8282020540776601\n",
      "2019年2月结果：\n",
      "MSE: 11.443259\n",
      "MAE: 2.5011034\n",
      "R_Square: 0.9387267225441517\n",
      "RMSE: 3.3827886778805407\n",
      "NRMSE: 0.9316608347902922\n",
      "E 0.7835031761801775\n",
      "2019年3月结果：\n",
      "MSE: 12.850872\n",
      "MAE: 2.5770578\n",
      "R_Square: 0.9309890829561962\n",
      "RMSE: 3.5848112976549995\n",
      "NRMSE: 0.9275795697443434\n",
      "E 0.7562432651032504\n"
     ]
    }
   ],
   "source": [
    "import numpy as np\n",
    "predictions_1 = testPredict[0:31*96,0]\n",
    "predictions_2 = testPredict[31*96:59*96,0]\n",
    "predictions_3 = testPredict[59*96:90*96,0]\n",
    "\n",
    "test_labels_1 = test_mainY[0:31*96,0]\n",
    "test_labels_2 = test_mainY[31*96:59*96,0]\n",
    "test_labels_3 = test_mainY[59*96:90*96,0]\n",
    "\n",
    "print(\"2019年1-3月结果：\")\n",
    "result(test_mainY,testPredict)\n",
    "print(\"2019年1月结果：\")\n",
    "result(test_labels_1,predictions_1)\n",
    "print(\"2019年2月结果：\")\n",
    "result(test_labels_2,predictions_2)\n",
    "print(\"2019年3月结果：\")\n",
    "result(test_labels_3,predictions_3)"
   ]
  },
  {
   "cell_type": "code",
   "execution_count": 19,
   "metadata": {},
   "outputs": [
    {
     "name": "stdout",
     "output_type": "stream",
     "text": [
      "原始系统准确率:\n",
      "2019年1-3月结果：\n",
      "MSE: 38.90323077467954\n",
      "MAE: 4.73843288221362\n",
      "R_Square: 0.7863569507222773\n",
      "RMSE: 6.237245447685985\n",
      "NRMSE: 0.8739950414608892\n",
      "E [0.66917906]\n",
      "2019年1月结果：\n",
      "MSE: 38.48454371279563\n",
      "MAE: 4.870769504471107\n",
      "R_Square: 0.7651391491589099\n",
      "RMSE: 6.203591194847999\n",
      "NRMSE: 0.8746749253566061\n",
      "E 0.7053141024294813\n",
      "2019年2月结果：\n",
      "MSE: 43.47097008356602\n",
      "MAE: 5.008162211467779\n",
      "R_Square: 0.7672333948800686\n",
      "RMSE: 6.593251859558076\n",
      "NRMSE: 0.8668029927362004\n",
      "E 0.6714997321255596\n",
      "2019年3月结果：\n",
      "MSE: 35.19621781563373\n",
      "MAE: 4.3624697690168945\n",
      "R_Square: 0.8109915717941774\n",
      "RMSE: 5.932640037591504\n",
      "NRMSE: 0.8801486861092626\n",
      "E 0.6264273692486862\n"
     ]
    }
   ],
   "source": [
    "#原系统准确率\n",
    "testorin=dataframe.values[train_size:,0]\n",
    "testorin=testorin.reshape(8640,1)\n",
    "systempredictions_1 = testorin[0:31*96,0]\n",
    "systempredictions_2 = testorin[31*96:59*96,0]\n",
    "systempredictions_3 = testorin[59*96:90*96,0]\n",
    "#原始系统准确率\n",
    "print(\"原始系统准确率:\")\n",
    "print(\"2019年1-3月结果：\")\n",
    "result(test_mainY,testorin)\n",
    "print(\"2019年1月结果：\")\n",
    "result(test_labels_1,systempredictions_1)\n",
    "print(\"2019年2月结果：\")\n",
    "result(test_labels_2,systempredictions_2)\n",
    "print(\"2019年3月结果：\")\n",
    "result(test_labels_3,systempredictions_3)"
   ]
  },
  {
   "cell_type": "code",
   "execution_count": 20,
   "metadata": {},
   "outputs": [],
   "source": [
    "new_data = numpy.hstack([test_mainY,testorin,testPredict])\n",
    "import pandas as pd\n",
    "new_data = pd.DataFrame(new_data,columns= ['实际功率','原系统预测功率','超短期预测功率'])\n",
    "new_data.to_csv('AE_lstm-ushort-93.04.csv', index=False, sep=',')"
   ]
  },
  {
   "cell_type": "code",
   "execution_count": null,
   "metadata": {},
   "outputs": [],
   "source": []
  }
 ],
 "metadata": {
  "kernelspec": {
   "display_name": "conda_tensorflow_py3",
   "language": "python",
   "name": "conda_tensorflow_py3"
  },
  "language_info": {
   "codemirror_mode": {
    "name": "ipython",
    "version": 3
   },
   "file_extension": ".py",
   "mimetype": "text/x-python",
   "name": "python",
   "nbconvert_exporter": "python",
   "pygments_lexer": "ipython3",
   "version": "3.6.5"
  }
 },
 "nbformat": 4,
 "nbformat_minor": 4
}
