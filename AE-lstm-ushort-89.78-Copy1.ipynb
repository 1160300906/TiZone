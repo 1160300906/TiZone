{
 "cells": [
  {
   "cell_type": "code",
   "execution_count": 2,
   "metadata": {},
   "outputs": [
    {
     "data": {
      "text/plain": [
       "(43584, 8)"
      ]
     },
     "execution_count": 2,
     "metadata": {},
     "output_type": "execute_result"
    }
   ],
   "source": [
    "import numpy\n",
    "from matplotlib import pyplot\n",
    "from pandas import read_csv\n",
    "import math\n",
    "from sklearn.preprocessing import MinMaxScaler\n",
    "%matplotlib inline\n",
    "\n",
    "# load the dataset\n",
    "dataframe = read_csv('intecleaned-correct.csv',usecols=[1,2,4,5,6,7,8,9])\n",
    "dataset = dataframe.values\n",
    "#将整型变为float\n",
    "dataset = dataset.astype('float32')\n",
    "\n",
    "# fix random seed for reproducibility\n",
    "numpy.random.seed(7)\n",
    "# normalize the dataset\n",
    "scaler_y = MinMaxScaler(feature_range=(0, 1))#功率数据归一化，之后还原预测结果要用\n",
    "Y = scaler_y.fit_transform(dataset[:,5:6])\n",
    "\n",
    "scaler_y1 = MinMaxScaler(feature_range=(0, 1))#风速数据归一化\n",
    "Y1 = scaler_y1.fit_transform(dataset[:,6:7])\n",
    "\n",
    "scaler = MinMaxScaler(feature_range=(0, 1))\n",
    "dataset = scaler.fit_transform(dataset)\n",
    "\n",
    "dataset.shape"
   ]
  },
  {
   "cell_type": "code",
   "execution_count": 3,
   "metadata": {},
   "outputs": [
    {
     "data": {
      "text/html": [
       "<div>\n",
       "<style scoped>\n",
       "    .dataframe tbody tr th:only-of-type {\n",
       "        vertical-align: middle;\n",
       "    }\n",
       "\n",
       "    .dataframe tbody tr th {\n",
       "        vertical-align: top;\n",
       "    }\n",
       "\n",
       "    .dataframe thead th {\n",
       "        text-align: right;\n",
       "    }\n",
       "</style>\n",
       "<table border=\"1\" class=\"dataframe\">\n",
       "  <thead>\n",
       "    <tr style=\"text-align: right;\">\n",
       "      <th></th>\n",
       "      <th>短期预测功率</th>\n",
       "      <th>短期预测湿度</th>\n",
       "      <th>短期预测风向</th>\n",
       "      <th>短期预测温度</th>\n",
       "      <th>短期预测气压</th>\n",
       "      <th>实际功率</th>\n",
       "      <th>实际风速</th>\n",
       "      <th>短期预测风速</th>\n",
       "    </tr>\n",
       "  </thead>\n",
       "  <tbody>\n",
       "    <tr>\n",
       "      <th>0</th>\n",
       "      <td>34.41</td>\n",
       "      <td>75</td>\n",
       "      <td>41</td>\n",
       "      <td>14.7</td>\n",
       "      <td>1008</td>\n",
       "      <td>28.59</td>\n",
       "      <td>8.50</td>\n",
       "      <td>8.864167</td>\n",
       "    </tr>\n",
       "    <tr>\n",
       "      <th>1</th>\n",
       "      <td>33.71</td>\n",
       "      <td>75</td>\n",
       "      <td>40</td>\n",
       "      <td>14.7</td>\n",
       "      <td>1008</td>\n",
       "      <td>29.80</td>\n",
       "      <td>8.75</td>\n",
       "      <td>8.764167</td>\n",
       "    </tr>\n",
       "    <tr>\n",
       "      <th>2</th>\n",
       "      <td>33.01</td>\n",
       "      <td>75</td>\n",
       "      <td>39</td>\n",
       "      <td>14.6</td>\n",
       "      <td>1008</td>\n",
       "      <td>23.80</td>\n",
       "      <td>7.78</td>\n",
       "      <td>8.664167</td>\n",
       "    </tr>\n",
       "    <tr>\n",
       "      <th>3</th>\n",
       "      <td>32.32</td>\n",
       "      <td>75</td>\n",
       "      <td>38</td>\n",
       "      <td>14.5</td>\n",
       "      <td>1008</td>\n",
       "      <td>23.63</td>\n",
       "      <td>7.89</td>\n",
       "      <td>8.564167</td>\n",
       "    </tr>\n",
       "    <tr>\n",
       "      <th>4</th>\n",
       "      <td>31.66</td>\n",
       "      <td>75</td>\n",
       "      <td>38</td>\n",
       "      <td>14.5</td>\n",
       "      <td>1008</td>\n",
       "      <td>26.98</td>\n",
       "      <td>7.69</td>\n",
       "      <td>8.464167</td>\n",
       "    </tr>\n",
       "  </tbody>\n",
       "</table>\n",
       "</div>"
      ],
      "text/plain": [
       "   短期预测功率  短期预测湿度  短期预测风向  短期预测温度  短期预测气压   实际功率  实际风速    短期预测风速\n",
       "0   34.41      75      41    14.7    1008  28.59  8.50  8.864167\n",
       "1   33.71      75      40    14.7    1008  29.80  8.75  8.764167\n",
       "2   33.01      75      39    14.6    1008  23.80  7.78  8.664167\n",
       "3   32.32      75      38    14.5    1008  23.63  7.89  8.564167\n",
       "4   31.66      75      38    14.5    1008  26.98  7.69  8.464167"
      ]
     },
     "execution_count": 3,
     "metadata": {},
     "output_type": "execute_result"
    }
   ],
   "source": [
    "dataframe.head()"
   ]
  },
  {
   "cell_type": "code",
   "execution_count": 7,
   "metadata": {},
   "outputs": [
    {
     "data": {
      "text/plain": [
       "(43584, 5)"
      ]
     },
     "execution_count": 7,
     "metadata": {},
     "output_type": "execute_result"
    }
   ],
   "source": [
    "datasetCopy = numpy.hstack([dataset[:,1:5],dataset[:,7:8]])\n",
    "datasetCopy.shape"
   ]
  },
  {
   "cell_type": "code",
   "execution_count": 5,
   "metadata": {},
   "outputs": [
    {
     "name": "stdout",
     "output_type": "stream",
     "text": [
      "Looking in indexes: http://mirrors.tencentyun.com/pypi/simple\n",
      "Collecting keras==2.2.4\n",
      "  Downloading http://mirrors.tencentyun.com/pypi/packages/5e/10/aa32dad071ce52b5502266b5c659451cfd6ffcbf14e6c8c4f16c0ff5aaab/Keras-2.2.4-py2.py3-none-any.whl (312 kB)\n",
      "\u001b[K     |████████████████████████████████| 312 kB 870 kB/s eta 0:00:01\n",
      "\u001b[?25hRequirement already satisfied: keras-preprocessing>=1.0.5 in /opt/conda/envs/tensorflow_py3/lib/python3.6/site-packages (from keras==2.2.4) (1.1.0)\n",
      "Requirement already satisfied: six>=1.9.0 in /opt/conda/envs/tensorflow_py3/lib/python3.6/site-packages (from keras==2.2.4) (1.15.0)\n",
      "Requirement already satisfied: numpy>=1.9.1 in /opt/conda/envs/tensorflow_py3/lib/python3.6/site-packages (from keras==2.2.4) (1.18.5)\n",
      "Requirement already satisfied: pyyaml in /opt/conda/envs/tensorflow_py3/lib/python3.6/site-packages (from keras==2.2.4) (5.3.1)\n",
      "Requirement already satisfied: h5py in /opt/conda/envs/tensorflow_py3/lib/python3.6/site-packages (from keras==2.2.4) (2.10.0)\n",
      "Requirement already satisfied: keras-applications>=1.0.6 in /opt/conda/envs/tensorflow_py3/lib/python3.6/site-packages (from keras==2.2.4) (1.0.8)\n",
      "Requirement already satisfied: scipy>=0.14 in /opt/conda/envs/tensorflow_py3/lib/python3.6/site-packages (from keras==2.2.4) (1.5.0)\n",
      "Installing collected packages: keras\n",
      "Successfully installed keras-2.2.4\n"
     ]
    }
   ],
   "source": [
    "!pip install keras==2.2.4"
   ]
  },
  {
   "cell_type": "code",
   "execution_count": 6,
   "metadata": {},
   "outputs": [
    {
     "name": "stderr",
     "output_type": "stream",
     "text": [
      "Using TensorFlow backend.\n"
     ]
    }
   ],
   "source": [
    "import keras\n",
    "from keras.layers import Dense, Input\n",
    "from keras.models import Model"
   ]
  },
  {
   "cell_type": "code",
   "execution_count": 9,
   "metadata": {},
   "outputs": [
    {
     "name": "stdout",
     "output_type": "stream",
     "text": [
      "WARNING:tensorflow:From /opt/conda/envs/tensorflow_py3/lib/python3.6/site-packages/keras/backend/tensorflow_backend.py:986: The name tf.assign_add is deprecated. Please use tf.compat.v1.assign_add instead.\n",
      "\n"
     ]
    },
    {
     "name": "stderr",
     "output_type": "stream",
     "text": [
      "/opt/conda/envs/tensorflow_py3/lib/python3.6/site-packages/ipykernel/__main__.py:6: UserWarning: Update your `Model` call to the Keras 2 API: `Model(inputs=Tensor(\"in..., outputs=Tensor(\"de...)`\n"
     ]
    },
    {
     "name": "stdout",
     "output_type": "stream",
     "text": [
      "WARNING:tensorflow:From /opt/conda/envs/tensorflow_py3/lib/python3.6/site-packages/keras/backend/tensorflow_backend.py:973: The name tf.assign is deprecated. Please use tf.compat.v1.assign instead.\n",
      "\n",
      "WARNING:tensorflow:From /opt/conda/envs/tensorflow_py3/lib/python3.6/site-packages/keras/backend/tensorflow_backend.py:2741: The name tf.Session is deprecated. Please use tf.compat.v1.Session instead.\n",
      "\n",
      "Epoch 1/20\n",
      "WARNING:tensorflow:From /opt/conda/envs/tensorflow_py3/lib/python3.6/site-packages/keras/backend/tensorflow_backend.py:174: The name tf.get_default_session is deprecated. Please use tf.compat.v1.get_default_session instead.\n",
      "\n",
      "WARNING:tensorflow:From /opt/conda/envs/tensorflow_py3/lib/python3.6/site-packages/keras/backend/tensorflow_backend.py:181: The name tf.ConfigProto is deprecated. Please use tf.compat.v1.ConfigProto instead.\n",
      "\n",
      "WARNING:tensorflow:From /opt/conda/envs/tensorflow_py3/lib/python3.6/site-packages/keras/backend/tensorflow_backend.py:190: The name tf.global_variables is deprecated. Please use tf.compat.v1.global_variables instead.\n",
      "\n",
      "WARNING:tensorflow:From /opt/conda/envs/tensorflow_py3/lib/python3.6/site-packages/keras/backend/tensorflow_backend.py:199: The name tf.is_variable_initialized is deprecated. Please use tf.compat.v1.is_variable_initialized instead.\n",
      "\n",
      "WARNING:tensorflow:From /opt/conda/envs/tensorflow_py3/lib/python3.6/site-packages/keras/backend/tensorflow_backend.py:206: The name tf.variables_initializer is deprecated. Please use tf.compat.v1.variables_initializer instead.\n",
      "\n",
      "43584/43584 [==============================] - 7s 169us/step - loss: 0.0108\n",
      "Epoch 2/20\n",
      "43584/43584 [==============================] - 1s 20us/step - loss: 2.7601e-04\n",
      "Epoch 3/20\n",
      "43584/43584 [==============================] - 1s 20us/step - loss: 1.7400e-04\n",
      "Epoch 4/20\n",
      "43584/43584 [==============================] - 1s 20us/step - loss: 1.3166e-04\n",
      "Epoch 5/20\n",
      "43584/43584 [==============================] - 1s 20us/step - loss: 1.0564e-04\n",
      "Epoch 6/20\n",
      "43584/43584 [==============================] - 1s 20us/step - loss: 8.6453e-05\n",
      "Epoch 7/20\n",
      "43584/43584 [==============================] - 1s 20us/step - loss: 7.1912e-05\n",
      "Epoch 8/20\n",
      "43584/43584 [==============================] - 1s 20us/step - loss: 6.0162e-05\n",
      "Epoch 9/20\n",
      "43584/43584 [==============================] - 1s 20us/step - loss: 5.1226e-05\n",
      "Epoch 10/20\n",
      "43584/43584 [==============================] - 1s 20us/step - loss: 4.2905e-05\n",
      "Epoch 11/20\n",
      "43584/43584 [==============================] - 1s 20us/step - loss: 3.8744e-05\n",
      "Epoch 12/20\n",
      "43584/43584 [==============================] - 1s 22us/step - loss: 3.4462e-05\n",
      "Epoch 13/20\n",
      "43584/43584 [==============================] - 1s 20us/step - loss: 3.1296e-05\n",
      "Epoch 14/20\n",
      "43584/43584 [==============================] - 1s 20us/step - loss: 2.8072e-05\n",
      "Epoch 15/20\n",
      "43584/43584 [==============================] - 1s 20us/step - loss: 2.5993e-05\n",
      "Epoch 16/20\n",
      "43584/43584 [==============================] - 1s 20us/step - loss: 2.3883e-05\n",
      "Epoch 17/20\n",
      "43584/43584 [==============================] - 1s 20us/step - loss: 2.3219e-05\n",
      "Epoch 18/20\n",
      "43584/43584 [==============================] - 1s 20us/step - loss: 2.1407e-05\n",
      "Epoch 19/20\n",
      "43584/43584 [==============================] - 1s 20us/step - loss: 1.9319e-05\n",
      "Epoch 20/20\n",
      "43584/43584 [==============================] - 1s 20us/step - loss: 1.8588e-05\n"
     ]
    },
    {
     "data": {
      "text/plain": [
       "<keras.callbacks.History at 0x7fe7ba1aa5f8>"
      ]
     },
     "execution_count": 9,
     "metadata": {},
     "output_type": "execute_result"
    }
   ],
   "source": [
    "input = Input(shape=(5,))\n",
    "encoded = Dense(128, activation='relu')(input)\n",
    "encoded1 = Dense(64, activation='relu')(encoded)\n",
    "decoded = Dense(64, activation='relu')(encoded1)\n",
    "decoded1 = Dense(5, activation='tanh')(decoded)\n",
    "autoencoder = Model(input=input, output=decoded1)\n",
    "autoencoder.compile(optimizer='adam', loss='mean_squared_error')\n",
    "autoencoder.fit(datasetCopy, datasetCopy, epochs=20, batch_size=128, verbose=1)"
   ]
  },
  {
   "cell_type": "code",
   "execution_count": 10,
   "metadata": {},
   "outputs": [
    {
     "name": "stderr",
     "output_type": "stream",
     "text": [
      "/opt/conda/envs/tensorflow_py3/lib/python3.6/site-packages/ipykernel/__main__.py:1: UserWarning: Update your `Model` call to the Keras 2 API: `Model(inputs=Tensor(\"in..., outputs=Tensor(\"de...)`\n",
      "  if __name__ == '__main__':\n"
     ]
    }
   ],
   "source": [
    "encoderModel = Model(input=input, output=encoded1)\n",
    "encoded_input = Input(shape=(64,))  \n",
    "decoder_layer = autoencoder.layers[-1]  \n",
    "decoderModel = Model(inputs=encoded_input, outputs=decoder_layer(encoded_input))\n",
    "encoded_data = encoderModel.predict(datasetCopy)  \n",
    "datasetCopy = decoderModel.predict(encoded_data)\n",
    "#trainnewX = autoencoder.predict(train_X)"
   ]
  },
  {
   "cell_type": "code",
   "execution_count": 11,
   "metadata": {},
   "outputs": [
    {
     "data": {
      "text/plain": [
       "(43584, 5)"
      ]
     },
     "execution_count": 11,
     "metadata": {},
     "output_type": "execute_result"
    }
   ],
   "source": [
    "datasetCopy.shape"
   ]
  },
  {
   "cell_type": "code",
   "execution_count": 12,
   "metadata": {},
   "outputs": [],
   "source": [
    "def create_dataset(dataset,dataset1, look_back,look_lag,data_step):\n",
    "    main_dataX, main_dataY ,auxi_dataX,auxi_dataY= [], [],[],[]\n",
    "    for i in range(0,len(dataset)-look_back-look_lag+1,data_step):\n",
    "        a = dataset[i:(i+look_back), :] #5个\n",
    "        c = dataset[(i+look_back):(i+look_back+look_lag),:]#5个\n",
    "        d = dataset1[i:(i+look_back),5:7]#2个\n",
    "        e = numpy.hstack([a,c])\n",
    "        e = numpy.hstack([d,e])#把上面的特征都合在一起，共12个特征\n",
    "        main_dataX.append(e) #主要输入\n",
    "        b = dataset1[(i+look_back):(i+look_back+look_lag),5]\n",
    "        main_dataY.append(b) #主要输出 需要预测的功率数据\n",
    "    return numpy.array(main_dataX), numpy.array(main_dataY)#,numpy.array(auxi_dataX),numpy.array(auxi_dataY)\n",
    "\n",
    "\n",
    "look_back = 16\n",
    "look_lag = 16\n",
    "train_size = 364*96\n",
    "test_size = len(dataset) - train_size\n",
    "train, test = datasetCopy[0:train_size,:], datasetCopy[train_size-look_back:len(dataset),:]\n",
    "train1, test1 = dataset[0:train_size,:], dataset[train_size-look_back:len(dataset),:]\n",
    "train_mainX, train_mainY = create_dataset(train, train1,look_back,look_lag,4)#,train_auxiX,train_auxiY\n",
    "test_mainX, test_mainY = create_dataset(test, test1,look_back,look_lag,16)#,test_auxiX,test_auxiY\n",
    "\n",
    "# reshape input to be [samples, time steps, features]\n",
    "train_mainX = numpy.reshape(train_mainX, (train_mainX.shape[0], look_back, 12))\n",
    "\n",
    "test_mainX = numpy.reshape(test_mainX, (test_mainX.shape[0], look_back, 12))"
   ]
  },
  {
   "cell_type": "code",
   "execution_count": 13,
   "metadata": {},
   "outputs": [
    {
     "name": "stdout",
     "output_type": "stream",
     "text": [
      "WARNING:tensorflow:From /opt/conda/envs/tensorflow_py3/lib/python3.6/site-packages/keras/backend/tensorflow_backend.py:133: The name tf.placeholder_with_default is deprecated. Please use tf.compat.v1.placeholder_with_default instead.\n",
      "\n",
      "WARNING:tensorflow:From /opt/conda/envs/tensorflow_py3/lib/python3.6/site-packages/keras/backend/tensorflow_backend.py:3445: calling dropout (from tensorflow.python.ops.nn_ops) with keep_prob is deprecated and will be removed in a future version.\n",
      "Instructions for updating:\n",
      "Please use `rate` instead of `keep_prob`. Rate should be set to `rate = 1 - keep_prob`.\n",
      "WARNING:tensorflow:From /opt/conda/envs/tensorflow_py3/lib/python3.6/site-packages/tensorflow_core/python/ops/math_grad.py:1424: where (from tensorflow.python.ops.array_ops) is deprecated and will be removed in a future version.\n",
      "Instructions for updating:\n",
      "Use tf.where in 2.0, which has the same broadcast rule as np.where\n",
      "Train on 5848 samples, validate on 2881 samples\n",
      "Epoch 1/100\n",
      "5848/5848 [==============================] - 10s 2ms/step - loss: 0.0402 - val_loss: 0.0195\n",
      "Epoch 2/100\n",
      "5848/5848 [==============================] - 7s 1ms/step - loss: 0.0223 - val_loss: 0.0166\n",
      "Epoch 3/100\n",
      "5848/5848 [==============================] - 7s 1ms/step - loss: 0.0192 - val_loss: 0.0153\n",
      "Epoch 4/100\n",
      "5848/5848 [==============================] - 7s 1ms/step - loss: 0.0174 - val_loss: 0.0139\n",
      "Epoch 5/100\n",
      "5848/5848 [==============================] - 7s 1ms/step - loss: 0.0164 - val_loss: 0.0136\n",
      "Epoch 6/100\n",
      "5848/5848 [==============================] - 7s 1ms/step - loss: 0.0157 - val_loss: 0.0132\n",
      "Epoch 7/100\n",
      "5848/5848 [==============================] - 7s 1ms/step - loss: 0.0155 - val_loss: 0.0130\n",
      "Epoch 8/100\n",
      "5848/5848 [==============================] - 7s 1ms/step - loss: 0.0146 - val_loss: 0.0125\n",
      "Epoch 9/100\n",
      "5848/5848 [==============================] - 7s 1ms/step - loss: 0.0143 - val_loss: 0.0124\n",
      "Epoch 10/100\n",
      "5848/5848 [==============================] - 7s 1ms/step - loss: 0.0141 - val_loss: 0.0120\n",
      "Epoch 11/100\n",
      "5848/5848 [==============================] - 7s 1ms/step - loss: 0.0137 - val_loss: 0.0138\n",
      "Epoch 12/100\n",
      "5848/5848 [==============================] - 7s 1ms/step - loss: 0.0134 - val_loss: 0.0125\n",
      "Epoch 13/100\n",
      "5848/5848 [==============================] - 7s 1ms/step - loss: 0.0133 - val_loss: 0.0121\n",
      "Epoch 14/100\n",
      "5848/5848 [==============================] - 7s 1ms/step - loss: 0.0130 - val_loss: 0.0113\n",
      "Epoch 15/100\n",
      "5848/5848 [==============================] - 7s 1ms/step - loss: 0.0128 - val_loss: 0.0118\n",
      "Epoch 16/100\n",
      "5848/5848 [==============================] - 7s 1ms/step - loss: 0.0127 - val_loss: 0.0114\n",
      "Epoch 17/100\n",
      "5848/5848 [==============================] - 7s 1ms/step - loss: 0.0125 - val_loss: 0.0110\n",
      "Epoch 18/100\n",
      "5848/5848 [==============================] - 7s 1ms/step - loss: 0.0122 - val_loss: 0.0109\n",
      "Epoch 19/100\n",
      "5848/5848 [==============================] - 7s 1ms/step - loss: 0.0124 - val_loss: 0.0109\n",
      "Epoch 20/100\n",
      "5848/5848 [==============================] - 7s 1ms/step - loss: 0.0126 - val_loss: 0.0114\n",
      "Epoch 21/100\n",
      "5848/5848 [==============================] - 7s 1ms/step - loss: 0.0123 - val_loss: 0.0111\n",
      "Epoch 22/100\n",
      "5848/5848 [==============================] - 7s 1ms/step - loss: 0.0122 - val_loss: 0.0112\n",
      "Epoch 23/100\n",
      "5848/5848 [==============================] - 7s 1ms/step - loss: 0.0121 - val_loss: 0.0109\n",
      "Epoch 24/100\n",
      "5848/5848 [==============================] - 7s 1ms/step - loss: 0.0123 - val_loss: 0.0108\n",
      "Epoch 25/100\n",
      "5848/5848 [==============================] - 7s 1ms/step - loss: 0.0120 - val_loss: 0.0123\n",
      "Epoch 26/100\n",
      "5848/5848 [==============================] - 7s 1ms/step - loss: 0.0121 - val_loss: 0.0108\n",
      "Epoch 27/100\n",
      "5848/5848 [==============================] - 7s 1ms/step - loss: 0.0120 - val_loss: 0.0107\n",
      "Epoch 28/100\n",
      "5848/5848 [==============================] - 7s 1ms/step - loss: 0.0119 - val_loss: 0.0110\n",
      "Epoch 29/100\n",
      "5848/5848 [==============================] - 7s 1ms/step - loss: 0.0117 - val_loss: 0.0107\n",
      "Epoch 30/100\n",
      "5848/5848 [==============================] - 7s 1ms/step - loss: 0.0117 - val_loss: 0.0105\n",
      "Epoch 31/100\n",
      "5848/5848 [==============================] - 7s 1ms/step - loss: 0.0118 - val_loss: 0.0124\n",
      "Epoch 32/100\n",
      "5848/5848 [==============================] - 7s 1ms/step - loss: 0.0119 - val_loss: 0.0107\n",
      "Epoch 33/100\n",
      "5848/5848 [==============================] - 7s 1ms/step - loss: 0.0116 - val_loss: 0.0107\n",
      "Epoch 34/100\n",
      "5848/5848 [==============================] - 7s 1ms/step - loss: 0.0117 - val_loss: 0.0106\n",
      "Epoch 35/100\n",
      "5848/5848 [==============================] - 7s 1ms/step - loss: 0.0116 - val_loss: 0.0107\n",
      "Epoch 36/100\n",
      "5848/5848 [==============================] - 7s 1ms/step - loss: 0.0115 - val_loss: 0.0114\n",
      "Epoch 37/100\n",
      "5848/5848 [==============================] - 7s 1ms/step - loss: 0.0116 - val_loss: 0.0106\n",
      "Epoch 38/100\n",
      "5848/5848 [==============================] - 7s 1ms/step - loss: 0.0117 - val_loss: 0.0107\n",
      "Epoch 39/100\n",
      "5848/5848 [==============================] - 7s 1ms/step - loss: 0.0114 - val_loss: 0.0106\n",
      "Epoch 40/100\n",
      "5848/5848 [==============================] - 7s 1ms/step - loss: 0.0113 - val_loss: 0.0106\n",
      "Epoch 41/100\n",
      "5848/5848 [==============================] - 7s 1ms/step - loss: 0.0116 - val_loss: 0.0103\n",
      "Epoch 42/100\n",
      "5848/5848 [==============================] - 7s 1ms/step - loss: 0.0115 - val_loss: 0.0107\n",
      "Epoch 43/100\n",
      "5848/5848 [==============================] - 7s 1ms/step - loss: 0.0113 - val_loss: 0.0107\n",
      "Epoch 44/100\n",
      "5848/5848 [==============================] - 7s 1ms/step - loss: 0.0112 - val_loss: 0.0108\n",
      "Epoch 45/100\n",
      "5848/5848 [==============================] - 7s 1ms/step - loss: 0.0113 - val_loss: 0.0108\n",
      "Epoch 46/100\n",
      "5848/5848 [==============================] - 7s 1ms/step - loss: 0.0112 - val_loss: 0.0105\n",
      "Epoch 47/100\n",
      "5848/5848 [==============================] - 7s 1ms/step - loss: 0.0112 - val_loss: 0.0112\n",
      "Epoch 48/100\n",
      "5848/5848 [==============================] - 7s 1ms/step - loss: 0.0114 - val_loss: 0.0104\n",
      "Epoch 49/100\n",
      "5848/5848 [==============================] - 7s 1ms/step - loss: 0.0111 - val_loss: 0.0103\n",
      "Epoch 50/100\n",
      "5848/5848 [==============================] - 7s 1ms/step - loss: 0.0112 - val_loss: 0.0104\n",
      "Epoch 51/100\n",
      "5848/5848 [==============================] - 7s 1ms/step - loss: 0.0111 - val_loss: 0.0108\n",
      "Epoch 52/100\n",
      "5848/5848 [==============================] - 7s 1ms/step - loss: 0.0110 - val_loss: 0.0117\n",
      "Epoch 53/100\n",
      "5848/5848 [==============================] - 7s 1ms/step - loss: 0.0111 - val_loss: 0.0105\n",
      "Epoch 54/100\n",
      "5848/5848 [==============================] - 7s 1ms/step - loss: 0.0108 - val_loss: 0.0105\n",
      "Epoch 55/100\n",
      "5848/5848 [==============================] - 7s 1ms/step - loss: 0.0111 - val_loss: 0.0103\n",
      "Epoch 56/100\n",
      "5848/5848 [==============================] - 7s 1ms/step - loss: 0.0112 - val_loss: 0.0107\n",
      "Epoch 57/100\n",
      "5848/5848 [==============================] - 7s 1ms/step - loss: 0.0111 - val_loss: 0.0103\n",
      "Epoch 58/100\n",
      "5848/5848 [==============================] - 7s 1ms/step - loss: 0.0109 - val_loss: 0.0104\n",
      "Epoch 59/100\n",
      "5848/5848 [==============================] - 7s 1ms/step - loss: 0.0111 - val_loss: 0.0103\n",
      "Epoch 60/100\n",
      "5848/5848 [==============================] - 7s 1ms/step - loss: 0.0110 - val_loss: 0.0106\n",
      "Epoch 61/100\n",
      "5848/5848 [==============================] - 7s 1ms/step - loss: 0.0111 - val_loss: 0.0105\n",
      "Epoch 62/100\n",
      "5848/5848 [==============================] - 7s 1ms/step - loss: 0.0109 - val_loss: 0.0101\n",
      "Epoch 63/100\n",
      "5848/5848 [==============================] - 7s 1ms/step - loss: 0.0109 - val_loss: 0.0104\n",
      "Epoch 64/100\n",
      "5848/5848 [==============================] - 7s 1ms/step - loss: 0.0109 - val_loss: 0.0104\n",
      "Epoch 65/100\n",
      "5848/5848 [==============================] - 7s 1ms/step - loss: 0.0109 - val_loss: 0.0105\n",
      "Epoch 66/100\n",
      "5848/5848 [==============================] - 7s 1ms/step - loss: 0.0111 - val_loss: 0.0108\n",
      "Epoch 67/100\n",
      "5848/5848 [==============================] - 7s 1ms/step - loss: 0.0109 - val_loss: 0.0109\n",
      "Epoch 68/100\n",
      "5848/5848 [==============================] - 7s 1ms/step - loss: 0.0107 - val_loss: 0.0101\n",
      "Epoch 69/100\n",
      "5848/5848 [==============================] - 7s 1ms/step - loss: 0.0107 - val_loss: 0.0125\n",
      "Epoch 70/100\n",
      "5848/5848 [==============================] - 7s 1ms/step - loss: 0.0109 - val_loss: 0.0103\n",
      "Epoch 71/100\n",
      "5848/5848 [==============================] - 7s 1ms/step - loss: 0.0109 - val_loss: 0.0105\n",
      "Epoch 72/100\n",
      "5848/5848 [==============================] - 7s 1ms/step - loss: 0.0109 - val_loss: 0.0105\n",
      "Epoch 73/100\n",
      "5848/5848 [==============================] - 7s 1ms/step - loss: 0.0109 - val_loss: 0.0104\n",
      "Epoch 74/100\n",
      "5848/5848 [==============================] - 7s 1ms/step - loss: 0.0106 - val_loss: 0.0102\n",
      "Epoch 75/100\n",
      "5848/5848 [==============================] - 8s 1ms/step - loss: 0.0107 - val_loss: 0.0103\n",
      "Epoch 76/100\n",
      "5848/5848 [==============================] - 7s 1ms/step - loss: 0.0107 - val_loss: 0.0106\n",
      "Epoch 77/100\n",
      "5848/5848 [==============================] - 7s 1ms/step - loss: 0.0108 - val_loss: 0.0112\n",
      "Epoch 78/100\n",
      "5848/5848 [==============================] - 7s 1ms/step - loss: 0.0108 - val_loss: 0.0110\n",
      "Epoch 79/100\n",
      "5848/5848 [==============================] - 7s 1ms/step - loss: 0.0111 - val_loss: 0.0107\n",
      "Epoch 80/100\n",
      "5848/5848 [==============================] - 7s 1ms/step - loss: 0.0107 - val_loss: 0.0103\n",
      "Epoch 81/100\n",
      "5848/5848 [==============================] - 7s 1ms/step - loss: 0.0106 - val_loss: 0.0103\n",
      "Epoch 82/100\n",
      "5848/5848 [==============================] - 7s 1ms/step - loss: 0.0108 - val_loss: 0.0104\n",
      "Epoch 83/100\n",
      "5848/5848 [==============================] - 7s 1ms/step - loss: 0.0106 - val_loss: 0.0115\n",
      "Epoch 84/100\n",
      "5848/5848 [==============================] - 7s 1ms/step - loss: 0.0106 - val_loss: 0.0100\n",
      "Epoch 85/100\n",
      "5848/5848 [==============================] - 7s 1ms/step - loss: 0.0106 - val_loss: 0.0104\n",
      "Epoch 86/100\n",
      "5848/5848 [==============================] - 7s 1ms/step - loss: 0.0107 - val_loss: 0.0103\n",
      "Epoch 87/100\n",
      "5848/5848 [==============================] - 7s 1ms/step - loss: 0.0107 - val_loss: 0.0104\n",
      "Epoch 88/100\n",
      "5848/5848 [==============================] - 7s 1ms/step - loss: 0.0104 - val_loss: 0.0109\n",
      "Epoch 89/100\n",
      "5848/5848 [==============================] - 7s 1ms/step - loss: 0.0106 - val_loss: 0.0107\n",
      "Epoch 90/100\n",
      "5848/5848 [==============================] - 7s 1ms/step - loss: 0.0106 - val_loss: 0.0107\n",
      "Epoch 91/100\n",
      "5848/5848 [==============================] - 7s 1ms/step - loss: 0.0106 - val_loss: 0.0113\n",
      "Epoch 92/100\n",
      "5848/5848 [==============================] - 7s 1ms/step - loss: 0.0106 - val_loss: 0.0110\n",
      "Epoch 93/100\n",
      "5848/5848 [==============================] - 7s 1ms/step - loss: 0.0106 - val_loss: 0.0104\n",
      "Epoch 94/100\n",
      "5848/5848 [==============================] - 7s 1ms/step - loss: 0.0106 - val_loss: 0.0105\n",
      "Epoch 95/100\n",
      "5848/5848 [==============================] - 7s 1ms/step - loss: 0.0106 - val_loss: 0.0103\n",
      "Epoch 96/100\n",
      "5848/5848 [==============================] - 7s 1ms/step - loss: 0.0106 - val_loss: 0.0105\n",
      "Epoch 97/100\n",
      "5848/5848 [==============================] - 7s 1ms/step - loss: 0.0107 - val_loss: 0.0113\n",
      "Epoch 98/100\n",
      "5848/5848 [==============================] - 7s 1ms/step - loss: 0.0106 - val_loss: 0.0113\n",
      "Epoch 99/100\n",
      "5848/5848 [==============================] - 7s 1ms/step - loss: 0.0106 - val_loss: 0.0115\n",
      "Epoch 100/100\n",
      "5848/5848 [==============================] - 7s 1ms/step - loss: 0.0105 - val_loss: 0.0115\n"
     ]
    }
   ],
   "source": [
    "from keras.layers import Dense, LSTM,Dropout\n",
    "from keras.models import Sequential\n",
    "model = Sequential() \n",
    "model.add(LSTM(units=48, return_sequences=True, \n",
    "               input_shape=(train_mainX.shape[1],train_mainX.shape[2])))\n",
    "model.add(Dropout(0.1))\n",
    "model.add(LSTM(units=48, return_sequences=True))\n",
    "model.add(Dropout(0.2))\n",
    "model.add(LSTM(units=48,return_sequences=False))\n",
    "model.add(Dropout(0.3))\n",
    "model.add(Dense(units = look_lag))\n",
    "model.compile(optimizer = 'adam', loss = 'mean_squared_error')  \n",
    "history = model.fit(train_mainX, train_mainY, epochs = 100,batch_size = 64,validation_split=0.33, shuffle=True)"
   ]
  },
  {
   "cell_type": "code",
   "execution_count": 14,
   "metadata": {},
   "outputs": [
    {
     "data": {
      "text/plain": [
       "[<matplotlib.lines.Line2D at 0x7fe774453208>]"
      ]
     },
     "execution_count": 14,
     "metadata": {},
     "output_type": "execute_result"
    },
    {
     "data": {
      "image/png": "[encoded data removed]",
      "text/plain": [
       "<Figure size 720x360 with 1 Axes>"
      ]
     },
     "metadata": {
      "needs_background": "light"
     },
     "output_type": "display_data"
    }
   ],
   "source": [
    "pyplot.figure(figsize=(10,5))\n",
    "pyplot.plot(history.history['loss'], label='loss')\n",
    "pyplot.plot(history.history['val_loss'], label='val_loss')"
   ]
  },
  {
   "cell_type": "code",
   "execution_count": 15,
   "metadata": {},
   "outputs": [],
   "source": [
    "testPredict = model.predict(test_mainX)"
   ]
  },
  {
   "cell_type": "code",
   "execution_count": 16,
   "metadata": {},
   "outputs": [
    {
     "data": {
      "text/plain": [
       "array([[31.507128],\n",
       "       [31.373995],\n",
       "       [31.316793],\n",
       "       ...,\n",
       "       [33.869583],\n",
       "       [33.62779 ],\n",
       "       [33.35275 ]], dtype=float32)"
      ]
     },
     "execution_count": 16,
     "metadata": {},
     "output_type": "execute_result"
    }
   ],
   "source": [
    "testPredict = testPredict.reshape(-1,1)\n",
    "testPredict = scaler_y.inverse_transform(testPredict)\n",
    "testPredict"
   ]
  },
  {
   "cell_type": "code",
   "execution_count": 17,
   "metadata": {},
   "outputs": [
    {
     "data": {
      "text/plain": [
       "(8640, 1)"
      ]
     },
     "execution_count": 17,
     "metadata": {},
     "output_type": "execute_result"
    }
   ],
   "source": [
    "testPredict.shape"
   ]
  },
  {
   "cell_type": "code",
   "execution_count": 18,
   "metadata": {},
   "outputs": [
    {
     "data": {
      "text/plain": [
       "(8640, 1)"
      ]
     },
     "execution_count": 18,
     "metadata": {},
     "output_type": "execute_result"
    }
   ],
   "source": [
    "test_mainY = test_mainY.reshape(-1,1)\n",
    "test_mainY = scaler_y.inverse_transform(test_mainY)\n",
    "test_mainY.shape"
   ]
  },
  {
   "cell_type": "code",
   "execution_count": 19,
   "metadata": {},
   "outputs": [],
   "source": [
    "from sklearn.metrics import mean_squared_error,mean_absolute_error,r2_score\n",
    "def result(testY,testPredict):\n",
    "    mse = mean_squared_error(testY,testPredict)\n",
    "    mae = mean_absolute_error(testY,testPredict)\n",
    "    r_square = r2_score(testY,testPredict)\n",
    "    print(\"MSE:\",mse)\n",
    "    print(\"MAE:\",mae)\n",
    "    print(\"R_Square:\",r_square)\n",
    "    rmse = math.sqrt(mse)\n",
    "    print(\"RMSE:\",rmse)\n",
    "    capacity = 49.5\n",
    "    print(\"NRMSE:\",1 - rmse/capacity)\n",
    "    p_hme = 0\n",
    "    whole_power = 49.5\n",
    "    for l in range(testY.shape[0]):\n",
    "        if testY[l] <= whole_power * 0.03 and testPredict[l] <= whole_power * 0.03:\n",
    "            continue\n",
    "        p_hme = p_hme + abs(testY[l] / (testY[l] + testPredict[l]) - 0.5) * abs(testPredict[l] -testY[l]) / np.sum(np.abs(testPredict - testY))\n",
    "    p_hme =  1 - 2 * p_hme\n",
    "    print('E', p_hme)"
   ]
  },
  {
   "cell_type": "code",
   "execution_count": 20,
   "metadata": {},
   "outputs": [
    {
     "name": "stdout",
     "output_type": "stream",
     "text": [
      "2019年1-3月结果：\n",
      "MSE: 25.578701\n",
      "MAE: 3.6011934\n",
      "R_Square: 0.859530648673835\n",
      "RMSE: 5.0575390279549115\n",
      "NRMSE: 0.8978274943847493\n",
      "E [0.7386542]\n",
      "2019年1月结果：\n",
      "MSE: 27.803696\n",
      "MAE: 3.895403\n",
      "R_Square: 0.8303214958702514\n",
      "RMSE: 5.272920981648686\n",
      "NRMSE: 0.893476343805077\n",
      "E 0.7644767289295088\n",
      "2019年2月结果：\n",
      "MSE: 25.357601\n",
      "MAE: 3.5690322\n",
      "R_Square: 0.8642219671709379\n",
      "RMSE: 5.035633144478605\n",
      "NRMSE: 0.8982700374852807\n",
      "E 0.7441579046700479\n",
      "2019年3月结果：\n",
      "MSE: 23.553406\n",
      "MAE: 3.3360326\n",
      "R_Square: 0.8735150324442196\n",
      "RMSE: 4.853185115129934\n",
      "NRMSE: 0.9019558562600013\n",
      "E 0.7031815975670258\n"
     ]
    }
   ],
   "source": [
    "import numpy as np\n",
    "predictions_1 = testPredict[0:31*96,0]\n",
    "predictions_2 = testPredict[31*96:59*96,0]\n",
    "predictions_3 = testPredict[59*96:90*96,0]\n",
    "\n",
    "test_labels_1 = test_mainY[0:31*96,0]\n",
    "test_labels_2 = test_mainY[31*96:59*96,0]\n",
    "test_labels_3 = test_mainY[59*96:90*96,0]\n",
    "\n",
    "print(\"2019年1-3月结果：\")\n",
    "result(test_mainY,testPredict)\n",
    "print(\"2019年1月结果：\")\n",
    "result(test_labels_1,predictions_1)\n",
    "print(\"2019年2月结果：\")\n",
    "result(test_labels_2,predictions_2)\n",
    "print(\"2019年3月结果：\")\n",
    "result(test_labels_3,predictions_3)"
   ]
  },
  {
   "cell_type": "code",
   "execution_count": 21,
   "metadata": {},
   "outputs": [
    {
     "name": "stdout",
     "output_type": "stream",
     "text": [
      "原始系统准确率:\n",
      "2019年1-3月结果：\n",
      "MSE: 38.90323077467954\n",
      "MAE: 4.73843288221362\n",
      "R_Square: 0.7863569507222773\n",
      "RMSE: 6.237245447685985\n",
      "NRMSE: 0.8739950414608892\n",
      "E [0.66917906]\n",
      "2019年1月结果：\n",
      "MSE: 38.48454371279563\n",
      "MAE: 4.870769504471107\n",
      "R_Square: 0.7651391491589099\n",
      "RMSE: 6.203591194847999\n",
      "NRMSE: 0.8746749253566061\n",
      "E 0.7053141024294813\n",
      "2019年2月结果：\n",
      "MSE: 43.47097008356602\n",
      "MAE: 5.008162211467779\n",
      "R_Square: 0.7672333948800686\n",
      "RMSE: 6.593251859558076\n",
      "NRMSE: 0.8668029927362004\n",
      "E 0.6714997321255596\n",
      "2019年3月结果：\n",
      "MSE: 35.19621781563373\n",
      "MAE: 4.3624697690168945\n",
      "R_Square: 0.8109915717941774\n",
      "RMSE: 5.932640037591504\n",
      "NRMSE: 0.8801486861092626\n",
      "E 0.6264273692486862\n"
     ]
    }
   ],
   "source": [
    "#原系统准确率\n",
    "testorin=dataframe.values[train_size:,0]\n",
    "testorin=testorin.reshape(8640,1)\n",
    "systempredictions_1 = testorin[0:31*96,0]\n",
    "systempredictions_2 = testorin[31*96:59*96,0]\n",
    "systempredictions_3 = testorin[59*96:90*96,0]\n",
    "#原始系统准确率\n",
    "print(\"原始系统准确率:\")\n",
    "print(\"2019年1-3月结果：\")\n",
    "result(test_mainY,testorin)\n",
    "print(\"2019年1月结果：\")\n",
    "result(test_labels_1,systempredictions_1)\n",
    "print(\"2019年2月结果：\")\n",
    "result(test_labels_2,systempredictions_2)\n",
    "print(\"2019年3月结果：\")\n",
    "result(test_labels_3,systempredictions_3)"
   ]
  },
  {
   "cell_type": "code",
   "execution_count": 22,
   "metadata": {},
   "outputs": [],
   "source": [
    "new_data = numpy.hstack([test_mainY,testorin,testPredict])\n",
    "import pandas as pd\n",
    "new_data = pd.DataFrame(new_data,columns= ['实际功率','原系统预测功率','超短期预测功率'])\n",
    "new_data.to_csv('AE_lstm-ushort-89.78.csv', index=False, sep=',')"
   ]
  },
  {
   "cell_type": "code",
   "execution_count": null,
   "metadata": {},
   "outputs": [],
   "source": []
  }
 ],
 "metadata": {
  "kernelspec": {
   "display_name": "conda_tensorflow_py3",
   "language": "python",
   "name": "conda_tensorflow_py3"
  },
  "language_info": {
   "codemirror_mode": {
    "name": "ipython",
    "version": 3
   },
   "file_extension": ".py",
   "mimetype": "text/x-python",
   "name": "python",
   "nbconvert_exporter": "python",
   "pygments_lexer": "ipython3",
   "version": "3.6.5"
  }
 },
 "nbformat": 4,
 "nbformat_minor": 4
}
