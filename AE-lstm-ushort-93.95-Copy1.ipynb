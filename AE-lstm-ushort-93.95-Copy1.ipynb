{
 "cells": [
  {
   "cell_type": "code",
   "execution_count": 8,
   "metadata": {},
   "outputs": [
    {
     "data": {
      "text/plain": [
       "(43584, 6)"
      ]
     },
     "execution_count": 8,
     "metadata": {},
     "output_type": "execute_result"
    }
   ],
   "source": [
    "import numpy\n",
    "from matplotlib import pyplot\n",
    "from pandas import read_csv\n",
    "import math\n",
    "from sklearn.preprocessing import MinMaxScaler\n",
    "%matplotlib inline\n",
    "\n",
    "# load the dataset\n",
    "dataframe = read_csv('intecleaned-correct.csv',usecols=[1,2,4,5,6,7,8,9])\n",
    "dataset = dataframe.values\n",
    "#将整型变为float\n",
    "dataset = dataset.astype('float32')\n",
    "\n",
    "# fix random seed for reproducibility\n",
    "numpy.random.seed(7)\n",
    "# normalize the dataset\n",
    "scaler_y = MinMaxScaler(feature_range=(0, 1))#功率数据归一化，之后还原预测结果要用\n",
    "Y = scaler_y.fit_transform(dataset[:,5:6])\n",
    "\n",
    "scaler_y1 = MinMaxScaler(feature_range=(0, 1))#风速数据归一化\n",
    "Y1 = scaler_y1.fit_transform(dataset[:,6:7])\n",
    "\n",
    "scaler = MinMaxScaler(feature_range=(0, 1))\n",
    "dataset = scaler.fit_transform(dataset)\n",
    "\n",
    "train_X = numpy.hstack([dataset[:,1:5],dataset[:,6:8]])\n",
    "train_X.shape"
   ]
  },
  {
   "cell_type": "code",
   "execution_count": 2,
   "metadata": {},
   "outputs": [
    {
     "name": "stdout",
     "output_type": "stream",
     "text": [
      "Looking in indexes: http://mirrors.tencentyun.com/pypi/simple\n",
      "Collecting keras==2.2.4\n",
      "  Downloading http://mirrors.tencentyun.com/pypi/packages/5e/10/aa32dad071ce52b5502266b5c659451cfd6ffcbf14e6c8c4f16c0ff5aaab/Keras-2.2.4-py2.py3-none-any.whl (312 kB)\n",
      "\u001b[K     |████████████████████████████████| 312 kB 789 kB/s eta 0:00:01\n",
      "\u001b[?25hRequirement already satisfied: numpy>=1.9.1 in /opt/conda/envs/tensorflow_py3/lib/python3.6/site-packages (from keras==2.2.4) (1.18.5)\n",
      "Requirement already satisfied: keras-applications>=1.0.6 in /opt/conda/envs/tensorflow_py3/lib/python3.6/site-packages (from keras==2.2.4) (1.0.8)\n",
      "Requirement already satisfied: pyyaml in /opt/conda/envs/tensorflow_py3/lib/python3.6/site-packages (from keras==2.2.4) (5.3.1)\n",
      "Requirement already satisfied: h5py in /opt/conda/envs/tensorflow_py3/lib/python3.6/site-packages (from keras==2.2.4) (2.10.0)\n",
      "Requirement already satisfied: keras-preprocessing>=1.0.5 in /opt/conda/envs/tensorflow_py3/lib/python3.6/site-packages (from keras==2.2.4) (1.1.0)\n",
      "Requirement already satisfied: scipy>=0.14 in /opt/conda/envs/tensorflow_py3/lib/python3.6/site-packages (from keras==2.2.4) (1.5.0)\n",
      "Requirement already satisfied: six>=1.9.0 in /opt/conda/envs/tensorflow_py3/lib/python3.6/site-packages (from keras==2.2.4) (1.15.0)\n",
      "Installing collected packages: keras\n",
      "Successfully installed keras-2.2.4\n"
     ]
    }
   ],
   "source": [
    "!pip install keras==2.2.4"
   ]
  },
  {
   "cell_type": "code",
   "execution_count": 2,
   "metadata": {},
   "outputs": [
    {
     "name": "stderr",
     "output_type": "stream",
     "text": [
      "Using TensorFlow backend.\n"
     ]
    }
   ],
   "source": [
    "import keras\n",
    "from keras.layers import Dense, Input\n",
    "from keras.models import Model"
   ]
  },
  {
   "cell_type": "code",
   "execution_count": 3,
   "metadata": {},
   "outputs": [
    {
     "name": "stdout",
     "output_type": "stream",
     "text": [
      "WARNING:tensorflow:From /opt/conda/envs/tensorflow_py3/lib/python3.6/site-packages/keras/backend/tensorflow_backend.py:74: The name tf.get_default_graph is deprecated. Please use tf.compat.v1.get_default_graph instead.\n",
      "\n",
      "WARNING:tensorflow:From /opt/conda/envs/tensorflow_py3/lib/python3.6/site-packages/keras/backend/tensorflow_backend.py:517: The name tf.placeholder is deprecated. Please use tf.compat.v1.placeholder instead.\n",
      "\n",
      "WARNING:tensorflow:From /opt/conda/envs/tensorflow_py3/lib/python3.6/site-packages/keras/backend/tensorflow_backend.py:4138: The name tf.random_uniform is deprecated. Please use tf.random.uniform instead.\n",
      "\n",
      "WARNING:tensorflow:From /opt/conda/envs/tensorflow_py3/lib/python3.6/site-packages/keras/optimizers.py:790: The name tf.train.Optimizer is deprecated. Please use tf.compat.v1.train.Optimizer instead.\n",
      "\n",
      "WARNING:tensorflow:From /opt/conda/envs/tensorflow_py3/lib/python3.6/site-packages/keras/backend/tensorflow_backend.py:986: The name tf.assign_add is deprecated. Please use tf.compat.v1.assign_add instead.\n",
      "\n"
     ]
    },
    {
     "name": "stderr",
     "output_type": "stream",
     "text": [
      "/opt/conda/envs/tensorflow_py3/lib/python3.6/site-packages/ipykernel/__main__.py:6: UserWarning: Update your `Model` call to the Keras 2 API: `Model(inputs=Tensor(\"in..., outputs=Tensor(\"de...)`\n"
     ]
    },
    {
     "name": "stdout",
     "output_type": "stream",
     "text": [
      "WARNING:tensorflow:From /opt/conda/envs/tensorflow_py3/lib/python3.6/site-packages/keras/backend/tensorflow_backend.py:973: The name tf.assign is deprecated. Please use tf.compat.v1.assign instead.\n",
      "\n",
      "WARNING:tensorflow:From /opt/conda/envs/tensorflow_py3/lib/python3.6/site-packages/keras/backend/tensorflow_backend.py:2741: The name tf.Session is deprecated. Please use tf.compat.v1.Session instead.\n",
      "\n",
      "Epoch 1/20\n",
      "WARNING:tensorflow:From /opt/conda/envs/tensorflow_py3/lib/python3.6/site-packages/keras/backend/tensorflow_backend.py:174: The name tf.get_default_session is deprecated. Please use tf.compat.v1.get_default_session instead.\n",
      "\n",
      "WARNING:tensorflow:From /opt/conda/envs/tensorflow_py3/lib/python3.6/site-packages/keras/backend/tensorflow_backend.py:181: The name tf.ConfigProto is deprecated. Please use tf.compat.v1.ConfigProto instead.\n",
      "\n",
      "WARNING:tensorflow:From /opt/conda/envs/tensorflow_py3/lib/python3.6/site-packages/keras/backend/tensorflow_backend.py:190: The name tf.global_variables is deprecated. Please use tf.compat.v1.global_variables instead.\n",
      "\n",
      "WARNING:tensorflow:From /opt/conda/envs/tensorflow_py3/lib/python3.6/site-packages/keras/backend/tensorflow_backend.py:199: The name tf.is_variable_initialized is deprecated. Please use tf.compat.v1.is_variable_initialized instead.\n",
      "\n",
      "WARNING:tensorflow:From /opt/conda/envs/tensorflow_py3/lib/python3.6/site-packages/keras/backend/tensorflow_backend.py:206: The name tf.variables_initializer is deprecated. Please use tf.compat.v1.variables_initializer instead.\n",
      "\n",
      "43584/43584 [==============================] - 3s 63us/step - loss: 0.0120\n",
      "Epoch 2/20\n",
      "43584/43584 [==============================] - 1s 20us/step - loss: 2.6844e-04\n",
      "Epoch 3/20\n",
      "43584/43584 [==============================] - 1s 20us/step - loss: 1.6736e-04\n",
      "Epoch 4/20\n",
      "43584/43584 [==============================] - 1s 19us/step - loss: 1.2374e-04\n",
      "Epoch 5/20\n",
      "43584/43584 [==============================] - 1s 19us/step - loss: 9.4831e-05\n",
      "Epoch 6/20\n",
      "43584/43584 [==============================] - 1s 20us/step - loss: 7.9587e-05\n",
      "Epoch 7/20\n",
      "43584/43584 [==============================] - 1s 20us/step - loss: 6.9241e-05\n",
      "Epoch 8/20\n",
      "43584/43584 [==============================] - 1s 20us/step - loss: 6.2159e-05\n",
      "Epoch 9/20\n",
      "43584/43584 [==============================] - 1s 20us/step - loss: 5.5252e-05\n",
      "Epoch 10/20\n",
      "43584/43584 [==============================] - 1s 20us/step - loss: 4.9267e-05\n",
      "Epoch 11/20\n",
      "43584/43584 [==============================] - 1s 20us/step - loss: 4.3372e-05\n",
      "Epoch 12/20\n",
      "43584/43584 [==============================] - 1s 20us/step - loss: 3.7646e-05\n",
      "Epoch 13/20\n",
      "43584/43584 [==============================] - 1s 20us/step - loss: 3.3627e-05\n",
      "Epoch 14/20\n",
      "43584/43584 [==============================] - 1s 19us/step - loss: 2.9151e-05\n",
      "Epoch 15/20\n",
      "43584/43584 [==============================] - 1s 20us/step - loss: 2.7825e-05\n",
      "Epoch 16/20\n",
      "43584/43584 [==============================] - 1s 20us/step - loss: 2.4959e-05\n",
      "Epoch 17/20\n",
      "43584/43584 [==============================] - 1s 21us/step - loss: 2.3702e-05\n",
      "Epoch 18/20\n",
      "43584/43584 [==============================] - 1s 20us/step - loss: 2.2338e-05\n",
      "Epoch 19/20\n",
      "43584/43584 [==============================] - 1s 20us/step - loss: 2.0759e-05\n",
      "Epoch 20/20\n",
      "43584/43584 [==============================] - 1s 20us/step - loss: 2.0476e-05\n"
     ]
    },
    {
     "data": {
      "text/plain": [
       "<keras.callbacks.History at 0x7f2d796ad400>"
      ]
     },
     "execution_count": 3,
     "metadata": {},
     "output_type": "execute_result"
    }
   ],
   "source": [
    "input = Input(shape=(6,))\n",
    "encoded = Dense(128, activation='relu')(input)\n",
    "encoded1 = Dense(64, activation='relu')(encoded)\n",
    "decoded = Dense(64, activation='relu')(encoded1)\n",
    "decoded1 = Dense(6, activation='tanh')(decoded)\n",
    "autoencoder = Model(input=input, output=decoded1)\n",
    "autoencoder.compile(optimizer='adam', loss='mean_squared_error')\n",
    "autoencoder.fit(train_X, train_X, epochs=20, batch_size=128, verbose=1)"
   ]
  },
  {
   "cell_type": "code",
   "execution_count": 4,
   "metadata": {},
   "outputs": [
    {
     "name": "stderr",
     "output_type": "stream",
     "text": [
      "/opt/conda/envs/tensorflow_py3/lib/python3.6/site-packages/ipykernel/__main__.py:1: UserWarning: Update your `Model` call to the Keras 2 API: `Model(inputs=Tensor(\"in..., outputs=Tensor(\"de...)`\n",
      "  if __name__ == '__main__':\n"
     ]
    }
   ],
   "source": [
    "encoderModel = Model(input=input, output=encoded1)\n",
    "encoded_input = Input(shape=(64,))  \n",
    "decoder_layer = autoencoder.layers[-1]  \n",
    "decoderModel = Model(inputs=encoded_input, outputs=decoder_layer(encoded_input))\n",
    "encoded_data = encoderModel.predict(train_X)  \n",
    "trainnewX = decoderModel.predict(encoded_data)\n",
    "#trainnewX = autoencoder.predict(train_X)"
   ]
  },
  {
   "cell_type": "code",
   "execution_count": 5,
   "metadata": {},
   "outputs": [
    {
     "data": {
      "text/plain": [
       "(43584, 6)"
      ]
     },
     "execution_count": 5,
     "metadata": {},
     "output_type": "execute_result"
    }
   ],
   "source": [
    "trainnewX.shape"
   ]
  },
  {
   "cell_type": "code",
   "execution_count": 6,
   "metadata": {},
   "outputs": [
    {
     "data": {
      "text/plain": [
       "(8729, 16, 12)"
      ]
     },
     "execution_count": 6,
     "metadata": {},
     "output_type": "execute_result"
    }
   ],
   "source": [
    "def create_dataset(trainnewX,dataset, look_back,look_lag,data_step):\n",
    "    main_dataX, main_dataY ,auxi_dataX,auxi_dataY= [], [],[],[]\n",
    "    for i in range(0,len(dataset)-look_back-look_lag+1,data_step):\n",
    "        a = trainnewX[i:(i+look_back), :] \n",
    "        b = dataset[i:(i+look_back),5:6]\n",
    "        \n",
    "        c = trainnewX[(i+look_back):(i+look_back+look_lag),:4]\n",
    "        f = trainnewX[(i+look_back):(i+look_back+look_lag),5:6]\n",
    "        e = numpy.hstack([a,b,c,f])\n",
    "        \n",
    "        main_dataX.append(e) #主要输入\n",
    "        b = dataset[(i+look_back):(i+look_back+look_lag),5]\n",
    "        main_dataY.append(b) #主要输出 需要预测的功率数据\n",
    "    return numpy.array(main_dataX), numpy.array(main_dataY)#,numpy.array(auxi_dataX),numpy.array(auxi_dataY)\n",
    "\n",
    "\n",
    "look_back = 16\n",
    "look_lag = 16\n",
    "train_size = 364*96\n",
    "test_size = len(dataset) - train_size\n",
    "train, test = dataset[0:train_size,:], dataset[train_size-look_back:len(dataset),:]\n",
    "train_mainX, train_mainY = create_dataset(trainnewX[0:train_size,:],train, look_back,look_lag,4)#,train_auxiX,train_auxiY\n",
    "test_mainX, test_mainY = create_dataset(trainnewX[train_size-look_back:len(dataset),:],test, look_back,look_lag,16)#,test_auxiX,test_auxiY\n",
    "\n",
    "# reshape input to be [samples, time steps, features]\n",
    "train_mainX = numpy.reshape(train_mainX, (train_mainX.shape[0], look_back,12))\n",
    "\n",
    "test_mainX = numpy.reshape(test_mainX, (test_mainX.shape[0], look_back,12))\n",
    "train_mainX.shape"
   ]
  },
  {
   "cell_type": "code",
   "execution_count": 7,
   "metadata": {},
   "outputs": [
    {
     "name": "stdout",
     "output_type": "stream",
     "text": [
      "WARNING:tensorflow:From /opt/conda/envs/tensorflow_py3/lib/python3.6/site-packages/keras/backend/tensorflow_backend.py:133: The name tf.placeholder_with_default is deprecated. Please use tf.compat.v1.placeholder_with_default instead.\n",
      "\n",
      "WARNING:tensorflow:From /opt/conda/envs/tensorflow_py3/lib/python3.6/site-packages/keras/backend/tensorflow_backend.py:3445: calling dropout (from tensorflow.python.ops.nn_ops) with keep_prob is deprecated and will be removed in a future version.\n",
      "Instructions for updating:\n",
      "Please use `rate` instead of `keep_prob`. Rate should be set to `rate = 1 - keep_prob`.\n",
      "WARNING:tensorflow:From /opt/conda/envs/tensorflow_py3/lib/python3.6/site-packages/tensorflow_core/python/ops/math_grad.py:1424: where (from tensorflow.python.ops.array_ops) is deprecated and will be removed in a future version.\n",
      "Instructions for updating:\n",
      "Use tf.where in 2.0, which has the same broadcast rule as np.where\n",
      "Train on 5848 samples, validate on 2881 samples\n",
      "Epoch 1/100\n",
      "5848/5848 [==============================] - 10s 2ms/step - loss: 0.0431 - val_loss: 0.0196\n",
      "Epoch 2/100\n",
      "5848/5848 [==============================] - 7s 1ms/step - loss: 0.0178 - val_loss: 0.0118\n",
      "Epoch 3/100\n",
      "5848/5848 [==============================] - 7s 1ms/step - loss: 0.0152 - val_loss: 0.0117\n",
      "Epoch 4/100\n",
      "5848/5848 [==============================] - 7s 1ms/step - loss: 0.0141 - val_loss: 0.0127\n",
      "Epoch 5/100\n",
      "5848/5848 [==============================] - 7s 1ms/step - loss: 0.0137 - val_loss: 0.0108\n",
      "Epoch 6/100\n",
      "5848/5848 [==============================] - 7s 1ms/step - loss: 0.0128 - val_loss: 0.0109\n",
      "Epoch 7/100\n",
      "5848/5848 [==============================] - 7s 1ms/step - loss: 0.0126 - val_loss: 0.0128\n",
      "Epoch 8/100\n",
      "5848/5848 [==============================] - 7s 1ms/step - loss: 0.0117 - val_loss: 0.0100\n",
      "Epoch 9/100\n",
      "5848/5848 [==============================] - 7s 1ms/step - loss: 0.0112 - val_loss: 0.0101\n",
      "Epoch 10/100\n",
      "5848/5848 [==============================] - 7s 1ms/step - loss: 0.0108 - val_loss: 0.0110\n",
      "Epoch 11/100\n",
      "5848/5848 [==============================] - 7s 1ms/step - loss: 0.0102 - val_loss: 0.0112\n",
      "Epoch 12/100\n",
      "5848/5848 [==============================] - 7s 1ms/step - loss: 0.0098 - val_loss: 0.0093\n",
      "Epoch 13/100\n",
      "5848/5848 [==============================] - 7s 1ms/step - loss: 0.0094 - val_loss: 0.0094\n",
      "Epoch 14/100\n",
      "5848/5848 [==============================] - 7s 1ms/step - loss: 0.0090 - val_loss: 0.0086\n",
      "Epoch 15/100\n",
      "5848/5848 [==============================] - 7s 1ms/step - loss: 0.0086 - val_loss: 0.0104\n",
      "Epoch 16/100\n",
      "5848/5848 [==============================] - 7s 1ms/step - loss: 0.0085 - val_loss: 0.0079\n",
      "Epoch 17/100\n",
      "5848/5848 [==============================] - 7s 1ms/step - loss: 0.0085 - val_loss: 0.0071\n",
      "Epoch 18/100\n",
      "5848/5848 [==============================] - 7s 1ms/step - loss: 0.0081 - val_loss: 0.0088\n",
      "Epoch 19/100\n",
      "5848/5848 [==============================] - 8s 1ms/step - loss: 0.0080 - val_loss: 0.0074\n",
      "Epoch 20/100\n",
      "5848/5848 [==============================] - 7s 1ms/step - loss: 0.0079 - val_loss: 0.0077\n",
      "Epoch 21/100\n",
      "5848/5848 [==============================] - 7s 1ms/step - loss: 0.0077 - val_loss: 0.0072\n",
      "Epoch 22/100\n",
      "5848/5848 [==============================] - 7s 1ms/step - loss: 0.0074 - val_loss: 0.0069\n",
      "Epoch 23/100\n",
      "5848/5848 [==============================] - 7s 1ms/step - loss: 0.0073 - val_loss: 0.0061\n",
      "Epoch 24/100\n",
      "5848/5848 [==============================] - 7s 1ms/step - loss: 0.0072 - val_loss: 0.0069\n",
      "Epoch 25/100\n",
      "5848/5848 [==============================] - 7s 1ms/step - loss: 0.0072 - val_loss: 0.0058\n",
      "Epoch 26/100\n",
      "5848/5848 [==============================] - 7s 1ms/step - loss: 0.0071 - val_loss: 0.0058\n",
      "Epoch 27/100\n",
      "5848/5848 [==============================] - 7s 1ms/step - loss: 0.0069 - val_loss: 0.0060\n",
      "Epoch 28/100\n",
      "5848/5848 [==============================] - 7s 1ms/step - loss: 0.0066 - val_loss: 0.0081\n",
      "Epoch 29/100\n",
      "5848/5848 [==============================] - 7s 1ms/step - loss: 0.0066 - val_loss: 0.0058\n",
      "Epoch 30/100\n",
      "5848/5848 [==============================] - 7s 1ms/step - loss: 0.0066 - val_loss: 0.0054\n",
      "Epoch 31/100\n",
      "5848/5848 [==============================] - 7s 1ms/step - loss: 0.0067 - val_loss: 0.0059\n",
      "Epoch 32/100\n",
      "5848/5848 [==============================] - 7s 1ms/step - loss: 0.0064 - val_loss: 0.0053\n",
      "Epoch 33/100\n",
      "5848/5848 [==============================] - 7s 1ms/step - loss: 0.0064 - val_loss: 0.0085\n",
      "Epoch 34/100\n",
      "5848/5848 [==============================] - 7s 1ms/step - loss: 0.0061 - val_loss: 0.0054\n",
      "Epoch 35/100\n",
      "5848/5848 [==============================] - 7s 1ms/step - loss: 0.0061 - val_loss: 0.0060\n",
      "Epoch 36/100\n",
      "5848/5848 [==============================] - 7s 1ms/step - loss: 0.0060 - val_loss: 0.0056\n",
      "Epoch 37/100\n",
      "5848/5848 [==============================] - 7s 1ms/step - loss: 0.0061 - val_loss: 0.0052\n",
      "Epoch 38/100\n",
      "5848/5848 [==============================] - 7s 1ms/step - loss: 0.0060 - val_loss: 0.0054\n",
      "Epoch 39/100\n",
      "5848/5848 [==============================] - 7s 1ms/step - loss: 0.0059 - val_loss: 0.0049\n",
      "Epoch 40/100\n",
      "5848/5848 [==============================] - 7s 1ms/step - loss: 0.0059 - val_loss: 0.0068\n",
      "Epoch 41/100\n",
      "5848/5848 [==============================] - 7s 1ms/step - loss: 0.0058 - val_loss: 0.0048\n",
      "Epoch 42/100\n",
      "5848/5848 [==============================] - 7s 1ms/step - loss: 0.0056 - val_loss: 0.0047\n",
      "Epoch 43/100\n",
      "5848/5848 [==============================] - 7s 1ms/step - loss: 0.0055 - val_loss: 0.0057\n",
      "Epoch 44/100\n",
      "5848/5848 [==============================] - 7s 1ms/step - loss: 0.0056 - val_loss: 0.0052\n",
      "Epoch 45/100\n",
      "5848/5848 [==============================] - 7s 1ms/step - loss: 0.0055 - val_loss: 0.0058\n",
      "Epoch 46/100\n",
      "5848/5848 [==============================] - 7s 1ms/step - loss: 0.0055 - val_loss: 0.0051\n",
      "Epoch 47/100\n",
      "5848/5848 [==============================] - 7s 1ms/step - loss: 0.0056 - val_loss: 0.0048\n",
      "Epoch 48/100\n",
      "5848/5848 [==============================] - 7s 1ms/step - loss: 0.0053 - val_loss: 0.0052\n",
      "Epoch 49/100\n",
      "5848/5848 [==============================] - 7s 1ms/step - loss: 0.0054 - val_loss: 0.0048\n",
      "Epoch 50/100\n",
      "5848/5848 [==============================] - 7s 1ms/step - loss: 0.0055 - val_loss: 0.0047\n",
      "Epoch 51/100\n",
      "5848/5848 [==============================] - 7s 1ms/step - loss: 0.0052 - val_loss: 0.0048\n",
      "Epoch 52/100\n",
      "5848/5848 [==============================] - 7s 1ms/step - loss: 0.0054 - val_loss: 0.0047\n",
      "Epoch 53/100\n",
      "5848/5848 [==============================] - 7s 1ms/step - loss: 0.0054 - val_loss: 0.0049\n",
      "Epoch 54/100\n",
      "5848/5848 [==============================] - 7s 1ms/step - loss: 0.0051 - val_loss: 0.0052\n",
      "Epoch 55/100\n",
      "5848/5848 [==============================] - 7s 1ms/step - loss: 0.0053 - val_loss: 0.0048\n",
      "Epoch 56/100\n",
      "5848/5848 [==============================] - 7s 1ms/step - loss: 0.0053 - val_loss: 0.0059\n",
      "Epoch 57/100\n",
      "5848/5848 [==============================] - 7s 1ms/step - loss: 0.0052 - val_loss: 0.0048\n",
      "Epoch 58/100\n",
      "5848/5848 [==============================] - 7s 1ms/step - loss: 0.0051 - val_loss: 0.0047\n",
      "Epoch 59/100\n",
      "5848/5848 [==============================] - 8s 1ms/step - loss: 0.0051 - val_loss: 0.0052\n",
      "Epoch 60/100\n",
      "5848/5848 [==============================] - 7s 1ms/step - loss: 0.0050 - val_loss: 0.0059\n",
      "Epoch 61/100\n",
      "5848/5848 [==============================] - 7s 1ms/step - loss: 0.0051 - val_loss: 0.0044\n",
      "Epoch 62/100\n",
      "5848/5848 [==============================] - 7s 1ms/step - loss: 0.0053 - val_loss: 0.0049\n",
      "Epoch 63/100\n",
      "5848/5848 [==============================] - 7s 1ms/step - loss: 0.0049 - val_loss: 0.0046\n",
      "Epoch 64/100\n",
      "5848/5848 [==============================] - 7s 1ms/step - loss: 0.0050 - val_loss: 0.0055\n",
      "Epoch 65/100\n",
      "5848/5848 [==============================] - 7s 1ms/step - loss: 0.0050 - val_loss: 0.0057\n",
      "Epoch 66/100\n",
      "5848/5848 [==============================] - 7s 1ms/step - loss: 0.0052 - val_loss: 0.0052\n",
      "Epoch 67/100\n",
      "5848/5848 [==============================] - 7s 1ms/step - loss: 0.0050 - val_loss: 0.0047\n",
      "Epoch 68/100\n",
      "5848/5848 [==============================] - 7s 1ms/step - loss: 0.0048 - val_loss: 0.0059\n",
      "Epoch 69/100\n",
      "5848/5848 [==============================] - 7s 1ms/step - loss: 0.0049 - val_loss: 0.0046\n",
      "Epoch 70/100\n",
      "5848/5848 [==============================] - 7s 1ms/step - loss: 0.0050 - val_loss: 0.0043\n",
      "Epoch 71/100\n",
      "5848/5848 [==============================] - 7s 1ms/step - loss: 0.0048 - val_loss: 0.0048\n",
      "Epoch 72/100\n",
      "5848/5848 [==============================] - 7s 1ms/step - loss: 0.0048 - val_loss: 0.0060\n",
      "Epoch 73/100\n",
      "5848/5848 [==============================] - 7s 1ms/step - loss: 0.0050 - val_loss: 0.0051\n",
      "Epoch 74/100\n",
      "5848/5848 [==============================] - 7s 1ms/step - loss: 0.0048 - val_loss: 0.0050\n",
      "Epoch 75/100\n",
      "5848/5848 [==============================] - 7s 1ms/step - loss: 0.0050 - val_loss: 0.0047\n",
      "Epoch 76/100\n",
      "5848/5848 [==============================] - 7s 1ms/step - loss: 0.0048 - val_loss: 0.0045\n",
      "Epoch 77/100\n",
      "5848/5848 [==============================] - 7s 1ms/step - loss: 0.0047 - val_loss: 0.0047\n",
      "Epoch 78/100\n",
      "5848/5848 [==============================] - 7s 1ms/step - loss: 0.0048 - val_loss: 0.0047\n",
      "Epoch 79/100\n",
      "5848/5848 [==============================] - 7s 1ms/step - loss: 0.0046 - val_loss: 0.0044\n",
      "Epoch 80/100\n",
      "5848/5848 [==============================] - 7s 1ms/step - loss: 0.0045 - val_loss: 0.0042\n",
      "Epoch 81/100\n",
      "5848/5848 [==============================] - 7s 1ms/step - loss: 0.0048 - val_loss: 0.0059\n",
      "Epoch 82/100\n",
      "5848/5848 [==============================] - 7s 1ms/step - loss: 0.0048 - val_loss: 0.0046\n",
      "Epoch 83/100\n",
      "5848/5848 [==============================] - 7s 1ms/step - loss: 0.0047 - val_loss: 0.0043\n",
      "Epoch 84/100\n",
      "5848/5848 [==============================] - 7s 1ms/step - loss: 0.0046 - val_loss: 0.0045\n",
      "Epoch 85/100\n",
      "5848/5848 [==============================] - 7s 1ms/step - loss: 0.0045 - val_loss: 0.0041\n",
      "Epoch 86/100\n",
      "5848/5848 [==============================] - 7s 1ms/step - loss: 0.0045 - val_loss: 0.0045\n",
      "Epoch 87/100\n",
      "5848/5848 [==============================] - 7s 1ms/step - loss: 0.0044 - val_loss: 0.0045\n",
      "Epoch 88/100\n",
      "5848/5848 [==============================] - 7s 1ms/step - loss: 0.0044 - val_loss: 0.0045\n",
      "Epoch 89/100\n",
      "5848/5848 [==============================] - 7s 1ms/step - loss: 0.0044 - val_loss: 0.0041\n",
      "Epoch 90/100\n",
      "5848/5848 [==============================] - 7s 1ms/step - loss: 0.0046 - val_loss: 0.0048\n",
      "Epoch 91/100\n",
      "5848/5848 [==============================] - 7s 1ms/step - loss: 0.0049 - val_loss: 0.0050\n",
      "Epoch 92/100\n",
      "5848/5848 [==============================] - 7s 1ms/step - loss: 0.0048 - val_loss: 0.0042\n",
      "Epoch 93/100\n",
      "5848/5848 [==============================] - 7s 1ms/step - loss: 0.0044 - val_loss: 0.0043\n",
      "Epoch 94/100\n",
      "5848/5848 [==============================] - 7s 1ms/step - loss: 0.0044 - val_loss: 0.0057\n",
      "Epoch 95/100\n",
      "5848/5848 [==============================] - 7s 1ms/step - loss: 0.0045 - val_loss: 0.0052\n",
      "Epoch 96/100\n",
      "5848/5848 [==============================] - 7s 1ms/step - loss: 0.0044 - val_loss: 0.0042\n",
      "Epoch 97/100\n",
      "5848/5848 [==============================] - 7s 1ms/step - loss: 0.0045 - val_loss: 0.0041\n",
      "Epoch 98/100\n",
      "5848/5848 [==============================] - 7s 1ms/step - loss: 0.0044 - val_loss: 0.0054\n",
      "Epoch 99/100\n",
      "5848/5848 [==============================] - 7s 1ms/step - loss: 0.0044 - val_loss: 0.0045\n",
      "Epoch 100/100\n",
      "5848/5848 [==============================] - 8s 1ms/step - loss: 0.0043 - val_loss: 0.0044\n"
     ]
    }
   ],
   "source": [
    "from keras.layers import Dense, LSTM,Dropout\n",
    "from keras.models import Sequential\n",
    "model = Sequential() \n",
    "model.add(LSTM(units=48, return_sequences=True, \n",
    "               input_shape=(train_mainX.shape[1],train_mainX.shape[2])))\n",
    "model.add(Dropout(0.1))\n",
    "model.add(LSTM(units=48, return_sequences=True))\n",
    "model.add(Dropout(0.2))\n",
    "model.add(LSTM(units=48,return_sequences=False))\n",
    "model.add(Dropout(0.3))\n",
    "model.add(Dense(units = look_lag))\n",
    "model.compile(optimizer = 'adam', loss = 'mean_squared_error')  \n",
    "history = model.fit(train_mainX, train_mainY, epochs = 100,batch_size = 64,validation_split=0.33, shuffle=True)"
   ]
  },
  {
   "cell_type": "code",
   "execution_count": 9,
   "metadata": {},
   "outputs": [
    {
     "data": {
      "text/plain": [
       "[<matplotlib.lines.Line2D at 0x7f2dc8f5a898>]"
      ]
     },
     "execution_count": 9,
     "metadata": {},
     "output_type": "execute_result"
    },
    {
     "data": {
      "image/png": "[encoded data removed]",
      "text/plain": [
       "<Figure size 720x360 with 1 Axes>"
      ]
     },
     "metadata": {
      "needs_background": "light"
     },
     "output_type": "display_data"
    }
   ],
   "source": [
    "pyplot.figure(figsize=(10,5))\n",
    "pyplot.plot(history.history['loss'], label='loss')\n",
    "pyplot.plot(history.history['val_loss'], label='val_loss')"
   ]
  },
  {
   "cell_type": "code",
   "execution_count": 10,
   "metadata": {},
   "outputs": [],
   "source": [
    "testPredict = model.predict(test_mainX)"
   ]
  },
  {
   "cell_type": "code",
   "execution_count": 11,
   "metadata": {},
   "outputs": [
    {
     "data": {
      "text/plain": [
       "array([[32.43289 ],\n",
       "       [32.53606 ],\n",
       "       [32.746674],\n",
       "       ...,\n",
       "       [39.98213 ],\n",
       "       [39.748222],\n",
       "       [39.713245]], dtype=float32)"
      ]
     },
     "execution_count": 11,
     "metadata": {},
     "output_type": "execute_result"
    }
   ],
   "source": [
    "testPredict = testPredict.reshape(-1,1)\n",
    "testPredict = scaler_y.inverse_transform(testPredict)\n",
    "testPredict"
   ]
  },
  {
   "cell_type": "code",
   "execution_count": 12,
   "metadata": {},
   "outputs": [
    {
     "data": {
      "text/plain": [
       "(8640, 1)"
      ]
     },
     "execution_count": 12,
     "metadata": {},
     "output_type": "execute_result"
    }
   ],
   "source": [
    "testPredict.shape"
   ]
  },
  {
   "cell_type": "code",
   "execution_count": 13,
   "metadata": {},
   "outputs": [
    {
     "data": {
      "text/plain": [
       "(8640, 1)"
      ]
     },
     "execution_count": 13,
     "metadata": {},
     "output_type": "execute_result"
    }
   ],
   "source": [
    "test_mainY = test_mainY.reshape(-1,1)\n",
    "test_mainY = scaler_y.inverse_transform(test_mainY)\n",
    "test_mainY.shape"
   ]
  },
  {
   "cell_type": "code",
   "execution_count": 14,
   "metadata": {},
   "outputs": [],
   "source": [
    "from sklearn.metrics import mean_squared_error,mean_absolute_error,r2_score\n",
    "def result(testY,testPredict):\n",
    "    mse = mean_squared_error(testY,testPredict)\n",
    "    mae = mean_absolute_error(testY,testPredict)\n",
    "    r_square = r2_score(testY,testPredict)\n",
    "    print(\"MSE:\",mse)\n",
    "    print(\"MAE:\",mae)\n",
    "    print(\"R_Square:\",r_square)\n",
    "    rmse = math.sqrt(mse)\n",
    "    print(\"RMSE:\",rmse)\n",
    "    capacity = 49.5\n",
    "    print(\"NRMSE:\",1 - rmse/capacity)\n",
    "    p_hme = 0\n",
    "    whole_power = 49.5\n",
    "    for l in range(testY.shape[0]):\n",
    "        if testY[l] <= whole_power * 0.03 and testPredict[l] <= whole_power * 0.03:\n",
    "            continue\n",
    "        p_hme = p_hme + abs(testY[l] / (testY[l] + testPredict[l]) - 0.5) * abs(testPredict[l] -testY[l]) / np.sum(np.abs(testPredict - testY))\n",
    "    p_hme =  1 - 2 * p_hme\n",
    "    print('E', p_hme)"
   ]
  },
  {
   "cell_type": "code",
   "execution_count": 15,
   "metadata": {},
   "outputs": [
    {
     "name": "stdout",
     "output_type": "stream",
     "text": [
      "2019年1-3月结果：\n",
      "MSE: 8.945608\n",
      "MAE: 2.1328292\n",
      "R_Square: 0.9508738262977235\n",
      "RMSE: 2.9909209516532003\n",
      "NRMSE: 0.9395773545120566\n",
      "E [0.8286756]\n",
      "2019年1月结果：\n",
      "MSE: 7.451486\n",
      "MAE: 2.0244963\n",
      "R_Square: 0.9545255779855231\n",
      "RMSE: 2.72974103363071\n",
      "NRMSE: 0.9448537164923089\n",
      "E 0.8841027220750949\n",
      "2019年2月结果：\n",
      "MSE: 9.396779\n",
      "MAE: 2.2439609\n",
      "R_Square: 0.9496846616411225\n",
      "RMSE: 3.0654166210099025\n",
      "NRMSE: 0.9380723914947494\n",
      "E 0.8240004311157612\n",
      "2019年3月结果：\n",
      "MSE: 10.032218\n",
      "MAE: 2.1407852\n",
      "R_Square: 0.9461256368235252\n",
      "RMSE: 3.1673676735470973\n",
      "NRMSE: 0.9360127742717759\n",
      "E 0.7806853338171419\n"
     ]
    }
   ],
   "source": [
    "import numpy as np\n",
    "predictions_1 = testPredict[0:31*96,0]\n",
    "predictions_2 = testPredict[31*96:59*96,0]\n",
    "predictions_3 = testPredict[59*96:90*96,0]\n",
    "\n",
    "test_labels_1 = test_mainY[0:31*96,0]\n",
    "test_labels_2 = test_mainY[31*96:59*96,0]\n",
    "test_labels_3 = test_mainY[59*96:90*96,0]\n",
    "\n",
    "print(\"2019年1-3月结果：\")\n",
    "result(test_mainY,testPredict)\n",
    "print(\"2019年1月结果：\")\n",
    "result(test_labels_1,predictions_1)\n",
    "print(\"2019年2月结果：\")\n",
    "result(test_labels_2,predictions_2)\n",
    "print(\"2019年3月结果：\")\n",
    "result(test_labels_3,predictions_3)"
   ]
  },
  {
   "cell_type": "code",
   "execution_count": 16,
   "metadata": {},
   "outputs": [
    {
     "name": "stdout",
     "output_type": "stream",
     "text": [
      "原始系统准确率:\n",
      "2019年1-3月结果：\n",
      "MSE: 38.90323077467954\n",
      "MAE: 4.73843288221362\n",
      "R_Square: 0.7863569507222773\n",
      "RMSE: 6.237245447685985\n",
      "NRMSE: 0.8739950414608892\n",
      "E [0.66917906]\n",
      "2019年1月结果：\n",
      "MSE: 38.48454371279563\n",
      "MAE: 4.870769504471107\n",
      "R_Square: 0.7651391491589099\n",
      "RMSE: 6.203591194847999\n",
      "NRMSE: 0.8746749253566061\n",
      "E 0.7053141024294813\n",
      "2019年2月结果：\n",
      "MSE: 43.47097008356602\n",
      "MAE: 5.008162211467779\n",
      "R_Square: 0.7672333948800686\n",
      "RMSE: 6.593251859558076\n",
      "NRMSE: 0.8668029927362004\n",
      "E 0.6714997321255596\n",
      "2019年3月结果：\n",
      "MSE: 35.19621781563373\n",
      "MAE: 4.3624697690168945\n",
      "R_Square: 0.8109915717941774\n",
      "RMSE: 5.932640037591504\n",
      "NRMSE: 0.8801486861092626\n",
      "E 0.6264273692486862\n"
     ]
    }
   ],
   "source": [
    "#原系统准确率\n",
    "testorin=dataframe.values[train_size:,0]\n",
    "testorin=testorin.reshape(8640,1)\n",
    "systempredictions_1 = testorin[0:31*96,0]\n",
    "systempredictions_2 = testorin[31*96:59*96,0]\n",
    "systempredictions_3 = testorin[59*96:90*96,0]\n",
    "#原始系统准确率\n",
    "print(\"原始系统准确率:\")\n",
    "print(\"2019年1-3月结果：\")\n",
    "result(test_mainY,testorin)\n",
    "print(\"2019年1月结果：\")\n",
    "result(test_labels_1,systempredictions_1)\n",
    "print(\"2019年2月结果：\")\n",
    "result(test_labels_2,systempredictions_2)\n",
    "print(\"2019年3月结果：\")\n",
    "result(test_labels_3,systempredictions_3)"
   ]
  },
  {
   "cell_type": "code",
   "execution_count": 17,
   "metadata": {},
   "outputs": [],
   "source": [
    "new_data = numpy.hstack([test_mainY,testorin,testPredict])\n",
    "import pandas as pd\n",
    "new_data = pd.DataFrame(new_data,columns= ['实际功率','原系统预测功率','超短期预测功率'])\n",
    "new_data.to_csv('AE_lstm-ushort-93.95.csv', index=False, sep=',')"
   ]
  },
  {
   "cell_type": "code",
   "execution_count": null,
   "metadata": {},
   "outputs": [],
   "source": []
  }
 ],
 "metadata": {
  "kernelspec": {
   "display_name": "conda_tensorflow_py3",
   "language": "python",
   "name": "conda_tensorflow_py3"
  },
  "language_info": {
   "codemirror_mode": {
    "name": "ipython",
    "version": 3
   },
   "file_extension": ".py",
   "mimetype": "text/x-python",
   "name": "python",
   "nbconvert_exporter": "python",
   "pygments_lexer": "ipython3",
   "version": "3.6.5"
  }
 },
 "nbformat": 4,
 "nbformat_minor": 4
}
